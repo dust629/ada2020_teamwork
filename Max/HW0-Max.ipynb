{
 "cells": [
  {
   "cell_type": "code",
   "execution_count": 19,
   "metadata": {},
   "outputs": [],
   "source": [
    "import numpy as np"
   ]
  },
  {
   "cell_type": "code",
   "execution_count": 20,
   "metadata": {},
   "outputs": [
    {
     "name": "stdout",
     "output_type": "stream",
     "text": [
      "[[  nan   nan   nan ...   nan   nan   nan]\n",
      " [  nan 2012.   nan ...  100.   nan   nan]\n",
      " [  nan 2012.   nan ...  100.   nan   nan]\n",
      " ...\n",
      " [  nan 2014.   nan ...  100.   nan   nan]\n",
      " [  nan 2014.   nan ...  260.   nan   nan]\n",
      " [  nan 2014.   nan ...  100.   nan   nan]]\n"
     ]
    }
   ],
   "source": [
    "from numpy import genfromtxt\n",
    "gun_data = genfromtxt('guns-data-master/full_data.csv', delimiter=',')\n",
    "print(gun_data)"
   ]
  },
  {
   "cell_type": "code",
   "execution_count": 21,
   "metadata": {},
   "outputs": [
    {
     "data": {
      "text/html": [
       "<div>\n",
       "<style scoped>\n",
       "    .dataframe tbody tr th:only-of-type {\n",
       "        vertical-align: middle;\n",
       "    }\n",
       "\n",
       "    .dataframe tbody tr th {\n",
       "        vertical-align: top;\n",
       "    }\n",
       "\n",
       "    .dataframe thead th {\n",
       "        text-align: right;\n",
       "    }\n",
       "</style>\n",
       "<table border=\"1\" class=\"dataframe\">\n",
       "  <thead>\n",
       "    <tr style=\"text-align: right;\">\n",
       "      <th></th>\n",
       "      <th>Unnamed: 0</th>\n",
       "      <th>year</th>\n",
       "      <th>month</th>\n",
       "      <th>intent</th>\n",
       "      <th>police</th>\n",
       "      <th>sex</th>\n",
       "      <th>age</th>\n",
       "      <th>race</th>\n",
       "      <th>hispanic</th>\n",
       "      <th>place</th>\n",
       "      <th>education</th>\n",
       "    </tr>\n",
       "  </thead>\n",
       "  <tbody>\n",
       "    <tr>\n",
       "      <th>0</th>\n",
       "      <td>1</td>\n",
       "      <td>2012</td>\n",
       "      <td>1</td>\n",
       "      <td>Suicide</td>\n",
       "      <td>0</td>\n",
       "      <td>M</td>\n",
       "      <td>34.0</td>\n",
       "      <td>Asian/Pacific Islander</td>\n",
       "      <td>100</td>\n",
       "      <td>Home</td>\n",
       "      <td>BA+</td>\n",
       "    </tr>\n",
       "    <tr>\n",
       "      <th>1</th>\n",
       "      <td>2</td>\n",
       "      <td>2012</td>\n",
       "      <td>1</td>\n",
       "      <td>Suicide</td>\n",
       "      <td>0</td>\n",
       "      <td>F</td>\n",
       "      <td>21.0</td>\n",
       "      <td>White</td>\n",
       "      <td>100</td>\n",
       "      <td>Street</td>\n",
       "      <td>Some college</td>\n",
       "    </tr>\n",
       "    <tr>\n",
       "      <th>2</th>\n",
       "      <td>3</td>\n",
       "      <td>2012</td>\n",
       "      <td>1</td>\n",
       "      <td>Suicide</td>\n",
       "      <td>0</td>\n",
       "      <td>M</td>\n",
       "      <td>60.0</td>\n",
       "      <td>White</td>\n",
       "      <td>100</td>\n",
       "      <td>Other specified</td>\n",
       "      <td>BA+</td>\n",
       "    </tr>\n",
       "    <tr>\n",
       "      <th>3</th>\n",
       "      <td>4</td>\n",
       "      <td>2012</td>\n",
       "      <td>2</td>\n",
       "      <td>Suicide</td>\n",
       "      <td>0</td>\n",
       "      <td>M</td>\n",
       "      <td>64.0</td>\n",
       "      <td>White</td>\n",
       "      <td>100</td>\n",
       "      <td>Home</td>\n",
       "      <td>BA+</td>\n",
       "    </tr>\n",
       "    <tr>\n",
       "      <th>4</th>\n",
       "      <td>5</td>\n",
       "      <td>2012</td>\n",
       "      <td>2</td>\n",
       "      <td>Suicide</td>\n",
       "      <td>0</td>\n",
       "      <td>M</td>\n",
       "      <td>31.0</td>\n",
       "      <td>White</td>\n",
       "      <td>100</td>\n",
       "      <td>Other specified</td>\n",
       "      <td>HS/GED</td>\n",
       "    </tr>\n",
       "    <tr>\n",
       "      <th>...</th>\n",
       "      <td>...</td>\n",
       "      <td>...</td>\n",
       "      <td>...</td>\n",
       "      <td>...</td>\n",
       "      <td>...</td>\n",
       "      <td>...</td>\n",
       "      <td>...</td>\n",
       "      <td>...</td>\n",
       "      <td>...</td>\n",
       "      <td>...</td>\n",
       "      <td>...</td>\n",
       "    </tr>\n",
       "    <tr>\n",
       "      <th>100793</th>\n",
       "      <td>100794</td>\n",
       "      <td>2014</td>\n",
       "      <td>12</td>\n",
       "      <td>Homicide</td>\n",
       "      <td>0</td>\n",
       "      <td>M</td>\n",
       "      <td>36.0</td>\n",
       "      <td>Black</td>\n",
       "      <td>100</td>\n",
       "      <td>Home</td>\n",
       "      <td>HS/GED</td>\n",
       "    </tr>\n",
       "    <tr>\n",
       "      <th>100794</th>\n",
       "      <td>100795</td>\n",
       "      <td>2014</td>\n",
       "      <td>12</td>\n",
       "      <td>Homicide</td>\n",
       "      <td>0</td>\n",
       "      <td>M</td>\n",
       "      <td>19.0</td>\n",
       "      <td>Black</td>\n",
       "      <td>100</td>\n",
       "      <td>Street</td>\n",
       "      <td>HS/GED</td>\n",
       "    </tr>\n",
       "    <tr>\n",
       "      <th>100795</th>\n",
       "      <td>100796</td>\n",
       "      <td>2014</td>\n",
       "      <td>12</td>\n",
       "      <td>Homicide</td>\n",
       "      <td>0</td>\n",
       "      <td>M</td>\n",
       "      <td>20.0</td>\n",
       "      <td>Black</td>\n",
       "      <td>100</td>\n",
       "      <td>Street</td>\n",
       "      <td>HS/GED</td>\n",
       "    </tr>\n",
       "    <tr>\n",
       "      <th>100796</th>\n",
       "      <td>100797</td>\n",
       "      <td>2014</td>\n",
       "      <td>12</td>\n",
       "      <td>Homicide</td>\n",
       "      <td>0</td>\n",
       "      <td>M</td>\n",
       "      <td>22.0</td>\n",
       "      <td>Hispanic</td>\n",
       "      <td>260</td>\n",
       "      <td>Street</td>\n",
       "      <td>Less than HS</td>\n",
       "    </tr>\n",
       "    <tr>\n",
       "      <th>100797</th>\n",
       "      <td>100798</td>\n",
       "      <td>2014</td>\n",
       "      <td>10</td>\n",
       "      <td>Homicide</td>\n",
       "      <td>0</td>\n",
       "      <td>M</td>\n",
       "      <td>43.0</td>\n",
       "      <td>Black</td>\n",
       "      <td>100</td>\n",
       "      <td>Other unspecified</td>\n",
       "      <td>HS/GED</td>\n",
       "    </tr>\n",
       "  </tbody>\n",
       "</table>\n",
       "<p>100798 rows × 11 columns</p>\n",
       "</div>"
      ],
      "text/plain": [
       "        Unnamed: 0  year  month    intent  police sex   age  \\\n",
       "0                1  2012      1   Suicide       0   M  34.0   \n",
       "1                2  2012      1   Suicide       0   F  21.0   \n",
       "2                3  2012      1   Suicide       0   M  60.0   \n",
       "3                4  2012      2   Suicide       0   M  64.0   \n",
       "4                5  2012      2   Suicide       0   M  31.0   \n",
       "...            ...   ...    ...       ...     ...  ..   ...   \n",
       "100793      100794  2014     12  Homicide       0   M  36.0   \n",
       "100794      100795  2014     12  Homicide       0   M  19.0   \n",
       "100795      100796  2014     12  Homicide       0   M  20.0   \n",
       "100796      100797  2014     12  Homicide       0   M  22.0   \n",
       "100797      100798  2014     10  Homicide       0   M  43.0   \n",
       "\n",
       "                          race  hispanic              place     education  \n",
       "0       Asian/Pacific Islander       100               Home           BA+  \n",
       "1                        White       100             Street  Some college  \n",
       "2                        White       100    Other specified           BA+  \n",
       "3                        White       100               Home           BA+  \n",
       "4                        White       100    Other specified        HS/GED  \n",
       "...                        ...       ...                ...           ...  \n",
       "100793                   Black       100               Home        HS/GED  \n",
       "100794                   Black       100             Street        HS/GED  \n",
       "100795                   Black       100             Street        HS/GED  \n",
       "100796                Hispanic       260             Street  Less than HS  \n",
       "100797                   Black       100  Other unspecified        HS/GED  \n",
       "\n",
       "[100798 rows x 11 columns]"
      ]
     },
     "execution_count": 21,
     "metadata": {},
     "output_type": "execute_result"
    }
   ],
   "source": [
    "import pandas as pd\n",
    "gun_data=pd.read_csv('guns-data-master/full_data.csv', sep=',')\n",
    "gun_data"
   ]
  },
  {
   "cell_type": "markdown",
   "metadata": {},
   "source": [
    "1) Nearly two-thirds of gun deaths are suicides.  \n",
    "2) More than 85 percent of suicide victims are male.  \n",
    "3) Around a third of all gun deaths are homicides.  \n",
    "4) Around two-thirds of homicide victims who are males in the age-group of 15--34 are black.  \n",
    "5) Women constitue only 15 percent of the total homicide victims."
   ]
  },
  {
   "cell_type": "code",
   "execution_count": 31,
   "metadata": {},
   "outputs": [
    {
     "name": "stdout",
     "output_type": "stream",
     "text": [
      "1) Ratio of suicide deaths:  0.6267485465981468 vs 2/3 suggested.\n"
     ]
    }
   ],
   "source": [
    "total_deaths = len(gun_data)\n",
    "\n",
    "suicides_count = len(gun_data[(gun_data['intent'] == 'Suicide')])\n",
    "\n",
    "print(\"1) Ratio of suicide deaths: \", suicides_count/total_deaths, \"vs 2/3 suggested.\")\n"
   ]
  },
  {
   "cell_type": "code",
   "execution_count": 34,
   "metadata": {},
   "outputs": [
    {
     "name": "stdout",
     "output_type": "stream",
     "text": [
      "2) Ratio of male suicide victimes:  0.8624614166996438 vs 0.85 suggested\n"
     ]
    }
   ],
   "source": [
    "suicides_males = len(gun_data[(gun_data['intent'] == 'Suicide') & \n",
    "                          (gun_data['sex'] == 'M')])\n",
    "print(\"2) Ratio of male suicide victimes: \", suicides_males/suicides_count, \"vs 0.85 suggested\")"
   ]
  },
  {
   "cell_type": "code",
   "execution_count": 36,
   "metadata": {},
   "outputs": [
    {
     "name": "stdout",
     "output_type": "stream",
     "text": [
      "3) Ratio of homocide deaths:  0.34897517807893014 vs 1/3 suggested\n"
     ]
    }
   ],
   "source": [
    "homicides_count = len(gun_data[(gun_data['intent'] == 'Homicide')])\n",
    "print(\"3) Ratio of homocide deaths: \", homicides_count/total_deaths, \"vs 1/3 suggested\")"
   ]
  },
  {
   "cell_type": "code",
   "execution_count": 37,
   "metadata": {},
   "outputs": [
    {
     "name": "stdout",
     "output_type": "stream",
     "text": [
      "4) Ratio of homicide victims who are males in the age-group of 15--34 that are black:  0.6612985685071575 vs 2/3 suggested\n"
     ]
    }
   ],
   "source": [
    "homi_m_1534_black = len(gun_data[(gun_data['intent'] == 'Homicide') & \n",
    "                  (gun_data['sex'] == 'M') & \n",
    "                  (gun_data['age'] >= 15) &\n",
    "                  (gun_data['age'] <= 34) &\n",
    "                  (gun_data['race'] == 'Black')])\n",
    "\n",
    "homi_m_1534 = len(gun_data[(gun_data['intent'] == 'Homicide') & \n",
    "                  (gun_data['sex'] == 'M') & \n",
    "                  (gun_data['age'] >= 15) &\n",
    "                  (gun_data['age'] <= 34)])\n",
    "\n",
    "print(\"4) Ratio of homicide victims who are males in the age-group of 15--34 that are black: \", homi_m_1534_black/homi_m_1534, \"vs 2/3 suggested\")\n"
   ]
  },
  {
   "cell_type": "code",
   "execution_count": 42,
   "metadata": {},
   "outputs": [
    {
     "name": "stdout",
     "output_type": "stream",
     "text": [
      "5) Ratio of females within homocide victims:  0.15274619058448943 vs 0.15 suggested\n"
     ]
    }
   ],
   "source": [
    "homicides_count = len(gun_data[(gun_data['intent'] == 'Homicide')])\n",
    "\n",
    "homicides_females = len(gun_data[(gun_data['intent'] == 'Homicide') & \n",
    "                             (gun_data['sex'] == 'F')])\n",
    "\n",
    "print(\"5) Ratio of females within homocide victims: \", homicides_females/homicides_count, \"vs 0.15 suggested\")"
   ]
  }
 ],
 "metadata": {
  "kernelspec": {
   "display_name": "Python 3",
   "language": "python",
   "name": "python3"
  },
  "language_info": {
   "codemirror_mode": {
    "name": "ipython",
    "version": 3
   },
   "file_extension": ".py",
   "mimetype": "text/x-python",
   "name": "python",
   "nbconvert_exporter": "python",
   "pygments_lexer": "ipython3",
   "version": "3.8.3"
  }
 },
 "nbformat": 4,
 "nbformat_minor": 4
}
