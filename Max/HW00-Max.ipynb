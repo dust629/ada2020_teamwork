{
 "cells": [
  {
   "cell_type": "code",
   "execution_count": 1,
   "metadata": {},
   "outputs": [],
   "source": [
    "import numpy as np"
   ]
  },
  {
   "cell_type": "code",
   "execution_count": 2,
   "metadata": {},
   "outputs": [
    {
     "name": "stdout",
     "output_type": "stream",
     "text": [
      "[[           nan            nan            nan ...            nan\n",
      "             nan            nan]\n",
      " [           nan            nan            nan ... 3.35990000e+04\n",
      "  3.16299978e+08 1.06000000e+01]\n",
      " [           nan            nan            nan ... 2.20790000e+04\n",
      "  1.97369634e+08 1.12000000e+01]\n",
      " ...\n",
      " [           nan            nan            nan ... 0.00000000e+00\n",
      "  0.00000000e+00            nan]\n",
      " [           nan            nan            nan ... 0.00000000e+00\n",
      "  0.00000000e+00            nan]\n",
      " [           nan            nan            nan ... 0.00000000e+00\n",
      "  0.00000000e+00            nan]]\n"
     ]
    }
   ],
   "source": [
    "from numpy import genfromtxt\n",
    "gun_data = genfromtxt('guns-data-master/interactive_data.csv', delimiter=',')\n",
    "print(gun_data)"
   ]
  },
  {
   "cell_type": "code",
   "execution_count": 7,
   "metadata": {},
   "outputs": [
    {
     "data": {
      "text/html": [
       "<div>\n",
       "<style scoped>\n",
       "    .dataframe tbody tr th:only-of-type {\n",
       "        vertical-align: middle;\n",
       "    }\n",
       "\n",
       "    .dataframe tbody tr th {\n",
       "        vertical-align: top;\n",
       "    }\n",
       "\n",
       "    .dataframe thead th {\n",
       "        text-align: right;\n",
       "    }\n",
       "</style>\n",
       "<table border=\"1\" class=\"dataframe\">\n",
       "  <thead>\n",
       "    <tr style=\"text-align: right;\">\n",
       "      <th></th>\n",
       "      <th>Unnamed: 0</th>\n",
       "      <th>Intent</th>\n",
       "      <th>Gender</th>\n",
       "      <th>Age</th>\n",
       "      <th>Race</th>\n",
       "      <th>Deaths</th>\n",
       "      <th>Population</th>\n",
       "      <th>Rate</th>\n",
       "    </tr>\n",
       "  </thead>\n",
       "  <tbody>\n",
       "    <tr>\n",
       "      <th>0</th>\n",
       "      <td>1</td>\n",
       "      <td>None selected</td>\n",
       "      <td>None selected</td>\n",
       "      <td>None selected</td>\n",
       "      <td>None selected</td>\n",
       "      <td>33599</td>\n",
       "      <td>316299978</td>\n",
       "      <td>10.6</td>\n",
       "    </tr>\n",
       "    <tr>\n",
       "      <th>1</th>\n",
       "      <td>2</td>\n",
       "      <td>None selected</td>\n",
       "      <td>None selected</td>\n",
       "      <td>None selected</td>\n",
       "      <td>White</td>\n",
       "      <td>22079</td>\n",
       "      <td>197369634</td>\n",
       "      <td>11.2</td>\n",
       "    </tr>\n",
       "    <tr>\n",
       "      <th>2</th>\n",
       "      <td>3</td>\n",
       "      <td>None selected</td>\n",
       "      <td>None selected</td>\n",
       "      <td>None selected</td>\n",
       "      <td>Black</td>\n",
       "      <td>7765</td>\n",
       "      <td>38896382</td>\n",
       "      <td>20.0</td>\n",
       "    </tr>\n",
       "    <tr>\n",
       "      <th>3</th>\n",
       "      <td>4</td>\n",
       "      <td>None selected</td>\n",
       "      <td>None selected</td>\n",
       "      <td>None selected</td>\n",
       "      <td>Hispanic</td>\n",
       "      <td>3007</td>\n",
       "      <td>54049078</td>\n",
       "      <td>5.6</td>\n",
       "    </tr>\n",
       "    <tr>\n",
       "      <th>4</th>\n",
       "      <td>5</td>\n",
       "      <td>None selected</td>\n",
       "      <td>None selected</td>\n",
       "      <td>None selected</td>\n",
       "      <td>Asian/Pacific Islander</td>\n",
       "      <td>442</td>\n",
       "      <td>16315561</td>\n",
       "      <td>2.7</td>\n",
       "    </tr>\n",
       "    <tr>\n",
       "      <th>...</th>\n",
       "      <td>...</td>\n",
       "      <td>...</td>\n",
       "      <td>...</td>\n",
       "      <td>...</td>\n",
       "      <td>...</td>\n",
       "      <td>...</td>\n",
       "      <td>...</td>\n",
       "      <td>...</td>\n",
       "    </tr>\n",
       "    <tr>\n",
       "      <th>535</th>\n",
       "      <td>536</td>\n",
       "      <td>Unknown</td>\n",
       "      <td>Male</td>\n",
       "      <td>5</td>\n",
       "      <td>White</td>\n",
       "      <td>0</td>\n",
       "      <td>0</td>\n",
       "      <td>NaN</td>\n",
       "    </tr>\n",
       "    <tr>\n",
       "      <th>536</th>\n",
       "      <td>537</td>\n",
       "      <td>Unknown</td>\n",
       "      <td>Male</td>\n",
       "      <td>5</td>\n",
       "      <td>Black</td>\n",
       "      <td>0</td>\n",
       "      <td>0</td>\n",
       "      <td>NaN</td>\n",
       "    </tr>\n",
       "    <tr>\n",
       "      <th>537</th>\n",
       "      <td>538</td>\n",
       "      <td>Unknown</td>\n",
       "      <td>Male</td>\n",
       "      <td>5</td>\n",
       "      <td>Hispanic</td>\n",
       "      <td>0</td>\n",
       "      <td>0</td>\n",
       "      <td>NaN</td>\n",
       "    </tr>\n",
       "    <tr>\n",
       "      <th>538</th>\n",
       "      <td>539</td>\n",
       "      <td>Unknown</td>\n",
       "      <td>Male</td>\n",
       "      <td>5</td>\n",
       "      <td>Asian/Pacific Islander</td>\n",
       "      <td>0</td>\n",
       "      <td>0</td>\n",
       "      <td>NaN</td>\n",
       "    </tr>\n",
       "    <tr>\n",
       "      <th>539</th>\n",
       "      <td>540</td>\n",
       "      <td>Unknown</td>\n",
       "      <td>Male</td>\n",
       "      <td>5</td>\n",
       "      <td>Other</td>\n",
       "      <td>0</td>\n",
       "      <td>0</td>\n",
       "      <td>NaN</td>\n",
       "    </tr>\n",
       "  </tbody>\n",
       "</table>\n",
       "<p>540 rows × 8 columns</p>\n",
       "</div>"
      ],
      "text/plain": [
       "     Unnamed: 0         Intent         Gender            Age  \\\n",
       "0             1  None selected  None selected  None selected   \n",
       "1             2  None selected  None selected  None selected   \n",
       "2             3  None selected  None selected  None selected   \n",
       "3             4  None selected  None selected  None selected   \n",
       "4             5  None selected  None selected  None selected   \n",
       "..          ...            ...            ...            ...   \n",
       "535         536        Unknown           Male              5   \n",
       "536         537        Unknown           Male              5   \n",
       "537         538        Unknown           Male              5   \n",
       "538         539        Unknown           Male              5   \n",
       "539         540        Unknown           Male              5   \n",
       "\n",
       "                       Race  Deaths  Population  Rate  \n",
       "0             None selected   33599   316299978  10.6  \n",
       "1                     White   22079   197369634  11.2  \n",
       "2                     Black    7765    38896382  20.0  \n",
       "3                  Hispanic    3007    54049078   5.6  \n",
       "4    Asian/Pacific Islander     442    16315561   2.7  \n",
       "..                      ...     ...         ...   ...  \n",
       "535                   White       0           0   NaN  \n",
       "536                   Black       0           0   NaN  \n",
       "537                Hispanic       0           0   NaN  \n",
       "538  Asian/Pacific Islander       0           0   NaN  \n",
       "539                   Other       0           0   NaN  \n",
       "\n",
       "[540 rows x 8 columns]"
      ]
     },
     "execution_count": 7,
     "metadata": {},
     "output_type": "execute_result"
    }
   ],
   "source": [
    "import pandas as pd\n",
    "gun_data=pd.read_csv('guns-data-master/interactive_data.csv', sep=',')\n",
    "gun_data"
   ]
  },
  {
   "cell_type": "markdown",
   "metadata": {},
   "source": [
    "1) Nearly two-thirds of gun deaths are suicides.  \n",
    "2) More than 85 percent of suicide victims are male.  \n",
    "3) Around a third of all gun deaths are homicides.  \n",
    "4) Around two-thirds of homicide victims who are males in the age-group of 15--34 are black.  \n",
    "5) Women constitue only 15 percent of the total homicide victims."
   ]
  },
  {
   "cell_type": "code",
   "execution_count": 82,
   "metadata": {},
   "outputs": [
    {
     "name": "stdout",
     "output_type": "stream",
     "text": [
      "1) Ratio of suicide deaths:  0.3133747535250567 vs 2/3 suggested.\n"
     ]
    }
   ],
   "source": [
    "total_deaths = gun_data['Deaths'].sum()\n",
    "\n",
    "suicides_count = gun_data[(gun_data['Intent'] == 'Suicide')]['Deaths'].sum()\n",
    "\n",
    "print(\"1) Ratio of suicide deaths: \", suicides_count/total_deaths, \"vs 2/3 suggested.\")\n"
   ]
  },
  {
   "cell_type": "markdown",
   "metadata": {},
   "source": [
    "??? How do we consider cases with 'None selected' or 'unknown' ?"
   ]
  },
  {
   "cell_type": "code",
   "execution_count": 83,
   "metadata": {},
   "outputs": [
    {
     "name": "stdout",
     "output_type": "stream",
     "text": [
      "2) Ratio of male suicide victimes:  0.4312256624560737 vs 0.85 suggested\n"
     ]
    }
   ],
   "source": [
    "suicides_males = gun_data[(gun_data['Intent'] == 'Suicide') & \n",
    "                          (gun_data['Gender'] == 'Male')]['Deaths'].sum()\n",
    "print(\"2) Ratio of male suicide victimes: \", suicides_males/suicides_count, \"vs 0.85 suggested\")"
   ]
  },
  {
   "cell_type": "code",
   "execution_count": 81,
   "metadata": {},
   "outputs": [
    {
     "name": "stdout",
     "output_type": "stream",
     "text": [
      "3) Ratio of homocide deaths:  0.17450053945459282 vs 1/3 suggested\n"
     ]
    }
   ],
   "source": [
    "homicides_count = gun_data[(gun_data['Intent'] == 'Homicide')]['Deaths'].sum()\n",
    "print(\"3) Ratio of homocide deaths: \", homicides_count/total_deaths, \"vs 1/3 suggested\")"
   ]
  },
  {
   "cell_type": "code",
   "execution_count": 84,
   "metadata": {},
   "outputs": [
    {
     "name": "stdout",
     "output_type": "stream",
     "text": [
      "4) Ratio of homicide victims who are males in the age-group of 15--34 that are black:  0.33064949006977995 vs 2/3 suggested\n"
     ]
    }
   ],
   "source": [
    "homo_m_1534_black = gun_data[(gun_data['Intent'] == 'Homicide') & \n",
    "                  (gun_data['Gender'] == 'Male') & \n",
    "                  (gun_data['Age'] == '15 - 34') &\n",
    "                  (gun_data['Race'] == 'Black')]['Deaths'].sum()\n",
    "\n",
    "homo_m_1534 = gun_data[(gun_data['Intent'] == 'Homicide') & \n",
    "                  (gun_data['Gender'] == 'Male') & \n",
    "                  (gun_data['Age'] == '15 - 34')]['Deaths'].sum()\n",
    "\n",
    "print(\"4) Ratio of homicide victims who are males in the age-group of 15--34 that are black: \", homo_m_1534_black/homo_m_1534, \"vs 2/3 suggested\")\n"
   ]
  },
  {
   "cell_type": "code",
   "execution_count": 85,
   "metadata": {},
   "outputs": [
    {
     "name": "stdout",
     "output_type": "stream",
     "text": [
      "5) Ratio of females within homocide victims:  0.4312256624560737 vs 0.15 suggested\n"
     ]
    }
   ],
   "source": [
    "homocides_count = gun_data[(gun_data['Intent'] == 'Suicide')]['Deaths'].sum()\n",
    "\n",
    "homocides_females = gun_data[(gun_data['Intent'] == 'Homocide') & \n",
    "                             (gun_data['Gender'] == 'Female')]['Deaths'].sum()\n",
    "\n",
    "print(\"5) Ratio of females within homocide victims: \", suicides_males/suicides_count, \"vs 0.15 suggested\")"
   ]
  }
 ],
 "metadata": {
  "kernelspec": {
   "display_name": "Python 3",
   "language": "python",
   "name": "python3"
  },
  "language_info": {
   "codemirror_mode": {
    "name": "ipython",
    "version": 3
   },
   "file_extension": ".py",
   "mimetype": "text/x-python",
   "name": "python",
   "nbconvert_exporter": "python",
   "pygments_lexer": "ipython3",
   "version": "3.8.3"
  }
 },
 "nbformat": 4,
 "nbformat_minor": 4
}
