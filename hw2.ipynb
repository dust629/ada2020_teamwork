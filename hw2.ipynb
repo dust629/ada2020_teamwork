{
 "cells": [
  {
   "cell_type": "markdown",
   "metadata": {},
   "source": [
    "# Homework 2 (HW2)\n",
    "\n",
    "---\n",
    "By the end of this homework we expect you to be able to:\n",
    "1. Preprocess data and make it amenable to statistical analysis and machine learning models;\n",
    "2. Train and test out-of-the-box machine learning models in Python;\n",
    "3. Carry out statistical hypothesis testing;\n",
    "4. Carry out simple multivariate regression analyses;\n",
    "5. Use techniques to control for covariates;\n",
    "---\n",
    "\n",
    "## Important Dates\n",
    "\n",
    "- Homework release: Fri 6 Nov 2020\n",
    "- **Homework due**: Fri 20 Nov 2020, 23:59\n",
    "- Grade release: Mon 30 Nov 2020\n",
    "\n",
    "---\n",
    "\n",
    "##  Some rules\n",
    "\n",
    "1. You are allowed to use any built-in Python library that comes with Anaconda. If you want to use an external library, you have to justify your choice.\n",
    "2. Make sure you use the data folder provided in the repository in **read-only** mode.\n",
    "3. Be sure to provide a textual description of your thought process, the assumptions you made, the solution you implemented, and explanations for your answers. A notebook that only has code cells will not suffice.\n",
    "4. For questions containing the **/Discuss:/** prefix, answer not with code, but with a textual explanation (in markdown).\n",
    "5. Back up any hypotheses and claims with data, since this is an important aspect of the course.\n",
    "6. Please write all your comments in English, and use meaningful variable names in your code. Your repo should have a single notebook (plus the required data files) in the master branch. If there are multiple notebooks present, we will **strictly** not grade anything.\n",
    "7. Also, be sure to hand in a fully-run and evaluated notebook. We will not run your notebook for you, we will grade it as is, which means that only the results contained in your evaluated code cells will be considered, and we will not see the results in unevaluated code cells. In order to check whether everything looks as intended, you can check the rendered notebook on the GitHub website once you have pushed your solution there.\n",
    "8. Make sure to print results or dataframes that confirm you have properly addressed the task.\n",
    "9. Lastly, the grading is done in the *double blind* mode, i.e., the TAs grades an anonymized version of your notebook, so make sure that your notebook **neither has your team name nor the names of the members**.\n",
    "\n",
    "## Context\n",
    "\n",
    "Publishing papers is a big part of the lives of [Ph.D. students](http://phdcomics.com/comics/archive.php?comicid=154), [post-docs](http://phdcomics.com/comics/archive.php?comicid=1744) and [professors](http://phdcomics.com/comics/archive.php?comicid=1051). \n",
    "In Computer Science, publishing happens mostly in conferences. What follows is a slight simplification of how these conferences decide which papers to accept and which papers to reject.\n",
    " \n",
    "Every year, scholars submit papers to prestigious conferences. The papers are then assigned to reviewers (usually around 3), who are other people from the same research community (respect thy neighbor!). Each reviewer weighs in on whether they believe the papers they were assigned are good or bad, and write a review, often along with a score (e.g. +3 Strong Accept, +2 Accept, +1 Weak Accept, 0 Borderline, …,  -3 Strong Reject). Then, in the end, \"special\" reviewers called, \"Area Chairs\" analyze all the reviews that were written for the same paper and decide what gets accepted and what gets rejected. Importantly, throughout this whole dance, reviewers and authors are anonymous. When you're reviewing a paper, you do not know who wrote it. And when you receive the review, you don't know who reviewed it. Because of that, we call this a double-blind reviewing process.\n",
    "\n",
    "An interesting development that has evolved in recent years is the rise of pre-prints. In previous times, researchers often exposed their research to the world only after it had been peer-reviewed and published in a conference or a journal. But recently researchers are much keener to let their ideas out into the world as soon as possible, and they publish their research before it has been approved to any conference or journal, by posting the research on so-called pre-print servers. The most common pre-print server for Computer Science, Physics, and Maths is called [arXiv](https://arxiv.org/), for Biology, an increasingly popular one is [bioRxiv](https://www.biorxiv.org/), for Psychology [psyArXiv](https://psyarxiv.com/) (they are not very creative with the names). Notice that pre-prints and peer-review are not mutually exclusive, in fact, usually, you publish your pre-print, and then you try to publish your work in a peer-reviewed setting.\n",
    "\n",
    "Overall, publishing pre-prints has many benefits. They make science more accessible and hasten the circulation of important results in the academic community. However, a big issue brought forth with pre-prints is that they often break the anonymity in the double-blind reviewing process. For instance, in machine learning, since most papers are published as pre-prints, it is often easy to figure out if the paper you are reviewing is from a famous researcher or a big company with prominent research scientists. From critics' viewpoint, knowing the authors of the papers you are reviewing can bias your reviews. If you know that a given author is famous, you'd be more inclined to take his or her word for granted. If the author is from an institution you’ve never heard about, you are more likely to doubt his or her findings.\n",
    "\n",
    "In this homework, we will take a data-driven deep dive into the world of academic publishing. Can you use your freshly acquired data-science skills to predict which papers are going to make the cut? Are your data analysis skills sharp enough to figure out whether the aforementioned concerns about pre-print issues are justified?\n",
    "\n",
    "\n",
    "## The data\n",
    "\n",
    "The data, whose source has been *\"double-blinded\"* from you, and which has been simplified a bit for the assignment, contains information about submissions to a prestigious machine learning conference called ICLR (pronounced “I-clear”). You can find the dataframe in the git repo for the homework (`./data/dataset_final.csv`). We provide a brief description of the fields you will encounter.\n",
    "\n",
    "- `year`: year the paper has been submitted to ICLR. Notice that we provide data for three years, 2018, 2019, and 2020.\n",
    "\n",
    "\n",
    "- `paper`: title of the paper.\n",
    "\n",
    "\n",
    "- `authors`: names of the authors separated by ;.\n",
    "\n",
    "\n",
    "- `ratings`: mean rating given to the paper by the reviewers.\n",
    "\n",
    "\n",
    "- `decisions`: either Accept if the paper was accepted, or Reject otherwise.\n",
    "\n",
    "\n",
    "- `institution`: institutions for each of the authors, separated by ;.\n",
    "\n",
    "\n",
    "- `csranking`: ranking of the institutions according to csrankings. The better the institution, the better the rank. Notice that, if a paper has more than 1 author, this field will contain multiple values, separated by ;. For institutions that are not in csrankings, the value will be -1.\n",
    "\n",
    "\n",
    "- `categories`: topical categories of the paper. Each number corresponds to a different category: (1) Theory, (2) Computer Vision, (3) Natural Language Processing, (4) Adversarial ML, (5) Generative Modeling, (7) Fairness, (8) Generalization, (9) Optimization, (10) Graphs, (11) Bayesian Methods, (0) Others. A paper may belong to multiple categories, separated by ;.\n",
    "\n",
    "\n",
    "- `authors_citations`: number of citations of each one of the authors, separated by ;.\n",
    "\n",
    "\n",
    "- `authors_publications`: number of publications by each one of the authors, separated by ;.\n",
    "\n",
    "\n",
    "- `authors_hindex`: h-index of each one of the authors, separated by ;. The h-index is an author-level metric that measures both the productivity and citation impact of the publications of a scientist or scholar. It is the maximum value $h$ such that the given author has published $h$ papers that have each been cited at least $h$ times.\n",
    "\n",
    "\n",
    "- `arxiv`: whether the paper was spotted in a pre-print server around the submission period.\n",
    "\n",
    "Also, notice that in this dataframe, when some piece of data was not available, -1 will be used as the value. For example, companies aren't a part of csrankings, so for people who work in big companies, the values are -1 in the field csranking.\n"
   ]
  },
  {
   "cell_type": "markdown",
   "metadata": {},
   "source": [
    "## _Step 1:_ Predicting paper ratings\n",
    "\n",
    "The first part of this homework poses a simple question: Can you predict the ratings the paper will receive given attributes related to its authors? To answer this question, we will build an ML pipeline from scratch, preprocessing the data, training a regression model, and then evaluating it.\n",
    "\n",
    "\n",
    "---\n",
    "\n",
    "### Task 1.1\n",
    "\n",
    "Some of the fields in the data are not very amenable to serve as input to traditional machine learning algorithms. Namely, we have some fields for which there are a varying number of values (e.g. papers with 3 authors will have 3 values in the `author_citations` field, papers with 5 authors will have 5).\n",
    "\n",
    "\n",
    "Your first task is to perform some feature engineering and derive unique values for each paper which you will be able to use in your ML model. \n",
    "More specifically, you must:\n",
    "\n",
    "1. Create 3 new fields in the dataframe corresponding to the median value of the number of citations per author, the number of publications per author, and the h-index per author. So for instance, for the row `authors_publications`, you will create an additional column, e.g. `authors_publications_median`, containing the median number of publications per author in each paper.\n",
    "2. Create another field entitled `reputation` capturing how famous the last author of the paper is. Notice that the last author of the paper is usually the most senior person involved in the project. This field should equal $\\log_{10}\\Big(\\frac{\\#citations}{\\#publications} + 1\\Big)$. Notice that each author in the dataset has at least 1 publication, so you don't risk dividing by 0.\n",
    "3. Create two fields called `has_top_company` and `has_top_institution`. The field `has_top_company` equals 1 if the article contains an author in the following list of companies `[\"Facebook\", \"Google\", \"Microsoft\", \"Deepmind\"]`, and 0 otherwise. The field `has_top_institution` equals 1 if the article contains an author in the top 10 institutions according to CSRankings.\n",
    "4. **Discuss:** How did you handle -1 values in item 1.1.1? Justify your approach.\n",
    "\n",
    "---"
   ]
  },
  {
   "cell_type": "code",
   "execution_count": 1,
   "metadata": {},
   "outputs": [],
   "source": [
    "import pandas as pd\n",
    "import matplotlib.pyplot as plt\n",
    "import numpy as np\n",
    "import statsmodels.formula.api as sm\n",
    "from sklearn.metrics import r2_score\n",
    "from sklearn.linear_model import LinearRegression\n",
    "from sklearn.ensemble import GradientBoostingRegressor\n",
    "from sklearn.model_selection import cross_val_score\n",
    "from scipy.stats import norm\n",
    "from sklearn.utils import resample\n",
    "import seaborn as sns\n",
    "import time"
   ]
  },
  {
   "cell_type": "code",
   "execution_count": 2,
   "metadata": {},
   "outputs": [],
   "source": [
    "#specify the data location\n",
    "DATA_FOLDER = './data/'\n",
    "\n",
    "#load data\n",
    "PUBLICATIONS_DATASET = DATA_FOLDER+\"dataset_final.csv\"\n",
    "publications_data_raw = pd.read_csv(PUBLICATIONS_DATASET, header=0, sep=',', error_bad_lines=False)"
   ]
  },
  {
   "cell_type": "code",
   "execution_count": 3,
   "metadata": {},
   "outputs": [
    {
     "data": {
      "text/html": [
       "<div>\n",
       "<style scoped>\n",
       "    .dataframe tbody tr th:only-of-type {\n",
       "        vertical-align: middle;\n",
       "    }\n",
       "\n",
       "    .dataframe tbody tr th {\n",
       "        vertical-align: top;\n",
       "    }\n",
       "\n",
       "    .dataframe thead th {\n",
       "        text-align: right;\n",
       "    }\n",
       "</style>\n",
       "<table border=\"1\" class=\"dataframe\">\n",
       "  <thead>\n",
       "    <tr style=\"text-align: right;\">\n",
       "      <th></th>\n",
       "      <th>year</th>\n",
       "      <th>paper</th>\n",
       "      <th>authors</th>\n",
       "      <th>ratings</th>\n",
       "      <th>decisions</th>\n",
       "      <th>institution</th>\n",
       "      <th>csranking</th>\n",
       "      <th>categories</th>\n",
       "      <th>authors_citations</th>\n",
       "      <th>authors_publications</th>\n",
       "      <th>authors_hindex</th>\n",
       "      <th>arxiv</th>\n",
       "    </tr>\n",
       "  </thead>\n",
       "  <tbody>\n",
       "    <tr>\n",
       "      <th>0</th>\n",
       "      <td>2018</td>\n",
       "      <td>Certifying Some Distributional Robustness with...</td>\n",
       "      <td>Aman Sinha;Hongseok Namkoong;John Duchi</td>\n",
       "      <td>9.000000</td>\n",
       "      <td>Accept</td>\n",
       "      <td>Stanford University;Stanford University;Stanfo...</td>\n",
       "      <td>4;4;4</td>\n",
       "      <td>4</td>\n",
       "      <td>655;904;12908</td>\n",
       "      <td>42;19;162</td>\n",
       "      <td>8;10;42</td>\n",
       "      <td>True</td>\n",
       "    </tr>\n",
       "    <tr>\n",
       "      <th>1</th>\n",
       "      <td>2018</td>\n",
       "      <td>Parametric Information Bottleneck to Optimize ...</td>\n",
       "      <td>Thanh T. Nguyen;Jaesik Choi</td>\n",
       "      <td>4.666667</td>\n",
       "      <td>Reject</td>\n",
       "      <td>Ulsan National Institute of Science and Techno...</td>\n",
       "      <td>468;468</td>\n",
       "      <td>8</td>\n",
       "      <td>1052;727</td>\n",
       "      <td>86;88</td>\n",
       "      <td>16;15</td>\n",
       "      <td>False</td>\n",
       "    </tr>\n",
       "    <tr>\n",
       "      <th>2</th>\n",
       "      <td>2018</td>\n",
       "      <td>Towards Neural Phrase-based Machine Translation</td>\n",
       "      <td>Po-Sen Huang;Chong Wang;Sitao Huang;Dengyong Z...</td>\n",
       "      <td>6.666667</td>\n",
       "      <td>Accept</td>\n",
       "      <td>Microsoft;Google;University of Illinois, Urban...</td>\n",
       "      <td>-1;-1;3;-1;-1</td>\n",
       "      <td>3;2</td>\n",
       "      <td>1718;17889;161;8800;20766</td>\n",
       "      <td>59;1045;17;78;409</td>\n",
       "      <td>17;54;7;33;63</td>\n",
       "      <td>True</td>\n",
       "    </tr>\n",
       "    <tr>\n",
       "      <th>3</th>\n",
       "      <td>2018</td>\n",
       "      <td>Interactive Grounded Language Acquisition and ...</td>\n",
       "      <td>Haonan Yu;Haichao Zhang;Wei Xu</td>\n",
       "      <td>6.333333</td>\n",
       "      <td>Accept</td>\n",
       "      <td>Baidu;Baidu;Baidu</td>\n",
       "      <td>-1;-1;-1</td>\n",
       "      <td>6;8</td>\n",
       "      <td>890;1382;9553</td>\n",
       "      <td>37;63;557</td>\n",
       "      <td>12;20;44</td>\n",
       "      <td>False</td>\n",
       "    </tr>\n",
       "    <tr>\n",
       "      <th>4</th>\n",
       "      <td>2018</td>\n",
       "      <td>A Boo(n) for Evaluating Architecture Performance</td>\n",
       "      <td>Ondrej Bajgar;Rudolf Kadlec;and Jan Kleindienst</td>\n",
       "      <td>4.666667</td>\n",
       "      <td>Reject</td>\n",
       "      <td>;International Business Machines;International...</td>\n",
       "      <td>-1;-1;-1</td>\n",
       "      <td>0</td>\n",
       "      <td>366;678;658</td>\n",
       "      <td>10;40;76</td>\n",
       "      <td>5;11;9</td>\n",
       "      <td>False</td>\n",
       "    </tr>\n",
       "  </tbody>\n",
       "</table>\n",
       "</div>"
      ],
      "text/plain": [
       "   year                                              paper  \\\n",
       "0  2018  Certifying Some Distributional Robustness with...   \n",
       "1  2018  Parametric Information Bottleneck to Optimize ...   \n",
       "2  2018    Towards Neural Phrase-based Machine Translation   \n",
       "3  2018  Interactive Grounded Language Acquisition and ...   \n",
       "4  2018   A Boo(n) for Evaluating Architecture Performance   \n",
       "\n",
       "                                             authors   ratings decisions  \\\n",
       "0            Aman Sinha;Hongseok Namkoong;John Duchi  9.000000    Accept   \n",
       "1                        Thanh T. Nguyen;Jaesik Choi  4.666667    Reject   \n",
       "2  Po-Sen Huang;Chong Wang;Sitao Huang;Dengyong Z...  6.666667    Accept   \n",
       "3                     Haonan Yu;Haichao Zhang;Wei Xu  6.333333    Accept   \n",
       "4    Ondrej Bajgar;Rudolf Kadlec;and Jan Kleindienst  4.666667    Reject   \n",
       "\n",
       "                                         institution      csranking  \\\n",
       "0  Stanford University;Stanford University;Stanfo...          4;4;4   \n",
       "1  Ulsan National Institute of Science and Techno...        468;468   \n",
       "2  Microsoft;Google;University of Illinois, Urban...  -1;-1;3;-1;-1   \n",
       "3                                  Baidu;Baidu;Baidu       -1;-1;-1   \n",
       "4  ;International Business Machines;International...       -1;-1;-1   \n",
       "\n",
       "  categories          authors_citations authors_publications authors_hindex  \\\n",
       "0          4              655;904;12908            42;19;162        8;10;42   \n",
       "1          8                   1052;727                86;88          16;15   \n",
       "2        3;2  1718;17889;161;8800;20766    59;1045;17;78;409  17;54;7;33;63   \n",
       "3        6;8              890;1382;9553            37;63;557       12;20;44   \n",
       "4          0                366;678;658             10;40;76         5;11;9   \n",
       "\n",
       "   arxiv  \n",
       "0   True  \n",
       "1  False  \n",
       "2   True  \n",
       "3  False  \n",
       "4  False  "
      ]
     },
     "execution_count": 3,
     "metadata": {},
     "output_type": "execute_result"
    }
   ],
   "source": [
    "publications_data = publications_data_raw.copy()\n",
    "publications_data.head()"
   ]
  },
  {
   "cell_type": "markdown",
   "metadata": {},
   "source": [
    "- Task 1.1.1 Create 3 new fields `authors_citations_median`  `authors_publications_median` and `authors_hindex_median`\n",
    "       \n",
    "   - convert string `authors_citations`  `authors_publications` and `authors_hindex` to list and split by \";\" \n",
    "   - compute median for each entitiy"
   ]
  },
  {
   "cell_type": "code",
   "execution_count": 4,
   "metadata": {},
   "outputs": [],
   "source": [
    "# the median value of the number of citations per author, \n",
    "publications_data['authors_citations'] = [np.fromstring(x, dtype=int, sep=';') \n",
    "                                          for x in publications_data.authors_citations]\n",
    "publications_data['authors_citations_median'] = publications_data['authors_citations'].apply(np.median)\n",
    "\n",
    "# the median value of the number of publications per author,\n",
    "publications_data['authors_publications'] = [np.fromstring(x, dtype=int, sep=';') \n",
    "                                             for x in publications_data.authors_publications]\n",
    "publications_data['authors_publications_median'] = publications_data['authors_publications'].apply(np.median)\n",
    "\n",
    "# the median value of the h-index per author \n",
    "publications_data['authors_hindex'] = [np.fromstring(x, dtype=int, sep=';') \n",
    "                                       for x in publications_data.authors_hindex]\n",
    "publications_data['authors_hindex_median'] = publications_data['authors_hindex'].apply(np.median)\n"
   ]
  },
  {
   "cell_type": "markdown",
   "metadata": {},
   "source": [
    "- Task 1.1.2 Create another field `reputation`\n",
    "    - define `reputaion` according to the last author with $\\log_{10}\\Big(\\frac{\\#citations}{\\#publications} + 1\\Big)$"
   ]
  },
  {
   "cell_type": "code",
   "execution_count": 5,
   "metadata": {},
   "outputs": [],
   "source": [
    "# reputaion according to the last author\n",
    "publications_data['reputation']=np.log10(np.array([c[-1] for c in publications_data.authors_citations])/np.array([p[-1] \n",
    "                                                            for p in publications_data.authors_publications])+1)"
   ]
  },
  {
   "cell_type": "markdown",
   "metadata": {},
   "source": [
    "- Task 1.1.3 Create two fields  `has_top_company` and `has_top_institution`\n",
    "    - Converting string `csranking` and `institution` to list and split by \";\" \n",
    "    - If there is at least one raning in `cranking` is between [1,10], then `has_top_institution` is True otherwise False. Since the interval is [1,10], we also filter out those companies with ranking -1, but `has_top_institution` will preserve the information of the companies.\n",
    "    - If the there is at least one institution is on the top companies list `[\"Facebook\", \"Google\", \"Microsoft\", \"Deepmind\"]`, then `has_top_company` is True otherwise Flase, we did not consider cases with Facebook AI Research or Microsoft Research as Top Companies, since they are research institutions and for research institutions, we already considered in `has_top_institution`. We focus companies here in the sense of industry companies. "
   ]
  },
  {
   "cell_type": "code",
   "execution_count": 6,
   "metadata": {},
   "outputs": [],
   "source": [
    "# convert string to a list\n",
    "publications_data['csranking'] =  [np.fromstring(x, dtype=int, sep=';') for x in publications_data.csranking]\n",
    "publications_data['institution'] = [x.split(';') for x in publications_data.institution]"
   ]
  },
  {
   "cell_type": "code",
   "execution_count": 7,
   "metadata": {},
   "outputs": [],
   "source": [
    "#check if the there is at least a ranking is top 10 \n",
    "publications_data['has_top_institution'] = [np.any(np.logical_and(ranks>0 ,ranks<11)) for ranks in publications_data.csranking] #ranking interval is [1,10]"
   ]
  },
  {
   "cell_type": "code",
   "execution_count": 8,
   "metadata": {},
   "outputs": [],
   "source": [
    "#check if there is at lear a top company in instituiton\n",
    "top_comanies = [\"Facebook\", \"Google\", \"Microsoft\", \"Deepmind\"]\n",
    "publications_data['has_top_company'] = [len(set(x).intersection(top_comanies))>0 for x in publications_data.institution]"
   ]
  },
  {
   "cell_type": "code",
   "execution_count": 9,
   "metadata": {},
   "outputs": [
    {
     "data": {
      "text/html": [
       "<div>\n",
       "<style scoped>\n",
       "    .dataframe tbody tr th:only-of-type {\n",
       "        vertical-align: middle;\n",
       "    }\n",
       "\n",
       "    .dataframe tbody tr th {\n",
       "        vertical-align: top;\n",
       "    }\n",
       "\n",
       "    .dataframe thead th {\n",
       "        text-align: right;\n",
       "    }\n",
       "</style>\n",
       "<table border=\"1\" class=\"dataframe\">\n",
       "  <thead>\n",
       "    <tr style=\"text-align: right;\">\n",
       "      <th></th>\n",
       "      <th>year</th>\n",
       "      <th>paper</th>\n",
       "      <th>authors</th>\n",
       "      <th>ratings</th>\n",
       "      <th>decisions</th>\n",
       "      <th>institution</th>\n",
       "      <th>csranking</th>\n",
       "      <th>categories</th>\n",
       "      <th>authors_citations</th>\n",
       "      <th>authors_publications</th>\n",
       "      <th>authors_hindex</th>\n",
       "      <th>arxiv</th>\n",
       "      <th>authors_citations_median</th>\n",
       "      <th>authors_publications_median</th>\n",
       "      <th>authors_hindex_median</th>\n",
       "      <th>reputation</th>\n",
       "      <th>has_top_institution</th>\n",
       "      <th>has_top_company</th>\n",
       "    </tr>\n",
       "  </thead>\n",
       "  <tbody>\n",
       "    <tr>\n",
       "      <th>0</th>\n",
       "      <td>2018</td>\n",
       "      <td>Certifying Some Distributional Robustness with...</td>\n",
       "      <td>Aman Sinha;Hongseok Namkoong;John Duchi</td>\n",
       "      <td>9.000000</td>\n",
       "      <td>Accept</td>\n",
       "      <td>[Stanford University, Stanford University, Sta...</td>\n",
       "      <td>[4, 4, 4]</td>\n",
       "      <td>4</td>\n",
       "      <td>[655, 904, 12908]</td>\n",
       "      <td>[42, 19, 162]</td>\n",
       "      <td>[8, 10, 42]</td>\n",
       "      <td>True</td>\n",
       "      <td>904.0</td>\n",
       "      <td>42.0</td>\n",
       "      <td>10.0</td>\n",
       "      <td>1.906761</td>\n",
       "      <td>True</td>\n",
       "      <td>False</td>\n",
       "    </tr>\n",
       "    <tr>\n",
       "      <th>1</th>\n",
       "      <td>2018</td>\n",
       "      <td>Parametric Information Bottleneck to Optimize ...</td>\n",
       "      <td>Thanh T. Nguyen;Jaesik Choi</td>\n",
       "      <td>4.666667</td>\n",
       "      <td>Reject</td>\n",
       "      <td>[Ulsan National Institute of Science and Techn...</td>\n",
       "      <td>[468, 468]</td>\n",
       "      <td>8</td>\n",
       "      <td>[1052, 727]</td>\n",
       "      <td>[86, 88]</td>\n",
       "      <td>[16, 15]</td>\n",
       "      <td>False</td>\n",
       "      <td>889.5</td>\n",
       "      <td>87.0</td>\n",
       "      <td>15.5</td>\n",
       "      <td>0.966675</td>\n",
       "      <td>False</td>\n",
       "      <td>False</td>\n",
       "    </tr>\n",
       "    <tr>\n",
       "      <th>2</th>\n",
       "      <td>2018</td>\n",
       "      <td>Towards Neural Phrase-based Machine Translation</td>\n",
       "      <td>Po-Sen Huang;Chong Wang;Sitao Huang;Dengyong Z...</td>\n",
       "      <td>6.666667</td>\n",
       "      <td>Accept</td>\n",
       "      <td>[Microsoft, Google, University of Illinois, Ur...</td>\n",
       "      <td>[-1, -1, 3, -1, -1]</td>\n",
       "      <td>3;2</td>\n",
       "      <td>[1718, 17889, 161, 8800, 20766]</td>\n",
       "      <td>[59, 1045, 17, 78, 409]</td>\n",
       "      <td>[17, 54, 7, 33, 63]</td>\n",
       "      <td>True</td>\n",
       "      <td>8800.0</td>\n",
       "      <td>78.0</td>\n",
       "      <td>33.0</td>\n",
       "      <td>1.714100</td>\n",
       "      <td>True</td>\n",
       "      <td>True</td>\n",
       "    </tr>\n",
       "    <tr>\n",
       "      <th>3</th>\n",
       "      <td>2018</td>\n",
       "      <td>Interactive Grounded Language Acquisition and ...</td>\n",
       "      <td>Haonan Yu;Haichao Zhang;Wei Xu</td>\n",
       "      <td>6.333333</td>\n",
       "      <td>Accept</td>\n",
       "      <td>[Baidu, Baidu, Baidu]</td>\n",
       "      <td>[-1, -1, -1]</td>\n",
       "      <td>6;8</td>\n",
       "      <td>[890, 1382, 9553]</td>\n",
       "      <td>[37, 63, 557]</td>\n",
       "      <td>[12, 20, 44]</td>\n",
       "      <td>False</td>\n",
       "      <td>1382.0</td>\n",
       "      <td>63.0</td>\n",
       "      <td>20.0</td>\n",
       "      <td>1.258896</td>\n",
       "      <td>False</td>\n",
       "      <td>False</td>\n",
       "    </tr>\n",
       "    <tr>\n",
       "      <th>4</th>\n",
       "      <td>2018</td>\n",
       "      <td>A Boo(n) for Evaluating Architecture Performance</td>\n",
       "      <td>Ondrej Bajgar;Rudolf Kadlec;and Jan Kleindienst</td>\n",
       "      <td>4.666667</td>\n",
       "      <td>Reject</td>\n",
       "      <td>[, International Business Machines, Internatio...</td>\n",
       "      <td>[-1, -1, -1]</td>\n",
       "      <td>0</td>\n",
       "      <td>[366, 678, 658]</td>\n",
       "      <td>[10, 40, 76]</td>\n",
       "      <td>[5, 11, 9]</td>\n",
       "      <td>False</td>\n",
       "      <td>658.0</td>\n",
       "      <td>40.0</td>\n",
       "      <td>9.0</td>\n",
       "      <td>0.984882</td>\n",
       "      <td>False</td>\n",
       "      <td>False</td>\n",
       "    </tr>\n",
       "  </tbody>\n",
       "</table>\n",
       "</div>"
      ],
      "text/plain": [
       "   year                                              paper  \\\n",
       "0  2018  Certifying Some Distributional Robustness with...   \n",
       "1  2018  Parametric Information Bottleneck to Optimize ...   \n",
       "2  2018    Towards Neural Phrase-based Machine Translation   \n",
       "3  2018  Interactive Grounded Language Acquisition and ...   \n",
       "4  2018   A Boo(n) for Evaluating Architecture Performance   \n",
       "\n",
       "                                             authors   ratings decisions  \\\n",
       "0            Aman Sinha;Hongseok Namkoong;John Duchi  9.000000    Accept   \n",
       "1                        Thanh T. Nguyen;Jaesik Choi  4.666667    Reject   \n",
       "2  Po-Sen Huang;Chong Wang;Sitao Huang;Dengyong Z...  6.666667    Accept   \n",
       "3                     Haonan Yu;Haichao Zhang;Wei Xu  6.333333    Accept   \n",
       "4    Ondrej Bajgar;Rudolf Kadlec;and Jan Kleindienst  4.666667    Reject   \n",
       "\n",
       "                                         institution            csranking  \\\n",
       "0  [Stanford University, Stanford University, Sta...            [4, 4, 4]   \n",
       "1  [Ulsan National Institute of Science and Techn...           [468, 468]   \n",
       "2  [Microsoft, Google, University of Illinois, Ur...  [-1, -1, 3, -1, -1]   \n",
       "3                              [Baidu, Baidu, Baidu]         [-1, -1, -1]   \n",
       "4  [, International Business Machines, Internatio...         [-1, -1, -1]   \n",
       "\n",
       "  categories                authors_citations     authors_publications  \\\n",
       "0          4                [655, 904, 12908]            [42, 19, 162]   \n",
       "1          8                      [1052, 727]                 [86, 88]   \n",
       "2        3;2  [1718, 17889, 161, 8800, 20766]  [59, 1045, 17, 78, 409]   \n",
       "3        6;8                [890, 1382, 9553]            [37, 63, 557]   \n",
       "4          0                  [366, 678, 658]             [10, 40, 76]   \n",
       "\n",
       "        authors_hindex  arxiv  authors_citations_median  \\\n",
       "0          [8, 10, 42]   True                     904.0   \n",
       "1             [16, 15]  False                     889.5   \n",
       "2  [17, 54, 7, 33, 63]   True                    8800.0   \n",
       "3         [12, 20, 44]  False                    1382.0   \n",
       "4           [5, 11, 9]  False                     658.0   \n",
       "\n",
       "   authors_publications_median  authors_hindex_median  reputation  \\\n",
       "0                         42.0                   10.0    1.906761   \n",
       "1                         87.0                   15.5    0.966675   \n",
       "2                         78.0                   33.0    1.714100   \n",
       "3                         63.0                   20.0    1.258896   \n",
       "4                         40.0                    9.0    0.984882   \n",
       "\n",
       "   has_top_institution  has_top_company  \n",
       "0                 True            False  \n",
       "1                False            False  \n",
       "2                 True             True  \n",
       "3                False            False  \n",
       "4                False            False  "
      ]
     },
     "execution_count": 9,
     "metadata": {},
     "output_type": "execute_result"
    }
   ],
   "source": [
    "publications_data.head()"
   ]
  },
  {
   "cell_type": "markdown",
   "metadata": {},
   "source": [
    "- Task 1.1.4 **Discuss:** How did you handle -1 values in item 1.1.1?"
   ]
  },
  {
   "cell_type": "markdown",
   "metadata": {},
   "source": [
    "CSranking with -1 are those industry institutions, which are not counted in the `has_top_instiution` anyway,\n",
    "so we need to check there is at least a  csranking is between 1 and 10."
   ]
  },
  {
   "cell_type": "markdown",
   "metadata": {},
   "source": [
    "### Task 1.2\n",
    "\n",
    "Now that you have cleaned up your data, your next task is to divide your data into a training set and a testing set. You should do this in two ways:\n",
    "\n",
    "1. First, do it randomly. Split the data into a training set (70%) and a testing set (30%). We refer to these as \"random split\" in the subsequent tasks.\n",
    "2. Second, do it longitudinally. Use the data from 2018 and 2019 for the training set, and the data from 2020 as the testing set. We refer to these as \"longitudinal split\" in the subsequent tasks.\n"
   ]
  },
  {
   "cell_type": "markdown",
   "metadata": {},
   "source": [
    "- Task 1.2.1 random split data with ratio = 0.7"
   ]
  },
  {
   "cell_type": "code",
   "execution_count": 10,
   "metadata": {},
   "outputs": [],
   "source": [
    "# split data with ratio 0.7\n",
    "def split_set(data_to_split, ratio=0.7):\n",
    "    #randomly sample 70% train data from dataset\n",
    "    train = data_to_split.sample(frac=ratio)\n",
    "    #drop train data from dataset\n",
    "    test = data_to_split.drop(train.index)\n",
    "    return train.reset_index(drop=True), test.reset_index(drop=True)"
   ]
  },
  {
   "cell_type": "code",
   "execution_count": 11,
   "metadata": {},
   "outputs": [
    {
     "data": {
      "text/plain": [
       "(2979, 18)"
      ]
     },
     "execution_count": 11,
     "metadata": {},
     "output_type": "execute_result"
    }
   ],
   "source": [
    "split_set(publications_data)[0].shape"
   ]
  },
  {
   "cell_type": "markdown",
   "metadata": {},
   "source": [
    "the ratio of trainning data is 2979/4256 = 0.7 "
   ]
  },
  {
   "cell_type": "markdown",
   "metadata": {},
   "source": [
    "- Task 1.2.2 Longitudinally split data"
   ]
  },
  {
   "cell_type": "code",
   "execution_count": 12,
   "metadata": {},
   "outputs": [],
   "source": [
    "def longitudinal_split(data):\n",
    "    train_long = data.loc[(data['year'] == 2018) | (data['year'] == 2019)]\n",
    "    test_long = data.loc[(data['year'] == 2020)]\n",
    "        \n",
    "    return train_long.reset_index(drop=True),test_long.reset_index(drop=True)"
   ]
  },
  {
   "cell_type": "code",
   "execution_count": 13,
   "metadata": {},
   "outputs": [
    {
     "data": {
      "text/plain": [
       "(2204, 18)"
      ]
     },
     "execution_count": 13,
     "metadata": {},
     "output_type": "execute_result"
    }
   ],
   "source": [
    "longitudinal_split(publications_data)[0].shape"
   ]
  },
  {
   "cell_type": "markdown",
   "metadata": {},
   "source": [
    "### Task 1.3\n",
    "\n",
    "Build a Linear Regression model (use [sklearn](https://scikit-learn.org/stable/)) that predicts the score of a paper (which is in the variable ratings in the dataframe). Train it and test it using the split you previously defined. Your model should use as features:\n",
    "- Median values for the number of author citations, publications and h-indexes, as calculated in Task 1.1.1.\n",
    "\n",
    "- `reputation` of the last author, as calculated in Task 1.1.2.\n",
    "\n",
    "For the two scenarios above (random split and longitudinal split):\n",
    "\n",
    "1. Report the model $R^2$ in each case (for the testing set).\n",
    "2. **Discuss:** Hypothesize a reason why the results are different. Additionally, interpret the $R^2$ value for the longitudinal split. How can it be negative?\n",
    "3. **From now onwards (in this task and the following ones), consider only the random split.** For a given entry $X$ your model outputs a predicted score $Y'$. The difference between the real score $Y$ and the predicted score $Y'$ is called the \"residual\". Plot the distribution of your residuals for the test set. Using this distribution, estimate what is the probability that your prediction is off by more than 2-points? Provide bootstrapped confidence intervals for your answer.\n",
    "4. **Discuss:** Identify three additional features that are already computed in your dataframe and that could boost your model's predictive performance. You are not allowed to use the variable `decisions` as an input here. Before running any experiments, discuss why each of these features might add valuable information to your model.\n",
    "5. Report the $R^2$ (for the test set) for a newly trained model with these additional features. Please note that you do not need to improve the model performance to be successful in this task!\n",
    "\n",
    "**Hint**: [Metrics!](https://scikit-learn.org/stable/modules/classes.html#sklearn-metrics-metrics)"
   ]
  },
  {
   "cell_type": "markdown",
   "metadata": {},
   "source": [
    "- Task 1.3.1  Report the model  𝑅2  for the testing set split randomly and longitudinally "
   ]
  },
  {
   "cell_type": "code",
   "execution_count": 14,
   "metadata": {},
   "outputs": [],
   "source": [
    "#specify the data we need to use \n",
    "features = ['authors_citations_median','authors_publications_median','authors_hindex_median','reputation']\n",
    "prediction='ratings'\n",
    "model_data = publications_data[features+[prediction]+['year']]"
   ]
  },
  {
   "cell_type": "code",
   "execution_count": 15,
   "metadata": {},
   "outputs": [],
   "source": [
    "#split features and label for training\n",
    "def split_x_y(train_data,features,prediction):\n",
    "    x_data = train_data[features]\n",
    "    y_data = train_data[prediction]\n",
    "    return x_data,y_data"
   ]
  },
  {
   "cell_type": "code",
   "execution_count": 16,
   "metadata": {},
   "outputs": [],
   "source": [
    "#train with linear regression and print coefficients\n",
    "def train_lin_reg(X,y,features):\n",
    "    lin_reg = LinearRegression().fit(X, y)\n",
    "    res = ''\n",
    "    for f in range(len(features)):\n",
    "        res +=  str(lin_reg.coef_[f])+\" * \"+features[f]+\" +\"+\"\\n\"\n",
    "    return lin_reg,res+str(lin_reg.intercept_)"
   ]
  },
  {
   "cell_type": "markdown",
   "metadata": {},
   "source": [
    "Processing data with 2 split method and make them ready to train"
   ]
  },
  {
   "cell_type": "code",
   "execution_count": 17,
   "metadata": {},
   "outputs": [],
   "source": [
    "#split data randomly  with ratio 0.7\n",
    "train_data_random,test_data_random = split_set(model_data)\n",
    "\n",
    "#longitudinal split data \n",
    "train_data_long,test_data_long = longitudinal_split(model_data)\n",
    "\n",
    "#needed \"year\" only for longitudinal, drop year after splitting data\n",
    "train_data_random.drop(\"year\", axis = 1, inplace=True)\n",
    "test_data_random.drop(\"year\",axis= 1,inplace = True)\n",
    "train_data_long.drop(\"year\",axis= 1,inplace = True)\n",
    "test_data_long.drop(\"year\",axis= 1,inplace = True)\n",
    "\n",
    "#split x y for training\n",
    "x_train_random,y_train_random = split_x_y(train_data_random,features,prediction)\n",
    "x_test_random,y_test_random = split_x_y(test_data_random,features,prediction)\n",
    "x_train_long,y_train_long = split_x_y(train_data_long,features,prediction)\n",
    "x_test_long,y_test_long = split_x_y(test_data_long,features,prediction)"
   ]
  },
  {
   "cell_type": "markdown",
   "metadata": {},
   "source": [
    "$$y = \\beta_0 + \\beta_1  \\times authors citations median+ \\beta_2  \\times  authors publications median + \\beta_3  \\times authors hindex median + \\beta_4  \\times reputation$$\n"
   ]
  },
  {
   "cell_type": "code",
   "execution_count": 18,
   "metadata": {},
   "outputs": [
    {
     "name": "stdout",
     "output_type": "stream",
     "text": [
      "-4.475366940764598e-05 * authors_citations_median +\n",
      "-0.002629902584557655 * authors_publications_median +\n",
      "0.04762373938560732 * authors_hindex_median +\n",
      "0.561260859062308 * reputation +\n",
      "3.8115104896371017\n"
     ]
    }
   ],
   "source": [
    "#train linear regression model with randomly split data\n",
    "lin_reg_random,res_random = train_lin_reg(x_train_random,y_train_random,features)\n",
    "print(res_random)"
   ]
  },
  {
   "cell_type": "code",
   "execution_count": 19,
   "metadata": {},
   "outputs": [
    {
     "name": "stdout",
     "output_type": "stream",
     "text": [
      "-4.094499993053116e-05 * authors_citations_median +\n",
      "-0.0031912741643067427 * authors_publications_median +\n",
      "0.043107182971214256 * authors_hindex_median +\n",
      "0.5309221364922797 * reputation +\n",
      "4.344552125169359\n"
     ]
    }
   ],
   "source": [
    "#train linear regression model with longitudinal split data\n",
    "lin_reg_long,res_long = train_lin_reg(x_train_long,y_train_long,features)\n",
    "print(res_long)"
   ]
  },
  {
   "cell_type": "code",
   "execution_count": 20,
   "metadata": {},
   "outputs": [
    {
     "name": "stdout",
     "output_type": "stream",
     "text": [
      "R2 score for random split data is 0.09932285886309455\n",
      "R2 score for longitudinal split data is -0.238812131209182\n"
     ]
    }
   ],
   "source": [
    "#make prediction with each model on test data\n",
    "y_pred_long = lin_reg_long.predict(x_test_long)\n",
    "y_pred_random = lin_reg_random.predict(x_test_random)\n",
    "\n",
    "#report r2 score of each model\n",
    "r2_long = r2_score(y_test_long, y_pred_long)\n",
    "r2_random = r2_score(y_test_random, y_pred_random)\n",
    "print(\"R2 score for random split data is {0}\\nR2 score for longitudinal split data is {1}\".format(r2_random,r2_long))"
   ]
  },
  {
   "cell_type": "markdown",
   "metadata": {},
   "source": [
    "- Task 1.3.2 **Discuss**: Hypothesize a reason why the results are different. Additionally, interpret the  𝑅2  value for the longitudinal split. How can it be negative?\n",
    "\n",
    "    - why the results are different  \n",
    "      - For longitudinally split data,  only 2204/4256= 51% data is used for trainning. And for random split data, 70% data is used for training.\n",
    "      - longitudinally split data using year to split, the model made from the data 2018,2019 does not fit 20202 well, as time passes by the  publications and citations of same author could increase.\n",
    "    - negative $R2$ score   \n",
    "    𝑅2 is negative when the chosen model does not follow the trend of the data, so  $𝑆𝑆_{res}$ (residual sum of squares) greater than $𝑆𝑆_{tot}$(the total sum of squares).It simply means that the chosen model fits the data really poorly, we can visually see this from the plot below"
   ]
  },
  {
   "cell_type": "code",
   "execution_count": 21,
   "metadata": {},
   "outputs": [
    {
     "data": {
      "image/png": "[encoded data removed]",
      "text/plain": [
       "<Figure size 864x576 with 1 Axes>"
      ]
     },
     "metadata": {
      "needs_background": "light"
     },
     "output_type": "display_data"
    }
   ],
   "source": [
    "fig, ax = plt.subplots(figsize=(12, 8))\n",
    "ax.scatter(y_test_random, y_pred_random, edgecolors=(0, 0, 0))\n",
    "ax.plot([min(y_test_random), max(y_test_random)], [min(y_test_random), max(y_test_random)], 'r--', lw=4)\n",
    "ax.set_xlabel('Original')\n",
    "ax.set_ylabel('Predicted')\n",
    "ax.set_title(\"Model with randomly split data\")\n",
    "plt.show()"
   ]
  },
  {
   "cell_type": "code",
   "execution_count": 22,
   "metadata": {},
   "outputs": [
    {
     "data": {
      "image/png": "[encoded data removed]",
      "text/plain": [
       "<Figure size 864x576 with 1 Axes>"
      ]
     },
     "metadata": {
      "needs_background": "light"
     },
     "output_type": "display_data"
    }
   ],
   "source": [
    "fig, ax = plt.subplots(figsize=(12, 8))\n",
    "ax.scatter(y_test_long, y_pred_long, edgecolors=(0, 0, 0))\n",
    "ax.plot([min(y_test_long), max(y_test_long)], [min(y_test_long), max(y_test_long)], 'r--', lw=4)\n",
    "ax.set_xlabel('Original')\n",
    "ax.set_ylabel('Predicted')\n",
    "ax.set_title(\"Model with longitudinally split data\")\n",
    "plt.show()"
   ]
  },
  {
   "cell_type": "markdown",
   "metadata": {},
   "source": [
    "- Task 1.3.3  Consider only the random split. For a given entry  𝑋  your model outputs a predicted score  𝑌′ . The difference between the real score  𝑌  and the predicted score  𝑌′  is called the \"residual\". Plot the distribution of your residuals for the test set. Using this distribution, estimate what is the probability that your prediction is off by more than 2-points? Provide bootstrapped confidence intervals for your answer."
   ]
  },
  {
   "cell_type": "code",
   "execution_count": 23,
   "metadata": {},
   "outputs": [
    {
     "name": "stderr",
     "output_type": "stream",
     "text": [
      "/usr/local/lib/python3.6/dist-packages/seaborn/distributions.py:2551: FutureWarning: `distplot` is a deprecated function and will be removed in a future version. Please adapt your code to use either `displot` (a figure-level function with similar flexibility) or `histplot` (an axes-level function for histograms).\n",
      "  warnings.warn(msg, FutureWarning)\n"
     ]
    },
    {
     "data": {
      "image/png": "[encoded data removed]",
      "text/plain": [
       "<Figure size 432x288 with 1 Axes>"
      ]
     },
     "metadata": {
      "needs_background": "light"
     },
     "output_type": "display_data"
    }
   ],
   "source": [
    "#  Plot the distribution of residuals for the test set\n",
    "residuals = np.array(y_pred_random - y_test_random)\n",
    "ax = sns.distplot(residuals)"
   ]
  },
  {
   "cell_type": "code",
   "execution_count": 24,
   "metadata": {},
   "outputs": [
    {
     "name": "stdout",
     "output_type": "stream",
     "text": [
      "According to the distribution we have now, the probability that the prediction is off by more than 2-points is 16.0%\n"
     ]
    }
   ],
   "source": [
    "# make estimate according to the distribution above\n",
    "estimate = (np.abs(residuals)>2).sum() /len(residuals)\n",
    "print('According to the distribution we have now, the probability that the prediction is off by more than 2-points is %.1f%%' % (estimate*100) )"
   ]
  },
  {
   "cell_type": "markdown",
   "metadata": {},
   "source": [
    "- Using bootstrapped confidence intervals to check the certantity\n",
    "    - resample residuals with replacement for n_itreation times\n",
    "    - compute the estimation after each resample\n",
    "    - after N_iteration compute confidential interval with new distribution\n",
    "    - eg. 90% CI is the 5%*N_iteration-th estimation and  95%*N_iteration-th estimation"
   ]
  },
  {
   "cell_type": "code",
   "execution_count": 25,
   "metadata": {},
   "outputs": [],
   "source": [
    "def bootstrap_CI(data,sample_size,n_itera,type_precent,alpha = 0.90):\n",
    "    \n",
    "    # definde 2 ways to compute the estimation for task 1.3 and task 1.5\n",
    "    def calculate_estimation(type_precent,data_samples,sample_size):\n",
    "        #task 1.3 compute the probability the prediction is off 2\n",
    "        if type_precent == 'off2':\n",
    "            return (np.abs(data_samples)>2).sum() /sample_size  \n",
    "        #task 1.5 compute mean of r2 score\n",
    "        if type_precent == 'mean':\n",
    "            return data_samples.mean()\n",
    "        \n",
    "    # run bootstrap\n",
    "    estimation_bst = []\n",
    "    for i in range(n_itera):\n",
    "        #resample sample_size data with replacement \n",
    "        data_samples = resample(data, n_samples=sample_size)\n",
    "        #make estmation with current data_sample\n",
    "        estimation = calculate_estimation(type_precent,data_samples,sample_size)\n",
    "        estimation_bst.append(estimation)\n",
    "    \n",
    "    #  confidence intervals\n",
    "    p = ((1.0-alpha)/2.0) * 100\n",
    "    lower = max(0.0, np.percentile(estimation_bst, p))\n",
    "    p = (alpha+((1.0-alpha)/2.0)) * 100\n",
    "    upper = min(1.0, np.percentile(estimation_bst, p))\n",
    "    return lower,upper, estimation_bst"
   ]
  },
  {
   "cell_type": "code",
   "execution_count": 26,
   "metadata": {},
   "outputs": [
    {
     "name": "stderr",
     "output_type": "stream",
     "text": [
      "/usr/local/lib/python3.6/dist-packages/seaborn/distributions.py:2551: FutureWarning: `distplot` is a deprecated function and will be removed in a future version. Please adapt your code to use either `displot` (a figure-level function with similar flexibility) or `histplot` (an axes-level function for histograms).\n",
      "  warnings.warn(msg, FutureWarning)\n"
     ]
    },
    {
     "name": "stdout",
     "output_type": "stream",
     "text": [
      "90.0% confidence the probability that the prediction is off by more than 2-points is between 14.3% and 17.7%\n"
     ]
    },
    {
     "data": {
      "image/png": "[encoded data removed]",
      "text/plain": [
       "<Figure size 432x288 with 1 Axes>"
      ]
     },
     "metadata": {
      "needs_background": "light"
     },
     "output_type": "display_data"
    }
   ],
   "source": [
    "# configure bootstrap\n",
    "n_itera = 10000\n",
    "sample_size = len(residuals)\n",
    "lower, upper, estimation_bst = bootstrap_CI(residuals,sample_size,n_itera,'off2')\n",
    "\n",
    "#plot estimation distribution\n",
    "sns.distplot(estimation_bst)\n",
    "print('%.1f%% confidence the probability that the prediction is off by more than 2-points is between %.1f%% and %.1f%%' % ( 90,lower*100, upper*100))"
   ]
  },
  {
   "cell_type": "markdown",
   "metadata": {},
   "source": [
    "- Task 1.3.4 **Discuss**: Identify three additional features that are already computed in your dataframe and discuss why each of these features might add valuable information to your model.\n",
    "\n",
    "Extended features\n",
    "`has_top_company` `has_top_institution` `arxiv` are intuitively good choices for features,  as they are three binary features. And in reality `has_top_company` or `has_top_institution` do play a big role in the quality  of papers. As mentioned before, `arxiv` may break double-blind submissions, so the paper could be rated with bias."
   ]
  },
  {
   "cell_type": "markdown",
   "metadata": {},
   "source": [
    "\n",
    "- Task 1.3.5 Report the  𝑅2  (for the test set) for a newly trained model with these additional features.\n",
    "\n",
    "    - Using the same data from task 1.3.1 and preprocessing data for this task\n",
    "    - drop column 'year' since it is not our chosen features and we do not need it to split data\n",
    "    - add extended features"
   ]
  },
  {
   "cell_type": "code",
   "execution_count": 27,
   "metadata": {},
   "outputs": [
    {
     "name": "stderr",
     "output_type": "stream",
     "text": [
      "/usr/local/lib/python3.6/dist-packages/pandas/core/frame.py:4170: SettingWithCopyWarning: \n",
      "A value is trying to be set on a copy of a slice from a DataFrame\n",
      "\n",
      "See the caveats in the documentation: https://pandas.pydata.org/pandas-docs/stable/user_guide/indexing.html#returning-a-view-versus-a-copy\n",
      "  errors=errors,\n"
     ]
    }
   ],
   "source": [
    "# random split does not need 'year' any more\n",
    "model_data.drop(\"year\",axis=1,inplace=True)\n",
    "model_data_ext = model_data.copy()\n",
    "\n",
    "# define extended features\n",
    "extention= ['has_top_company','has_top_institution','arxiv'] \n",
    "\n",
    "model_data_ext['has_top_company'] = publications_data['has_top_company'].astype(int)\n",
    "model_data_ext['has_top_institution'] = publications_data['has_top_institution'].astype(int)\n",
    "model_data_ext['arxiv'] = publications_data['arxiv'].astype(int)"
   ]
  },
  {
   "cell_type": "code",
   "execution_count": 28,
   "metadata": {},
   "outputs": [
    {
     "data": {
      "text/html": [
       "<div>\n",
       "<style scoped>\n",
       "    .dataframe tbody tr th:only-of-type {\n",
       "        vertical-align: middle;\n",
       "    }\n",
       "\n",
       "    .dataframe tbody tr th {\n",
       "        vertical-align: top;\n",
       "    }\n",
       "\n",
       "    .dataframe thead th {\n",
       "        text-align: right;\n",
       "    }\n",
       "</style>\n",
       "<table border=\"1\" class=\"dataframe\">\n",
       "  <thead>\n",
       "    <tr style=\"text-align: right;\">\n",
       "      <th></th>\n",
       "      <th>authors_citations_median</th>\n",
       "      <th>authors_publications_median</th>\n",
       "      <th>authors_hindex_median</th>\n",
       "      <th>reputation</th>\n",
       "      <th>ratings</th>\n",
       "      <th>has_top_company</th>\n",
       "      <th>has_top_institution</th>\n",
       "      <th>arxiv</th>\n",
       "    </tr>\n",
       "  </thead>\n",
       "  <tbody>\n",
       "    <tr>\n",
       "      <th>0</th>\n",
       "      <td>904.0</td>\n",
       "      <td>42.0</td>\n",
       "      <td>10.0</td>\n",
       "      <td>1.906761</td>\n",
       "      <td>9.000000</td>\n",
       "      <td>0</td>\n",
       "      <td>1</td>\n",
       "      <td>1</td>\n",
       "    </tr>\n",
       "    <tr>\n",
       "      <th>1</th>\n",
       "      <td>889.5</td>\n",
       "      <td>87.0</td>\n",
       "      <td>15.5</td>\n",
       "      <td>0.966675</td>\n",
       "      <td>4.666667</td>\n",
       "      <td>0</td>\n",
       "      <td>0</td>\n",
       "      <td>0</td>\n",
       "    </tr>\n",
       "    <tr>\n",
       "      <th>2</th>\n",
       "      <td>8800.0</td>\n",
       "      <td>78.0</td>\n",
       "      <td>33.0</td>\n",
       "      <td>1.714100</td>\n",
       "      <td>6.666667</td>\n",
       "      <td>1</td>\n",
       "      <td>1</td>\n",
       "      <td>1</td>\n",
       "    </tr>\n",
       "    <tr>\n",
       "      <th>3</th>\n",
       "      <td>1382.0</td>\n",
       "      <td>63.0</td>\n",
       "      <td>20.0</td>\n",
       "      <td>1.258896</td>\n",
       "      <td>6.333333</td>\n",
       "      <td>0</td>\n",
       "      <td>0</td>\n",
       "      <td>0</td>\n",
       "    </tr>\n",
       "    <tr>\n",
       "      <th>4</th>\n",
       "      <td>658.0</td>\n",
       "      <td>40.0</td>\n",
       "      <td>9.0</td>\n",
       "      <td>0.984882</td>\n",
       "      <td>4.666667</td>\n",
       "      <td>0</td>\n",
       "      <td>0</td>\n",
       "      <td>0</td>\n",
       "    </tr>\n",
       "    <tr>\n",
       "      <th>...</th>\n",
       "      <td>...</td>\n",
       "      <td>...</td>\n",
       "      <td>...</td>\n",
       "      <td>...</td>\n",
       "      <td>...</td>\n",
       "      <td>...</td>\n",
       "      <td>...</td>\n",
       "      <td>...</td>\n",
       "    </tr>\n",
       "    <tr>\n",
       "      <th>4251</th>\n",
       "      <td>2095.0</td>\n",
       "      <td>102.5</td>\n",
       "      <td>22.0</td>\n",
       "      <td>1.368938</td>\n",
       "      <td>5.000000</td>\n",
       "      <td>0</td>\n",
       "      <td>0</td>\n",
       "      <td>0</td>\n",
       "    </tr>\n",
       "    <tr>\n",
       "      <th>4252</th>\n",
       "      <td>25.0</td>\n",
       "      <td>9.5</td>\n",
       "      <td>1.5</td>\n",
       "      <td>0.577236</td>\n",
       "      <td>4.666667</td>\n",
       "      <td>1</td>\n",
       "      <td>0</td>\n",
       "      <td>0</td>\n",
       "    </tr>\n",
       "    <tr>\n",
       "      <th>4253</th>\n",
       "      <td>1320.0</td>\n",
       "      <td>67.0</td>\n",
       "      <td>8.0</td>\n",
       "      <td>0.670325</td>\n",
       "      <td>4.000000</td>\n",
       "      <td>0</td>\n",
       "      <td>0</td>\n",
       "      <td>1</td>\n",
       "    </tr>\n",
       "    <tr>\n",
       "      <th>4254</th>\n",
       "      <td>563.0</td>\n",
       "      <td>14.0</td>\n",
       "      <td>9.0</td>\n",
       "      <td>1.359447</td>\n",
       "      <td>2.333333</td>\n",
       "      <td>0</td>\n",
       "      <td>0</td>\n",
       "      <td>1</td>\n",
       "    </tr>\n",
       "    <tr>\n",
       "      <th>4255</th>\n",
       "      <td>1878.0</td>\n",
       "      <td>32.5</td>\n",
       "      <td>11.5</td>\n",
       "      <td>1.740191</td>\n",
       "      <td>4.000000</td>\n",
       "      <td>1</td>\n",
       "      <td>0</td>\n",
       "      <td>0</td>\n",
       "    </tr>\n",
       "  </tbody>\n",
       "</table>\n",
       "<p>4256 rows × 8 columns</p>\n",
       "</div>"
      ],
      "text/plain": [
       "      authors_citations_median  authors_publications_median  \\\n",
       "0                        904.0                         42.0   \n",
       "1                        889.5                         87.0   \n",
       "2                       8800.0                         78.0   \n",
       "3                       1382.0                         63.0   \n",
       "4                        658.0                         40.0   \n",
       "...                        ...                          ...   \n",
       "4251                    2095.0                        102.5   \n",
       "4252                      25.0                          9.5   \n",
       "4253                    1320.0                         67.0   \n",
       "4254                     563.0                         14.0   \n",
       "4255                    1878.0                         32.5   \n",
       "\n",
       "      authors_hindex_median  reputation   ratings  has_top_company  \\\n",
       "0                      10.0    1.906761  9.000000                0   \n",
       "1                      15.5    0.966675  4.666667                0   \n",
       "2                      33.0    1.714100  6.666667                1   \n",
       "3                      20.0    1.258896  6.333333                0   \n",
       "4                       9.0    0.984882  4.666667                0   \n",
       "...                     ...         ...       ...              ...   \n",
       "4251                   22.0    1.368938  5.000000                0   \n",
       "4252                    1.5    0.577236  4.666667                1   \n",
       "4253                    8.0    0.670325  4.000000                0   \n",
       "4254                    9.0    1.359447  2.333333                0   \n",
       "4255                   11.5    1.740191  4.000000                1   \n",
       "\n",
       "      has_top_institution  arxiv  \n",
       "0                       1      1  \n",
       "1                       0      0  \n",
       "2                       1      1  \n",
       "3                       0      0  \n",
       "4                       0      0  \n",
       "...                   ...    ...  \n",
       "4251                    0      0  \n",
       "4252                    0      0  \n",
       "4253                    0      1  \n",
       "4254                    0      1  \n",
       "4255                    0      0  \n",
       "\n",
       "[4256 rows x 8 columns]"
      ]
     },
     "execution_count": 28,
     "metadata": {},
     "output_type": "execute_result"
    }
   ],
   "source": [
    "model_data_ext"
   ]
  },
  {
   "cell_type": "markdown",
   "metadata": {},
   "source": [
    "Processing the new data and train the model "
   ]
  },
  {
   "cell_type": "code",
   "execution_count": 29,
   "metadata": {},
   "outputs": [
    {
     "name": "stdout",
     "output_type": "stream",
     "text": [
      "-5.1305875998404035e-05 * authors_citations_median +\n",
      "-0.002611980648133153 * authors_publications_median +\n",
      "0.04850864998990555 * authors_hindex_median +\n",
      "0.455853577493722 * reputation +\n",
      "0.17194987426235064 * has_top_company +\n",
      "0.14227207253952606 * has_top_institution +\n",
      "0.3758127615365131 * arxiv +\n",
      "3.787610384958464\n"
     ]
    }
   ],
   "source": [
    "#add addtional features\n",
    "new_features = features + extention\n",
    "\n",
    "#processing data to make it ready for training\n",
    "train_data_ext, test_data_ext = split_set(model_data_ext)\n",
    "x_train_ext, y_train_ext = split_x_y(train_data_ext,new_features,prediction)\n",
    "x_test_ext, y_test_ext = split_x_y(test_data_ext,new_features,prediction)\n",
    "\n",
    "#train model\n",
    "lin_reg_ext, res_ext = train_lin_reg(x_train_ext,y_train_ext,new_features) \n",
    "print(res_ext)\n",
    "\n",
    "#make prediction\n",
    "y_pred_ext = lin_reg_ext.predict(x_test_ext)"
   ]
  },
  {
   "cell_type": "code",
   "execution_count": 30,
   "metadata": {},
   "outputs": [
    {
     "name": "stdout",
     "output_type": "stream",
     "text": [
      "R2 score of linear regression model for random split data with extended features is 0.11350800533354755\n"
     ]
    }
   ],
   "source": [
    "#report r2 score \n",
    "r2_ext = r2_score(y_test_ext, y_pred_ext)\n",
    "print(\"R2 score of linear regression model for random split data with extended features is {0}\".format(r2_ext))"
   ]
  },
  {
   "cell_type": "markdown",
   "metadata": {},
   "source": [
    "### Task 1.4\n",
    "\n",
    "Experiment with training a different regressor, a [Gradient Boosting Regressor](https://scikit-learn.org/stable/modules/ensemble.html?highlight=xgboost#gradient-boosting). This regressor is analogous to the Gradient Boosting Classifier that you have seen in class. This model performs extremely well for a variety of tasks and is often used in machine learning competitions for tabular data (e.g., on [Kaggle](www.kaggle.com)). You must:\n",
    "\n",
    "1. Train a Gradient Boosting Regressor without specifying any parameters, e.g. `GradientBoostingRegressor().fit(X, y)`, and report its $R^2$ on the testing set. Your model should again use as features:\n",
    "    - Median values for the number of author citations, publications and h-indexes as calculated in Task 1.1.1.\n",
    "    - `reputation` of the last author, as calculated in Task 1.1.2.\n",
    "2. Create an additional feature called $crazy$, which is derived as follows. If the score  of the paper, $ratings$, is bigger than 4.96, then $crazy = 9 - ratings$, otherwise, $crazy = - ratings$. Train a Gradient Boosting Regressor to predict paper scores using only $crazy$ as a feature. Additionally, train a Linear Regression model to predict paper scores using only $crazy$ as a feature. Report the $R^2$ in the testing set.\n",
    "3. **Discuss:** Why does the Gradient Boosting Regressor perform so much better?"
   ]
  },
  {
   "cell_type": "markdown",
   "metadata": {},
   "source": [
    "- Task 1.4.1 GradientBoostingRegressor with features as task 1.3.1\n",
    "\n",
    "    - using same random spilit data from task 1.3.1 since they use same features and we can better compare with this two models "
   ]
  },
  {
   "cell_type": "code",
   "execution_count": 31,
   "metadata": {},
   "outputs": [
    {
     "data": {
      "text/html": [
       "<div>\n",
       "<style scoped>\n",
       "    .dataframe tbody tr th:only-of-type {\n",
       "        vertical-align: middle;\n",
       "    }\n",
       "\n",
       "    .dataframe tbody tr th {\n",
       "        vertical-align: top;\n",
       "    }\n",
       "\n",
       "    .dataframe thead th {\n",
       "        text-align: right;\n",
       "    }\n",
       "</style>\n",
       "<table border=\"1\" class=\"dataframe\">\n",
       "  <thead>\n",
       "    <tr style=\"text-align: right;\">\n",
       "      <th></th>\n",
       "      <th>authors_citations_median</th>\n",
       "      <th>authors_publications_median</th>\n",
       "      <th>authors_hindex_median</th>\n",
       "      <th>reputation</th>\n",
       "    </tr>\n",
       "  </thead>\n",
       "  <tbody>\n",
       "    <tr>\n",
       "      <th>0</th>\n",
       "      <td>8228.0</td>\n",
       "      <td>184.0</td>\n",
       "      <td>45.0</td>\n",
       "      <td>2.231810</td>\n",
       "    </tr>\n",
       "    <tr>\n",
       "      <th>1</th>\n",
       "      <td>672.5</td>\n",
       "      <td>36.5</td>\n",
       "      <td>10.0</td>\n",
       "      <td>1.216575</td>\n",
       "    </tr>\n",
       "    <tr>\n",
       "      <th>2</th>\n",
       "      <td>26386.0</td>\n",
       "      <td>68.5</td>\n",
       "      <td>33.0</td>\n",
       "      <td>2.613900</td>\n",
       "    </tr>\n",
       "    <tr>\n",
       "      <th>3</th>\n",
       "      <td>842.0</td>\n",
       "      <td>34.0</td>\n",
       "      <td>11.0</td>\n",
       "      <td>1.436537</td>\n",
       "    </tr>\n",
       "    <tr>\n",
       "      <th>4</th>\n",
       "      <td>13.0</td>\n",
       "      <td>9.0</td>\n",
       "      <td>2.0</td>\n",
       "      <td>1.476061</td>\n",
       "    </tr>\n",
       "    <tr>\n",
       "      <th>...</th>\n",
       "      <td>...</td>\n",
       "      <td>...</td>\n",
       "      <td>...</td>\n",
       "      <td>...</td>\n",
       "    </tr>\n",
       "    <tr>\n",
       "      <th>2974</th>\n",
       "      <td>271.0</td>\n",
       "      <td>34.0</td>\n",
       "      <td>8.0</td>\n",
       "      <td>1.987388</td>\n",
       "    </tr>\n",
       "    <tr>\n",
       "      <th>2975</th>\n",
       "      <td>78.0</td>\n",
       "      <td>22.0</td>\n",
       "      <td>5.0</td>\n",
       "      <td>1.180208</td>\n",
       "    </tr>\n",
       "    <tr>\n",
       "      <th>2976</th>\n",
       "      <td>636.5</td>\n",
       "      <td>57.0</td>\n",
       "      <td>11.0</td>\n",
       "      <td>1.710251</td>\n",
       "    </tr>\n",
       "    <tr>\n",
       "      <th>2977</th>\n",
       "      <td>705.0</td>\n",
       "      <td>123.5</td>\n",
       "      <td>13.5</td>\n",
       "      <td>0.706992</td>\n",
       "    </tr>\n",
       "    <tr>\n",
       "      <th>2978</th>\n",
       "      <td>670.0</td>\n",
       "      <td>50.0</td>\n",
       "      <td>11.0</td>\n",
       "      <td>1.225839</td>\n",
       "    </tr>\n",
       "  </tbody>\n",
       "</table>\n",
       "<p>2979 rows × 4 columns</p>\n",
       "</div>"
      ],
      "text/plain": [
       "      authors_citations_median  authors_publications_median  \\\n",
       "0                       8228.0                        184.0   \n",
       "1                        672.5                         36.5   \n",
       "2                      26386.0                         68.5   \n",
       "3                        842.0                         34.0   \n",
       "4                         13.0                          9.0   \n",
       "...                        ...                          ...   \n",
       "2974                     271.0                         34.0   \n",
       "2975                      78.0                         22.0   \n",
       "2976                     636.5                         57.0   \n",
       "2977                     705.0                        123.5   \n",
       "2978                     670.0                         50.0   \n",
       "\n",
       "      authors_hindex_median  reputation  \n",
       "0                      45.0    2.231810  \n",
       "1                      10.0    1.216575  \n",
       "2                      33.0    2.613900  \n",
       "3                      11.0    1.436537  \n",
       "4                       2.0    1.476061  \n",
       "...                     ...         ...  \n",
       "2974                    8.0    1.987388  \n",
       "2975                    5.0    1.180208  \n",
       "2976                   11.0    1.710251  \n",
       "2977                   13.5    0.706992  \n",
       "2978                   11.0    1.225839  \n",
       "\n",
       "[2979 rows x 4 columns]"
      ]
     },
     "execution_count": 31,
     "metadata": {},
     "output_type": "execute_result"
    }
   ],
   "source": [
    "x_train_random"
   ]
  },
  {
   "cell_type": "code",
   "execution_count": 32,
   "metadata": {},
   "outputs": [],
   "source": [
    "#train with gradient boosting regression \n",
    "gbc = GradientBoostingRegressor().fit(x_train_random, y_train_random)\n",
    "\n",
    "#make predicton on testing data\n",
    "y_pred_gbc = gbc.predict(x_test_random)"
   ]
  },
  {
   "cell_type": "code",
   "execution_count": 33,
   "metadata": {},
   "outputs": [
    {
     "name": "stdout",
     "output_type": "stream",
     "text": [
      "R2 score with Gradient Boosting Regression is 0.09216501221556539\n"
     ]
    }
   ],
   "source": [
    "#report r2 score\n",
    "r2_gbc= r2_score(y_test_random, y_pred_gbc)\n",
    "print(\"R2 score with Gradient Boosting Regression is {0}\".format(r2_gbc))"
   ]
  },
  {
   "cell_type": "markdown",
   "metadata": {},
   "source": [
    "- Task 1.4.2 Create an additional feature called  𝑐𝑟𝑎𝑧𝑦 : If the score of the paper,  𝑟𝑎𝑡𝑖𝑛𝑔𝑠 , is bigger than 4.96, then  𝑐𝑟𝑎𝑧𝑦=9−𝑟𝑎𝑡𝑖𝑛𝑔𝑠 , otherwise,  𝑐𝑟𝑎𝑧𝑦=−𝑟𝑎𝑡𝑖𝑛𝑔𝑠 . Train a Gradient Boosting Regressor and Linear Regression model to predict paper scores using only  𝑐𝑟𝑎𝑧𝑦  as a feature. Report the  𝑅2  in the testing set.\n"
   ]
  },
  {
   "cell_type": "code",
   "execution_count": 34,
   "metadata": {},
   "outputs": [
    {
     "data": {
      "text/html": [
       "<div>\n",
       "<style scoped>\n",
       "    .dataframe tbody tr th:only-of-type {\n",
       "        vertical-align: middle;\n",
       "    }\n",
       "\n",
       "    .dataframe tbody tr th {\n",
       "        vertical-align: top;\n",
       "    }\n",
       "\n",
       "    .dataframe thead th {\n",
       "        text-align: right;\n",
       "    }\n",
       "</style>\n",
       "<table border=\"1\" class=\"dataframe\">\n",
       "  <thead>\n",
       "    <tr style=\"text-align: right;\">\n",
       "      <th></th>\n",
       "      <th>ratings</th>\n",
       "      <th>crazy_mask</th>\n",
       "      <th>crazy</th>\n",
       "    </tr>\n",
       "  </thead>\n",
       "  <tbody>\n",
       "    <tr>\n",
       "      <th>0</th>\n",
       "      <td>9.000000</td>\n",
       "      <td>1</td>\n",
       "      <td>0.000000</td>\n",
       "    </tr>\n",
       "    <tr>\n",
       "      <th>1</th>\n",
       "      <td>4.666667</td>\n",
       "      <td>0</td>\n",
       "      <td>-4.666667</td>\n",
       "    </tr>\n",
       "    <tr>\n",
       "      <th>2</th>\n",
       "      <td>6.666667</td>\n",
       "      <td>1</td>\n",
       "      <td>2.333333</td>\n",
       "    </tr>\n",
       "    <tr>\n",
       "      <th>3</th>\n",
       "      <td>6.333333</td>\n",
       "      <td>1</td>\n",
       "      <td>2.666667</td>\n",
       "    </tr>\n",
       "    <tr>\n",
       "      <th>4</th>\n",
       "      <td>4.666667</td>\n",
       "      <td>0</td>\n",
       "      <td>-4.666667</td>\n",
       "    </tr>\n",
       "    <tr>\n",
       "      <th>...</th>\n",
       "      <td>...</td>\n",
       "      <td>...</td>\n",
       "      <td>...</td>\n",
       "    </tr>\n",
       "    <tr>\n",
       "      <th>4251</th>\n",
       "      <td>5.000000</td>\n",
       "      <td>1</td>\n",
       "      <td>4.000000</td>\n",
       "    </tr>\n",
       "    <tr>\n",
       "      <th>4252</th>\n",
       "      <td>4.666667</td>\n",
       "      <td>0</td>\n",
       "      <td>-4.666667</td>\n",
       "    </tr>\n",
       "    <tr>\n",
       "      <th>4253</th>\n",
       "      <td>4.000000</td>\n",
       "      <td>0</td>\n",
       "      <td>-4.000000</td>\n",
       "    </tr>\n",
       "    <tr>\n",
       "      <th>4254</th>\n",
       "      <td>2.333333</td>\n",
       "      <td>0</td>\n",
       "      <td>-2.333333</td>\n",
       "    </tr>\n",
       "    <tr>\n",
       "      <th>4255</th>\n",
       "      <td>4.000000</td>\n",
       "      <td>0</td>\n",
       "      <td>-4.000000</td>\n",
       "    </tr>\n",
       "  </tbody>\n",
       "</table>\n",
       "<p>4256 rows × 3 columns</p>\n",
       "</div>"
      ],
      "text/plain": [
       "       ratings  crazy_mask     crazy\n",
       "0     9.000000           1  0.000000\n",
       "1     4.666667           0 -4.666667\n",
       "2     6.666667           1  2.333333\n",
       "3     6.333333           1  2.666667\n",
       "4     4.666667           0 -4.666667\n",
       "...        ...         ...       ...\n",
       "4251  5.000000           1  4.000000\n",
       "4252  4.666667           0 -4.666667\n",
       "4253  4.000000           0 -4.000000\n",
       "4254  2.333333           0 -2.333333\n",
       "4255  4.000000           0 -4.000000\n",
       "\n",
       "[4256 rows x 3 columns]"
      ]
     },
     "execution_count": 34,
     "metadata": {},
     "output_type": "execute_result"
    }
   ],
   "source": [
    "#perprocessing data \n",
    "rating_data = publications_data.copy()[['ratings']]\n",
    "rating_data['crazy_mask'] =  rating_data[['ratings']]> 4.96\n",
    "rating_data['crazy_mask'] = rating_data['crazy_mask'].astype(int)\n",
    "rating_data['crazy'] = 9*rating_data['crazy_mask']-rating_data['ratings']\n",
    "rating_data"
   ]
  },
  {
   "cell_type": "code",
   "execution_count": 35,
   "metadata": {},
   "outputs": [],
   "source": [
    "#processing data make it ready for training\n",
    "features_cz=['crazy']\n",
    "train_data_cz, test_data_cz= split_set(rating_data)\n",
    "x_train_cz, y_train_cz= split_x_y(train_data_cz,features_cz,'ratings')\n",
    "x_test_cz, y_test_cz = split_x_y(test_data_cz,features_cz,'ratings')\n",
    "\n",
    "#train GBR model\n",
    "gbc = GradientBoostingRegressor().fit(x_train_cz, y_train_cz)\n",
    "y_pred_cz_gbc = gbc.predict(x_test_cz)"
   ]
  },
  {
   "cell_type": "code",
   "execution_count": 36,
   "metadata": {},
   "outputs": [],
   "source": [
    "#train linear regression model\n",
    "rating_lin_reg, _ = train_lin_reg(x_train_cz,y_train_cz,features_cz)\n",
    "y_pred_cz_lin = rating_lin_reg.predict(x_test_cz)"
   ]
  },
  {
   "cell_type": "code",
   "execution_count": 37,
   "metadata": {},
   "outputs": [
    {
     "name": "stdout",
     "output_type": "stream",
     "text": [
      "R2 score regression using linear is 0.3961289069123698\n",
      "R2 scoreusing Gradient Boosting Regressor is 0.9999552034422468\n"
     ]
    }
   ],
   "source": [
    "#report r2 score\n",
    "r2_cz_lin = r2_score(y_test_cz, y_pred_cz_lin)\n",
    "r2_cz_gbc = r2_score(y_test_cz, y_pred_cz_gbc)\n",
    "print(\"R2 score regression using linear is {0}\\nR2 scoreusing Gradient Boosting Regressor is {1}\".format(r2_cz_lin,r2_cz_gbc))"
   ]
  },
  {
   "cell_type": "code",
   "execution_count": 38,
   "metadata": {},
   "outputs": [
    {
     "data": {
      "image/png": "[encoded data removed]",
      "text/plain": [
       "<Figure size 864x576 with 1 Axes>"
      ]
     },
     "metadata": {
      "needs_background": "light"
     },
     "output_type": "display_data"
    }
   ],
   "source": [
    "fig, ax = plt.subplots(figsize=(12, 8))\n",
    "ax.scatter(y_test_cz, y_pred_cz_lin, edgecolors=(0, 0, 0))\n",
    "ax.plot([min(y_test_cz), max(y_test_cz)], [min(y_test_cz), max(y_test_cz)], 'r--', lw=4)\n",
    "ax.set_xlabel('Original')\n",
    "ax.set_ylabel('Predicted')\n",
    "ax.set_title('Crazy trained with linear regression')\n",
    "plt.show()"
   ]
  },
  {
   "cell_type": "code",
   "execution_count": 39,
   "metadata": {},
   "outputs": [
    {
     "data": {
      "image/png": "[encoded data removed]",
      "text/plain": [
       "<Figure size 864x576 with 1 Axes>"
      ]
     },
     "metadata": {
      "needs_background": "light"
     },
     "output_type": "display_data"
    }
   ],
   "source": [
    "fig, ax = plt.subplots(figsize=(12, 8))\n",
    "ax.scatter(y_test_cz, y_pred_cz_gbc, edgecolors=(0, 0, 0))\n",
    "ax.plot([min(y_test_cz), max(y_test_cz)], [min(y_test_cz), max(y_test_cz)], 'r--', lw=4)\n",
    "ax.set_xlabel('Original')\n",
    "ax.set_ylabel('Predicted')\n",
    "ax.set_title('Crazy trained with Gradient Boosting Regressor')\n",
    "plt.show()"
   ]
  },
  {
   "cell_type": "markdown",
   "metadata": {},
   "source": [
    "R2 score of Gradient Boosting Regressor is close to 1, which is close to perfect, on the other hand, r2 score of the linear regression model is 0.44.\n",
    "We can also see the performance of two models with plots,  Gradient Boosting Regressor performance almost perfectly"
   ]
  },
  {
   "cell_type": "markdown",
   "metadata": {},
   "source": [
    "- Task 1.4.3 **Discuss** : Why does the Gradient Boosting Regressor perform so much better?\n",
    "\n",
    "With `Gradient Boosting Regressor`, in the traing, the model will imporve by correcting the residuals with previous models to minimizes the overall prediction error.  So each new model takes a step in the direction that minimizes prediction error, in the space of possible predictions for each training case."
   ]
  },
  {
   "cell_type": "markdown",
   "metadata": {},
   "source": [
    "### Task 1.5\n",
    "\n",
    "Complex models often have several hyper-parameters. \n",
    "To obtain the best results, it is common-place to use a cross-validation set-up in your training data to find the best hyper-parameters, and then use it for the test set.\n",
    "\n",
    "\n",
    "1. Write modular code (i.e., a function) to divide your training data into $N$ folds and perform cross-validation.\n",
    "2.  Experiment tuning two hyper-parameters of the Gradient Boosting Regressor: `n_estimators` and `learning_rate`.\n",
    "For each possible combination of the two hyper-parameters (see below for the range of values that you should try for each hyper-parameter), train your model in a cross-validation setup with $N$=20. Report the mean $R^2$ along with the 90% CI for the 18 scenarios. Notice that you can calculate the 90% CI in a bootstrap-like fashion.\n",
    "    - `n_estimators`$ \\in  \\{ 50, 75, 100, 150, 200, 250\\}$\n",
    "    - `learning_rate`$ \\in  \\{ 0.1, 0.05, 0.01\\}$.\n",
    "3. With the best hyper-parameters obtained, train your model with the entire training set and report the $R^2$ on the testing set.\n",
    "4. **Discuss:** Why don't we tune the hyper-parameters in the testing set instead of doing cross-validation in the training set?"
   ]
  },
  {
   "cell_type": "markdown",
   "metadata": {},
   "source": [
    "- Task 1.5.1 Write modular code (i.e., a function) to divide your training data into  𝑁  folds and perform cross-validation."
   ]
  },
  {
   "cell_type": "code",
   "execution_count": 40,
   "metadata": {},
   "outputs": [],
   "source": [
    "'''Using cross validation from sklearn'''\n",
    "def serch_hyperparamter(x,y,n_fold,n_estimators,learning_rate):\n",
    "    res = []\n",
    "    \n",
    "    # run different senarios \n",
    "    for esti in n_estimators:\n",
    "         for lr in learning_rate:\n",
    "            #define training model type \n",
    "            gbs = GradientBoostingRegressor(n_estimators=esti, learning_rate=lr)\n",
    "            # run cross validation ,set score as r2\n",
    "            r2 = cross_val_score(gbs, x, y, cv=n_fold, scoring=\"r2\")\n",
    "            \n",
    "            #compute 90%CI of r2 mean \n",
    "            sample_size = len(r2)\n",
    "            lower, upper, _ = bootstrap_CI(r2,sample_size,10000,\"mean\")\n",
    "            #store the result\n",
    "            res += [[esti, lr, np.array(r2).mean(),(lower,upper)]]\n",
    "            \n",
    "    #final comparison as dataframe\n",
    "    comparison = pd.DataFrame(res,columns=['n_estimator','learning_rate','r2_score','90%_CI'])\n",
    "    return comparison"
   ]
  },
  {
   "cell_type": "markdown",
   "metadata": {},
   "source": [
    "- Task 1.5.2  Experiment tuning two hyper-parameters of the Gradient Boosting Regressor: n_estimators and learning_rate."
   ]
  },
  {
   "cell_type": "code",
   "execution_count": 41,
   "metadata": {},
   "outputs": [],
   "source": [
    "#processing data make it ready to train\n",
    "train_data, test_data = split_set(model_data)\n",
    "x_data,y_data = split_x_y(train_data,features,prediction)\n",
    "x_test,y_test = split_x_y(test_data,features,prediction)\n",
    "\n",
    "# define hyper parameters candidates\n",
    "n_estimators = [50,75,100,150,200,250]\n",
    "learning_rate = [0.1,0.05,0.01]\n",
    "\n",
    "#corss validation folder size\n",
    "n_fold = 20 \n",
    "# make comparsion on different hyper parameters candidates\n",
    "comparison = serch_hyperparamter(x_data,y_data,n_fold,n_estimators,learning_rate)"
   ]
  },
  {
   "cell_type": "code",
   "execution_count": 42,
   "metadata": {},
   "outputs": [
    {
     "data": {
      "text/html": [
       "<div>\n",
       "<style scoped>\n",
       "    .dataframe tbody tr th:only-of-type {\n",
       "        vertical-align: middle;\n",
       "    }\n",
       "\n",
       "    .dataframe tbody tr th {\n",
       "        vertical-align: top;\n",
       "    }\n",
       "\n",
       "    .dataframe thead th {\n",
       "        text-align: right;\n",
       "    }\n",
       "</style>\n",
       "<table border=\"1\" class=\"dataframe\">\n",
       "  <thead>\n",
       "    <tr style=\"text-align: right;\">\n",
       "      <th></th>\n",
       "      <th>n_estimator</th>\n",
       "      <th>learning_rate</th>\n",
       "      <th>r2_score</th>\n",
       "      <th>90%_CI</th>\n",
       "    </tr>\n",
       "  </thead>\n",
       "  <tbody>\n",
       "    <tr>\n",
       "      <th>0</th>\n",
       "      <td>50</td>\n",
       "      <td>0.10</td>\n",
       "      <td>0.100652</td>\n",
       "      <td>(0.07902817984034995, 0.12377765451798445)</td>\n",
       "    </tr>\n",
       "    <tr>\n",
       "      <th>1</th>\n",
       "      <td>50</td>\n",
       "      <td>0.05</td>\n",
       "      <td>0.102840</td>\n",
       "      <td>(0.08255858549608722, 0.12393172939381479)</td>\n",
       "    </tr>\n",
       "    <tr>\n",
       "      <th>2</th>\n",
       "      <td>50</td>\n",
       "      <td>0.01</td>\n",
       "      <td>0.057726</td>\n",
       "      <td>(0.04877842594551368, 0.0670918556391563)</td>\n",
       "    </tr>\n",
       "    <tr>\n",
       "      <th>3</th>\n",
       "      <td>75</td>\n",
       "      <td>0.10</td>\n",
       "      <td>0.097917</td>\n",
       "      <td>(0.07504761678344127, 0.12250394637092722)</td>\n",
       "    </tr>\n",
       "    <tr>\n",
       "      <th>4</th>\n",
       "      <td>75</td>\n",
       "      <td>0.05</td>\n",
       "      <td>0.102357</td>\n",
       "      <td>(0.08139298180340132, 0.12426339874697277)</td>\n",
       "    </tr>\n",
       "    <tr>\n",
       "      <th>5</th>\n",
       "      <td>75</td>\n",
       "      <td>0.01</td>\n",
       "      <td>0.073179</td>\n",
       "      <td>(0.06142865185881756, 0.08552426257438661)</td>\n",
       "    </tr>\n",
       "    <tr>\n",
       "      <th>6</th>\n",
       "      <td>100</td>\n",
       "      <td>0.10</td>\n",
       "      <td>0.094144</td>\n",
       "      <td>(0.07021735411181372, 0.11859513243998897)</td>\n",
       "    </tr>\n",
       "    <tr>\n",
       "      <th>7</th>\n",
       "      <td>100</td>\n",
       "      <td>0.05</td>\n",
       "      <td>0.100550</td>\n",
       "      <td>(0.07867773997054424, 0.12382712314300585)</td>\n",
       "    </tr>\n",
       "    <tr>\n",
       "      <th>8</th>\n",
       "      <td>100</td>\n",
       "      <td>0.01</td>\n",
       "      <td>0.083161</td>\n",
       "      <td>(0.06966896160978109, 0.09809891962885996)</td>\n",
       "    </tr>\n",
       "    <tr>\n",
       "      <th>9</th>\n",
       "      <td>150</td>\n",
       "      <td>0.10</td>\n",
       "      <td>0.087343</td>\n",
       "      <td>(0.0631586637220988, 0.11315012875015833)</td>\n",
       "    </tr>\n",
       "    <tr>\n",
       "      <th>10</th>\n",
       "      <td>150</td>\n",
       "      <td>0.05</td>\n",
       "      <td>0.098578</td>\n",
       "      <td>(0.07636066606608313, 0.12231509552346674)</td>\n",
       "    </tr>\n",
       "    <tr>\n",
       "      <th>11</th>\n",
       "      <td>150</td>\n",
       "      <td>0.01</td>\n",
       "      <td>0.095161</td>\n",
       "      <td>(0.07786847331860179, 0.11273469748514399)</td>\n",
       "    </tr>\n",
       "    <tr>\n",
       "      <th>12</th>\n",
       "      <td>200</td>\n",
       "      <td>0.10</td>\n",
       "      <td>0.080267</td>\n",
       "      <td>(0.055946220619649704, 0.10596668297832754)</td>\n",
       "    </tr>\n",
       "    <tr>\n",
       "      <th>13</th>\n",
       "      <td>200</td>\n",
       "      <td>0.05</td>\n",
       "      <td>0.096583</td>\n",
       "      <td>(0.07362736063959868, 0.12042156481125252)</td>\n",
       "    </tr>\n",
       "    <tr>\n",
       "      <th>14</th>\n",
       "      <td>200</td>\n",
       "      <td>0.01</td>\n",
       "      <td>0.100650</td>\n",
       "      <td>(0.08207635905419883, 0.12046701890978516)</td>\n",
       "    </tr>\n",
       "    <tr>\n",
       "      <th>15</th>\n",
       "      <td>250</td>\n",
       "      <td>0.10</td>\n",
       "      <td>0.069228</td>\n",
       "      <td>(0.04498496386376156, 0.09445253157106549)</td>\n",
       "    </tr>\n",
       "    <tr>\n",
       "      <th>16</th>\n",
       "      <td>250</td>\n",
       "      <td>0.05</td>\n",
       "      <td>0.092658</td>\n",
       "      <td>(0.06967934274280232, 0.1173482313444155)</td>\n",
       "    </tr>\n",
       "    <tr>\n",
       "      <th>17</th>\n",
       "      <td>250</td>\n",
       "      <td>0.01</td>\n",
       "      <td>0.102604</td>\n",
       "      <td>(0.0823859390513085, 0.12340910968174772)</td>\n",
       "    </tr>\n",
       "  </tbody>\n",
       "</table>\n",
       "</div>"
      ],
      "text/plain": [
       "    n_estimator  learning_rate  r2_score  \\\n",
       "0            50           0.10  0.100652   \n",
       "1            50           0.05  0.102840   \n",
       "2            50           0.01  0.057726   \n",
       "3            75           0.10  0.097917   \n",
       "4            75           0.05  0.102357   \n",
       "5            75           0.01  0.073179   \n",
       "6           100           0.10  0.094144   \n",
       "7           100           0.05  0.100550   \n",
       "8           100           0.01  0.083161   \n",
       "9           150           0.10  0.087343   \n",
       "10          150           0.05  0.098578   \n",
       "11          150           0.01  0.095161   \n",
       "12          200           0.10  0.080267   \n",
       "13          200           0.05  0.096583   \n",
       "14          200           0.01  0.100650   \n",
       "15          250           0.10  0.069228   \n",
       "16          250           0.05  0.092658   \n",
       "17          250           0.01  0.102604   \n",
       "\n",
       "                                         90%_CI  \n",
       "0    (0.07902817984034995, 0.12377765451798445)  \n",
       "1    (0.08255858549608722, 0.12393172939381479)  \n",
       "2     (0.04877842594551368, 0.0670918556391563)  \n",
       "3    (0.07504761678344127, 0.12250394637092722)  \n",
       "4    (0.08139298180340132, 0.12426339874697277)  \n",
       "5    (0.06142865185881756, 0.08552426257438661)  \n",
       "6    (0.07021735411181372, 0.11859513243998897)  \n",
       "7    (0.07867773997054424, 0.12382712314300585)  \n",
       "8    (0.06966896160978109, 0.09809891962885996)  \n",
       "9     (0.0631586637220988, 0.11315012875015833)  \n",
       "10   (0.07636066606608313, 0.12231509552346674)  \n",
       "11   (0.07786847331860179, 0.11273469748514399)  \n",
       "12  (0.055946220619649704, 0.10596668297832754)  \n",
       "13   (0.07362736063959868, 0.12042156481125252)  \n",
       "14   (0.08207635905419883, 0.12046701890978516)  \n",
       "15   (0.04498496386376156, 0.09445253157106549)  \n",
       "16    (0.06967934274280232, 0.1173482313444155)  \n",
       "17    (0.0823859390513085, 0.12340910968174772)  "
      ]
     },
     "execution_count": 42,
     "metadata": {},
     "output_type": "execute_result"
    }
   ],
   "source": [
    "#the mean  𝑅2  along with the 90% CI for the 18 scenarios.\n",
    "comparison"
   ]
  },
  {
   "cell_type": "code",
   "execution_count": 43,
   "metadata": {},
   "outputs": [
    {
     "data": {
      "text/html": [
       "<div>\n",
       "<style scoped>\n",
       "    .dataframe tbody tr th:only-of-type {\n",
       "        vertical-align: middle;\n",
       "    }\n",
       "\n",
       "    .dataframe tbody tr th {\n",
       "        vertical-align: top;\n",
       "    }\n",
       "\n",
       "    .dataframe thead th {\n",
       "        text-align: right;\n",
       "    }\n",
       "</style>\n",
       "<table border=\"1\" class=\"dataframe\">\n",
       "  <thead>\n",
       "    <tr style=\"text-align: right;\">\n",
       "      <th></th>\n",
       "      <th>n_estimator</th>\n",
       "      <th>learning_rate</th>\n",
       "      <th>r2_score</th>\n",
       "      <th>90%_CI</th>\n",
       "    </tr>\n",
       "  </thead>\n",
       "  <tbody>\n",
       "    <tr>\n",
       "      <th>1</th>\n",
       "      <td>50</td>\n",
       "      <td>0.05</td>\n",
       "      <td>0.10284</td>\n",
       "      <td>(0.08255858549608722, 0.12393172939381479)</td>\n",
       "    </tr>\n",
       "  </tbody>\n",
       "</table>\n",
       "</div>"
      ],
      "text/plain": [
       "   n_estimator  learning_rate  r2_score  \\\n",
       "1           50           0.05   0.10284   \n",
       "\n",
       "                                       90%_CI  \n",
       "1  (0.08255858549608722, 0.12393172939381479)  "
      ]
     },
     "execution_count": 43,
     "metadata": {},
     "output_type": "execute_result"
    }
   ],
   "source": [
    "#choose  parameters with which the model has maximal r2 score\n",
    "max_r2 = comparison.r2_score.max()\n",
    "best_para = comparison.loc[comparison.r2_score == max_r2 ]\n",
    "best_para "
   ]
  },
  {
   "cell_type": "markdown",
   "metadata": {},
   "source": [
    "- Task 1.5.3 With the best hyper-parameters obtained, train your model with the entire training set and report the  𝑅2  on the testing set."
   ]
  },
  {
   "cell_type": "code",
   "execution_count": 44,
   "metadata": {},
   "outputs": [
    {
     "name": "stdout",
     "output_type": "stream",
     "text": [
      "According to the comparsion: train the whole training data with n_estimator = 50 and learning_rate = 0.05\n"
     ]
    }
   ],
   "source": [
    "#define hyper parameters\n",
    "n_est = best_para.n_estimator.values[0]\n",
    "lr = best_para.learning_rate.values[0]\n",
    "print(\"According to the comparsion: train the whole training data with n_estimator = {0} and learning_rate = {1}\".format(n_est,lr))"
   ]
  },
  {
   "cell_type": "code",
   "execution_count": 45,
   "metadata": {},
   "outputs": [],
   "source": [
    "#train model with  Gradient Boosting Regression\n",
    "gbc_tuned = GradientBoostingRegressor(n_estimators=n_est, learning_rate=lr).fit(x_data, y_data)\n",
    "\n",
    "#make prediction\n",
    "y_pred = gbc_tuned.predict(x_test)"
   ]
  },
  {
   "cell_type": "code",
   "execution_count": 46,
   "metadata": {},
   "outputs": [
    {
     "name": "stdout",
     "output_type": "stream",
     "text": [
      "R2 score with Gradient Boosting Regression in better parameters 0.09847997743612691\n"
     ]
    }
   ],
   "source": [
    "#report r2 score\n",
    "r2_tuned = r2_score(y_test ,y_pred)\n",
    "print(\"R2 score with Gradient Boosting Regression in better parameters {0}\".format(r2_tuned))"
   ]
  },
  {
   "cell_type": "markdown",
   "metadata": {},
   "source": [
    "- Task 1.5.4 **Discuss**: Why don't we tune the hyper-parameters in the testing set instead of doing cross-validation in the training set?\n",
    "\n",
    "To aviod overfitting.\n",
    "More specifcally, test set is unknow data to test how well our model is, so that the model generalizes well on unseen dataset. If we use test set tune the hyper-parameters, it means we also use test set to train the model which will cause overfitting. Thus we need cross validation which only use train data to find right parameters. "
   ]
  },
  {
   "cell_type": "markdown",
   "metadata": {},
   "source": [
    "## _Step 2:_ What influences papers getting accepted?\n",
    "\n",
    "Time to change hats!\n",
    "\n",
    "If before we were interested in creating an accurate regressor, now we are interested in understanding what increases the chance of papers getting accepted. \n",
    "\n",
    "Typically, in that scenario, simpler models with a clear statistical interpretation (e.g. logistic regression) yield more interesting insights.\n",
    "\n",
    "For the analysis in this and the next step, you should use [statsmodels](https://www.statsmodels.org/) (for the regressions) and [scipy](https://www.scipy.org/) (for the statistical hypothesis testing).\n"
   ]
  },
  {
   "cell_type": "markdown",
   "metadata": {},
   "source": [
    "### Task 2.1\n",
    "\n",
    "Let's warm up with some visualizations and some hypothesis testing!\n",
    "\n",
    "1. Plot the distributions of 1) ratings of papers that got accepted in 2020, 2) ratings of papers that got rejected in 2020.\n",
    "2. Select a statistical test to compare whether the mean for ratings of papers that got accepted in 2020 is significantly higher.\n",
    "3. **Discuss:** Justify why the statistical test you selected is appropriate. Interpret the test-related statistic and its p-value: concretely, what do they mean?"
   ]
  },
  {
   "cell_type": "code",
   "execution_count": 47,
   "metadata": {},
   "outputs": [
    {
     "data": {
      "text/plain": [
       "<seaborn.axisgrid.FacetGrid at 0x7f9dd6430b70>"
      ]
     },
     "execution_count": 47,
     "metadata": {},
     "output_type": "execute_result"
    },
    {
     "data": {
      "image/png": "[encoded data removed]",
      "text/plain": [
       "<Figure size 430x360 with 1 Axes>"
      ]
     },
     "metadata": {
      "needs_background": "light"
     },
     "output_type": "display_data"
    }
   ],
   "source": [
    "#### Task 2.1.1 ####\n",
    "## Slice dataframe to only 2020 papers\n",
    "publications_2020 = publications_data[publications_data[\"year\"]==2020]\n",
    "\n",
    "## Histogram ratings based on decisions\n",
    "sns.displot(publications_2020, x=\"ratings\", hue=\"decisions\", kind=\"kde\")"
   ]
  },
  {
   "cell_type": "code",
   "execution_count": 48,
   "metadata": {},
   "outputs": [
    {
     "data": {
      "text/html": [
       "<div>\n",
       "<style scoped>\n",
       "    .dataframe tbody tr th:only-of-type {\n",
       "        vertical-align: middle;\n",
       "    }\n",
       "\n",
       "    .dataframe tbody tr th {\n",
       "        vertical-align: top;\n",
       "    }\n",
       "\n",
       "    .dataframe thead th {\n",
       "        text-align: right;\n",
       "    }\n",
       "</style>\n",
       "<table border=\"1\" class=\"dataframe\">\n",
       "  <thead>\n",
       "    <tr style=\"text-align: right;\">\n",
       "      <th></th>\n",
       "      <th>ratings</th>\n",
       "    </tr>\n",
       "    <tr>\n",
       "      <th>decisions</th>\n",
       "      <th></th>\n",
       "    </tr>\n",
       "  </thead>\n",
       "  <tbody>\n",
       "    <tr>\n",
       "      <th>Accept</th>\n",
       "      <td>6.138633</td>\n",
       "    </tr>\n",
       "    <tr>\n",
       "      <th>Reject</th>\n",
       "      <td>3.683275</td>\n",
       "    </tr>\n",
       "  </tbody>\n",
       "</table>\n",
       "</div>"
      ],
      "text/plain": [
       "            ratings\n",
       "decisions          \n",
       "Accept     6.138633\n",
       "Reject     3.683275"
      ]
     },
     "execution_count": 48,
     "metadata": {},
     "output_type": "execute_result"
    }
   ],
   "source": [
    "#### Task 2.1.2 ####\n",
    "## Calculate mean of decisions\n",
    "publications_2020_ratings_means = publications_2020.groupby([\"decisions\"]).mean()[[\"ratings\"]]\n",
    "publications_2020_ratings_means"
   ]
  },
  {
   "cell_type": "markdown",
   "metadata": {},
   "source": [
    "The mean for accepted is almost twice that of rejected. This can also easily be observed by the different distributions in the previous task. It is extremely likely that these two means are significantly different."
   ]
  },
  {
   "cell_type": "code",
   "execution_count": 49,
   "metadata": {},
   "outputs": [
    {
     "data": {
      "text/plain": [
       "Ttest_indResult(statistic=53.56214101855919, pvalue=0.0)"
      ]
     },
     "execution_count": 49,
     "metadata": {},
     "output_type": "execute_result"
    }
   ],
   "source": [
    "## Slice dataframe to accepted and rejected arrays for ttest.\n",
    "publications_2020_accepted = publications_2020[publications_2020[\"decisions\"]==\"Accept\"][[\"ratings\"]]\n",
    "publications_2020_rejected = publications_2020[publications_2020[\"decisions\"]==\"Reject\"][[\"ratings\"]]\n",
    "\n",
    "## Do welch's t-test. Using ravel() to unpack the values.\n",
    "from scipy.stats import ttest_ind\n",
    "ttest_ind(publications_2020_accepted.values.ravel(), publications_2020_rejected.values.ravel(), equal_var=False)"
   ]
  },
  {
   "cell_type": "markdown",
   "metadata": {},
   "source": [
    "The welch's t-test is performed by setting equal_var=False. This test is selected because it compares the mean of two independent samples, but makes no assumptions about equal variance like a t-test does. \n",
    "\n",
    "The result confirms that the means are significantly different. The null-hypothesis of the test is that the mean from the two samples are equal. A low statistic would indicate that the means are close together, and a higher value indicates that the means are further apart. The pvalue gives the probability of the null-hypothesis being true !!!!DOUBLE CHECK THIS STATEMENT!!!!, which in this test is 0. We can confidently reject the null hypothesis, and conclude that the mean ratings of the accepted papers are significantly higher."
   ]
  },
  {
   "cell_type": "markdown",
   "metadata": {},
   "source": [
    "### Task 2.2\n",
    "\n",
    "We will now carry out a logistic regression modeling the binary variable `decisions` as a function of the continuous variable `ratings` and an intercept. \n",
    "\n",
    "Recall that a logistic regression is a model in the form:\n",
    "\n",
    "$$\n",
    "\\log \\Big( \\frac{p}{1-p} \\Big) = b_0 + b_1x_1 + b_2x_2 + \\ldots\n",
    "$$\n",
    "\n",
    "Where $p$ is the probability of the dependent variable (here, `decisions`) being equals to 1. \n",
    "Note that $\\frac{p}{1-p}$ represents the odds of the variable, and thus, on the left-hand side we have the log-odds of the variable.\n",
    "This can be also written as:\n",
    "\n",
    "$$\n",
    "\\Big( \\frac{p}{1-p} \\Big) = e^{b_0 + b_1 x_1 + b_2 x_2 + \\ldots} =  e^{b_0} e^{b_1 x_1} e^{b_2 x_2} \\ldots\n",
    "$$\n",
    "\n",
    "Given a linear variable, say $x_1$, if we increase the value associated with this variable by a single unit, and keep everything constant, we have:\n",
    "\n",
    "$$\n",
    " e^{b_1(x_1+1)} =  e^{b_1 x_1 + b_1} = e^{b_1 x_1}e^{b_1}  \n",
    "$$\n",
    "\n",
    "This means that we multiply the odds of the outcome variable by $e^{b_1}$. Thus, let's say that $x_1$ is the average rating, and $\\beta_1$ is the associated coefficient. Also, let's assume that $\\beta_1$ equals 2. In that case, increasing the score of the paper by 1 unit is equivalent to multiplying both sides of the previous equation by $e^{b_1}$. The original equation for our model becomes:\n",
    "\n",
    "$$\n",
    "\\Big( \\frac{p}{1-p} \\Big) = e^{b_0} e^{b_1 x_1} \n",
    "$$\n",
    "$$\n",
    "\\Big( \\frac{p}{1-p} \\Big) e^{b_1}  = e^{b_0} e^{b_1 x_1} e^{b_1}\n",
    "$$\n",
    "\n",
    "Since $b_1=2$, we have that this is the same as multiplying the odds of the variable by $e^2\\approx7$. \n",
    "So for example, if a paper with a score 5 had $p=0.05$ of being approved, its odds would be $0.05/0.95\\approx0.052$. According to our model, an increase in 1-rating point would mean that the new odds would be $0.052*7\\approx0.36$. Using the odds formula  ($\\frac{p}{1-p}$), this suggests that this paper would have a chance of $0.56$ of being accepted.\n",
    "\n",
    "---\n",
    "\n",
    "This is the theory. Now, let's find out what the real world looks like.\n",
    "\n",
    "\n",
    "1. Fit a logistic regression model to our data considering as the training set all papers submitted in 2020. Your model should predict a binary variable related to decisions (which equals true if the paper was accepted and false otherwise) as a function of the paper ratings and an intercept. In mathematical notation:\n",
    "$$\n",
    "d = b_0 + r b_1\n",
    "$$\n",
    "Where $d$ is the binary variable corresponding to a decision, $r$ is a numeric variable corresponding to the rating a paper has received and $b$ are coefficients.\n",
    "Notice that here we have no testing set!\n",
    "Report the summary of your model. \n",
    "2. **Discuss:** Interpreting the coefficients of your model, calculate the probability that a paper with a score 7 will be accepted.\n"
   ]
  },
  {
   "cell_type": "code",
   "execution_count": 50,
   "metadata": {},
   "outputs": [
    {
     "name": "stdout",
     "output_type": "stream",
     "text": [
      "Optimization terminated successfully.\n",
      "         Current function value: 0.251882\n",
      "         Iterations 8\n"
     ]
    },
    {
     "data": {
      "text/html": [
       "<table class=\"simpletable\">\n",
       "<caption>Logit Regression Results</caption>\n",
       "<tr>\n",
       "  <th>Dep. Variable:</th>       <td>decisions</td>    <th>  No. Observations:  </th>  <td>  2052</td> \n",
       "</tr>\n",
       "<tr>\n",
       "  <th>Model:</th>                 <td>Logit</td>      <th>  Df Residuals:      </th>  <td>  2050</td> \n",
       "</tr>\n",
       "<tr>\n",
       "  <th>Method:</th>                 <td>MLE</td>       <th>  Df Model:          </th>  <td>     1</td> \n",
       "</tr>\n",
       "<tr>\n",
       "  <th>Date:</th>            <td>Fri, 20 Nov 2020</td> <th>  Pseudo R-squ.:     </th>  <td>0.5913</td> \n",
       "</tr>\n",
       "<tr>\n",
       "  <th>Time:</th>                <td>12:44:05</td>     <th>  Log-Likelihood:    </th> <td> -516.86</td>\n",
       "</tr>\n",
       "<tr>\n",
       "  <th>converged:</th>             <td>True</td>       <th>  LL-Null:           </th> <td> -1264.6</td>\n",
       "</tr>\n",
       "<tr>\n",
       "  <th>Covariance Type:</th>     <td>nonrobust</td>    <th>  LLR p-value:       </th>  <td> 0.000</td> \n",
       "</tr>\n",
       "</table>\n",
       "<table class=\"simpletable\">\n",
       "<tr>\n",
       "     <td></td>        <th>coef</th>     <th>std err</th>      <th>z</th>      <th>P>|z|</th>  <th>[0.025</th>    <th>0.975]</th>  \n",
       "</tr>\n",
       "<tr>\n",
       "  <th>const</th>   <td>  -12.8811</td> <td>    0.597</td> <td>  -21.574</td> <td> 0.000</td> <td>  -14.051</td> <td>  -11.711</td>\n",
       "</tr>\n",
       "<tr>\n",
       "  <th>ratings</th> <td>    2.3672</td> <td>    0.110</td> <td>   21.438</td> <td> 0.000</td> <td>    2.151</td> <td>    2.584</td>\n",
       "</tr>\n",
       "</table>"
      ],
      "text/plain": [
       "<class 'statsmodels.iolib.summary.Summary'>\n",
       "\"\"\"\n",
       "                           Logit Regression Results                           \n",
       "==============================================================================\n",
       "Dep. Variable:              decisions   No. Observations:                 2052\n",
       "Model:                          Logit   Df Residuals:                     2050\n",
       "Method:                           MLE   Df Model:                            1\n",
       "Date:                Fri, 20 Nov 2020   Pseudo R-squ.:                  0.5913\n",
       "Time:                        12:44:05   Log-Likelihood:                -516.86\n",
       "converged:                       True   LL-Null:                       -1264.6\n",
       "Covariance Type:            nonrobust   LLR p-value:                     0.000\n",
       "==============================================================================\n",
       "                 coef    std err          z      P>|z|      [0.025      0.975]\n",
       "------------------------------------------------------------------------------\n",
       "const        -12.8811      0.597    -21.574      0.000     -14.051     -11.711\n",
       "ratings        2.3672      0.110     21.438      0.000       2.151       2.584\n",
       "==============================================================================\n",
       "\"\"\""
      ]
     },
     "execution_count": 50,
     "metadata": {},
     "output_type": "execute_result"
    }
   ],
   "source": [
    "import statsmodels.api as sm\n",
    "\n",
    "#### Task 2.2.1 ####\n",
    "## Slice out neccesary data\n",
    "publications_2020_ratings = publications_2020[[\"ratings\", \"decisions\"]].copy()\n",
    "\n",
    "## Translate \"Accept\" and \"Reject\" to 1 and 0 respectively\n",
    "decisions_map = {'decisions': {'Accept':1, 'Reject':0}}\n",
    "publications_2020_ratings.replace(decisions_map, inplace=True)\n",
    "\n",
    "## Add constant term to include intercept b0 as a parameter of the model\n",
    "publications_2020_ratings = sm.add_constant(publications_2020_ratings)\n",
    "\n",
    "## Instantiate and fit model using MLE. Dependant variable is dropped when passing df for independant variables.\n",
    "logreg_model = sm.Logit(publications_2020_ratings[\"decisions\"],\n",
    "                        publications_2020_ratings.drop(labels=\"decisions\", axis=1)).fit()\n",
    "\n",
    "## Report summary of model\n",
    "logreg_model.summary()"
   ]
  },
  {
   "cell_type": "markdown",
   "metadata": {},
   "source": [
    "#### Task 2.2 Discussion\n",
    "In the code the categorical dependant variable was defined as 1 for the paper being accepted. This means that the interpretation of the positive sign of the \"ratings\" coefficient means that a higher rating leads to a higher chance of being accepted. As for the intercept, it has a relatively large negative magnitude. This implies that if ratings is 0 there is a very low probability of being accepted.\n",
    "\n",
    "Conversely, if \"rejected\" is defined as 1, the coefficient ratings (or b1) becomes negative. Then the interpretation of this coefficient would be that an increase in ratings leads to a lower probability of being rejected.\n",
    "\n",
    "#### Task 2.2 Probability\n",
    "The logistic regression is implemented as \n",
    "\n",
    "$$\n",
    "\\log \\Big( \\frac{p}{1-p} \\Big) = b_0 + b_1\\cdot rating\n",
    "$$\n",
    "\n",
    "In order to obtain the odds calculated by the model we exponentiate both sides of the equation\n",
    "\n",
    "$$\n",
    "odds = \\Big( \\frac{p}{1-p} \\Big) = e^{b_0} e^{b_1 rating} \n",
    "$$\n",
    "\n",
    "Finally, with some algebra on the above equation the probability p of a paper with rating 7 being accepted is calculated from the odds\n",
    "\n",
    "$$\n",
    "p = \\frac{odds}{1 + odds}\n",
    "$$"
   ]
  },
  {
   "cell_type": "code",
   "execution_count": 51,
   "metadata": {},
   "outputs": [
    {
     "data": {
      "text/plain": [
       "0.9756242668260504"
      ]
     },
     "execution_count": 51,
     "metadata": {},
     "output_type": "execute_result"
    }
   ],
   "source": [
    "# Obtain parameters from model\n",
    "coef = logreg_model.params\n",
    "\n",
    "# Calculate probability p of a paper with \n",
    "odds = np.exp(coef[0] + 7*coef[1])\n",
    "p = odds/(1+odds)\n",
    "p"
   ]
  },
  {
   "cell_type": "markdown",
   "metadata": {},
   "source": [
    "This results in a probability of paper being accepted at 97.56%, which is quite high as expected. This high probability can also be observed empirically from the (combined) non parametric PDF calculated earlier if it were to be transformed to an cumulative distribution function. Alternatively the logit function predict can be used, which obtains the same result. "
   ]
  },
  {
   "cell_type": "code",
   "execution_count": 52,
   "metadata": {},
   "outputs": [
    {
     "name": "stdout",
     "output_type": "stream",
     "text": [
      "[0.97562427]\n"
     ]
    }
   ],
   "source": [
    "print(logreg_model.predict([1, 7]))"
   ]
  },
  {
   "cell_type": "markdown",
   "metadata": {},
   "source": [
    "### Task 2.3\n",
    "\n",
    "Our model is not so interesting since the only independent variable (that is, our model' feature or predictor) is something blatantly associated with paper acceptance. Let's go further! \n",
    "\n",
    "1. Run a logistic regression with the binary decision as the dependent variable (the outcome) and using as independent variables (the features): ratings, the reputation of the last author, and whether the paper was on arxiv or not. That is, in [patsy-style formula](https://patsy.readthedocs.io/en/latest/formulas.html): `decisions ~ ratings + reputation + arxiv` (variable names do not need to be exactly these). Consider all papers submitted in 2020 as your training data.\n",
    "Notice that reputation was calculated in Task 1.1. \n",
    "2. **Discuss:** Unlike `ratings` and `reputation`, the variable `arxiv` is binary. Following the same logic as we did for continuous variables in the text of Task 2.2, interpret the meaning of this coefficient. What happens to the odds ratio if the paper was seen in arxiv? Is this effect statistically significant?"
   ]
  },
  {
   "cell_type": "code",
   "execution_count": 53,
   "metadata": {},
   "outputs": [
    {
     "name": "stdout",
     "output_type": "stream",
     "text": [
      "Optimization terminated successfully.\n",
      "         Current function value: 0.250440\n",
      "         Iterations 8\n"
     ]
    },
    {
     "data": {
      "text/html": [
       "<table class=\"simpletable\">\n",
       "<caption>Logit Regression Results</caption>\n",
       "<tr>\n",
       "  <th>Dep. Variable:</th>       <td>decisions</td>    <th>  No. Observations:  </th>  <td>  2052</td> \n",
       "</tr>\n",
       "<tr>\n",
       "  <th>Model:</th>                 <td>Logit</td>      <th>  Df Residuals:      </th>  <td>  2048</td> \n",
       "</tr>\n",
       "<tr>\n",
       "  <th>Method:</th>                 <td>MLE</td>       <th>  Df Model:          </th>  <td>     3</td> \n",
       "</tr>\n",
       "<tr>\n",
       "  <th>Date:</th>            <td>Fri, 20 Nov 2020</td> <th>  Pseudo R-squ.:     </th>  <td>0.5936</td> \n",
       "</tr>\n",
       "<tr>\n",
       "  <th>Time:</th>                <td>12:44:06</td>     <th>  Log-Likelihood:    </th> <td> -513.90</td>\n",
       "</tr>\n",
       "<tr>\n",
       "  <th>converged:</th>             <td>True</td>       <th>  LL-Null:           </th> <td> -1264.6</td>\n",
       "</tr>\n",
       "<tr>\n",
       "  <th>Covariance Type:</th>     <td>nonrobust</td>    <th>  LLR p-value:       </th>  <td> 0.000</td> \n",
       "</tr>\n",
       "</table>\n",
       "<table class=\"simpletable\">\n",
       "<tr>\n",
       "       <td></td>         <th>coef</th>     <th>std err</th>      <th>z</th>      <th>P>|z|</th>  <th>[0.025</th>    <th>0.975]</th>  \n",
       "</tr>\n",
       "<tr>\n",
       "  <th>const</th>      <td>  -13.2261</td> <td>    0.634</td> <td>  -20.873</td> <td> 0.000</td> <td>  -14.468</td> <td>  -11.984</td>\n",
       "</tr>\n",
       "<tr>\n",
       "  <th>ratings</th>    <td>    2.3541</td> <td>    0.111</td> <td>   21.296</td> <td> 0.000</td> <td>    2.137</td> <td>    2.571</td>\n",
       "</tr>\n",
       "<tr>\n",
       "  <th>reputation</th> <td>    0.2267</td> <td>    0.148</td> <td>    1.533</td> <td> 0.125</td> <td>   -0.063</td> <td>    0.517</td>\n",
       "</tr>\n",
       "<tr>\n",
       "  <th>arxiv</th>      <td>    0.2890</td> <td>    0.167</td> <td>    1.727</td> <td> 0.084</td> <td>   -0.039</td> <td>    0.617</td>\n",
       "</tr>\n",
       "</table>"
      ],
      "text/plain": [
       "<class 'statsmodels.iolib.summary.Summary'>\n",
       "\"\"\"\n",
       "                           Logit Regression Results                           \n",
       "==============================================================================\n",
       "Dep. Variable:              decisions   No. Observations:                 2052\n",
       "Model:                          Logit   Df Residuals:                     2048\n",
       "Method:                           MLE   Df Model:                            3\n",
       "Date:                Fri, 20 Nov 2020   Pseudo R-squ.:                  0.5936\n",
       "Time:                        12:44:06   Log-Likelihood:                -513.90\n",
       "converged:                       True   LL-Null:                       -1264.6\n",
       "Covariance Type:            nonrobust   LLR p-value:                     0.000\n",
       "==============================================================================\n",
       "                 coef    std err          z      P>|z|      [0.025      0.975]\n",
       "------------------------------------------------------------------------------\n",
       "const        -13.2261      0.634    -20.873      0.000     -14.468     -11.984\n",
       "ratings        2.3541      0.111     21.296      0.000       2.137       2.571\n",
       "reputation     0.2267      0.148      1.533      0.125      -0.063       0.517\n",
       "arxiv          0.2890      0.167      1.727      0.084      -0.039       0.617\n",
       "==============================================================================\n",
       "\"\"\""
      ]
     },
     "execution_count": 53,
     "metadata": {},
     "output_type": "execute_result"
    }
   ],
   "source": [
    "### Your code here! ###\n",
    "\n",
    "#### Task 2.3.1 ####\n",
    "## Slice out independant variables\n",
    "patsy_df = publications_2020[[\"ratings\", \"reputation\", \"arxiv\"]].copy()\n",
    "\n",
    "## Merge in decisions column using indices\n",
    "patsy_df = pd.merge(patsy_df, publications_2020_ratings[\"decisions\"], \n",
    "                    how='outer', left_index=True, right_index=True)\n",
    "\n",
    "## Translate True/False to 1/0\n",
    "patsy_df[\"arxiv\"] = patsy_df[\"arxiv\"].astype(int)\n",
    "\n",
    "## Add constant term to include intercept b0 in model\n",
    "patsy_df = sm.add_constant(patsy_df)\n",
    "\n",
    "## Instantiate and fit model. Dependant variable is dropped when passing df for independant variables.\n",
    "logreg_model = sm.Logit(patsy_df[\"decisions\"],\n",
    "                        patsy_df.drop(labels=\"decisions\", axis=1)).fit()\n",
    "\n",
    "## Report summary\n",
    "logreg_model.summary()"
   ]
  },
  {
   "cell_type": "markdown",
   "metadata": {},
   "source": [
    "#### Task 2.3.2 Discussion\n",
    "\n",
    "Both the coefficients for reputation and arxiv are positive, and both presence on arxiv and paper acceptance is defined as 1. Because arxiv is a categorical variable, it's coefficients interpretation is that it is an odds ratio since it is only multiplied by a scalar of either 0 or 1. \n",
    "\n",
    "Then, according to this model a higher reputation and presence on arxiv will lead to a higher chance that the paper accepted. The effect of a papers presence in arxiv before submission deadline on the odds on this model can be examined by looking at the exponentiated model:\n",
    "\n",
    "$$\n",
    "odds = \\Big( \\frac{p}{1-p} \\Big) = e^{b_0} e^{b_1 rating} e^{b_2 reputation} e^{b_3 arxiv}\n",
    "$$\n",
    "\n",
    "The odds ratio is increased with when arxiv = 1, and no effect when arxiv = 0\n",
    "\n",
    "$$\n",
    "e^{b_3 (arxiv)} = e^{0.289 \\cdot 1} = 1.335\n",
    "$$\n",
    "\n",
    "which will lead to the odds being multiplied by 1.335, an increase of 33.5%.\n",
    "\n",
    "$$\n",
    "odds = e^{b_0} e^{b_1 rating} e^{b_2 reputation} \\cdot 1.335\n",
    "$$\n",
    "\n",
    "The two-tailed P>|z| value of this coefficient is 0.084, as given by the summary table. If the statistical significance of this increase in odds were to be determined purely by it's p-value with an alpha of 0.05 then the conclusion is that the null hypothesis of this coefficient being significantly different from 0 cannot be rejected, even if the p-value is very close to the threshold.\n",
    "\n",
    "If a decision is to be made about removing this variable in the model based on a p-value when it is so close to the threshold is debatable. More importantly, the pseudo-R-squared value for this model is not larger than that of the simpler model fitted in task 2.2. This means that by increasing the complexity of the model we were unable to explain more of the variance in the data, and thus the predictor is not helpful to the model."
   ]
  },
  {
   "cell_type": "markdown",
   "metadata": {},
   "source": [
    "### Task 2.4\n",
    "\n",
    "Let's finally move on to the question that you have been dying to answer: Do pre-prints favor top institutions? \n",
    "\n",
    "In order to (try to) answer that question, you must fit yet another logistic regression.\n",
    "\n",
    "Your regression should have the paper decision as the dependent variable, and `ratings`, `reputation`, and `arxiv` as independent variables just like in task 2.3. Yet, here, include also as independent variables the binary variable `has_top_institution`, which equals 1 if the paper has an author in a top-10 institution; and the interaction variable `arxiv:has_top_institution`, which equals one only if the paper is from a top-10 institution **and** if it appeared on arxiv before the submission deadline. In patsy-style formula your model should look something like: \n",
    "\n",
    "`decisions_bool ~ ratings + reputation + arxiv + has_top_institution + arxiv:has_top_institution`\n",
    "\n",
    "\n",
    "1. Fit this model and estimate the effect of posting on arxiv for a top institution. Again, consider only papers submitted in the 2020 edition.\n",
    "2. **Discuss:** Interpreting the p-values, discuss: is this evidence that arxiv breaks double-blind submissions?"
   ]
  },
  {
   "cell_type": "code",
   "execution_count": 54,
   "metadata": {},
   "outputs": [
    {
     "name": "stdout",
     "output_type": "stream",
     "text": [
      "Optimization terminated successfully.\n",
      "         Current function value: 0.247320\n",
      "         Iterations 8\n"
     ]
    },
    {
     "data": {
      "text/html": [
       "<table class=\"simpletable\">\n",
       "<caption>Logit Regression Results</caption>\n",
       "<tr>\n",
       "  <th>Dep. Variable:</th>       <td>decisions</td>    <th>  No. Observations:  </th>  <td>  2052</td> \n",
       "</tr>\n",
       "<tr>\n",
       "  <th>Model:</th>                 <td>Logit</td>      <th>  Df Residuals:      </th>  <td>  2046</td> \n",
       "</tr>\n",
       "<tr>\n",
       "  <th>Method:</th>                 <td>MLE</td>       <th>  Df Model:          </th>  <td>     5</td> \n",
       "</tr>\n",
       "<tr>\n",
       "  <th>Date:</th>            <td>Fri, 20 Nov 2020</td> <th>  Pseudo R-squ.:     </th>  <td>0.5987</td> \n",
       "</tr>\n",
       "<tr>\n",
       "  <th>Time:</th>                <td>12:44:07</td>     <th>  Log-Likelihood:    </th> <td> -507.50</td>\n",
       "</tr>\n",
       "<tr>\n",
       "  <th>converged:</th>             <td>True</td>       <th>  LL-Null:           </th> <td> -1264.6</td>\n",
       "</tr>\n",
       "<tr>\n",
       "  <th>Covariance Type:</th>     <td>nonrobust</td>    <th>  LLR p-value:       </th>  <td> 0.000</td> \n",
       "</tr>\n",
       "</table>\n",
       "<table class=\"simpletable\">\n",
       "<tr>\n",
       "              <td></td>                 <th>coef</th>     <th>std err</th>      <th>z</th>      <th>P>|z|</th>  <th>[0.025</th>    <th>0.975]</th>  \n",
       "</tr>\n",
       "<tr>\n",
       "  <th>const</th>                     <td>  -13.3940</td> <td>    0.647</td> <td>  -20.717</td> <td> 0.000</td> <td>  -14.661</td> <td>  -12.127</td>\n",
       "</tr>\n",
       "<tr>\n",
       "  <th>ratings</th>                   <td>    2.3834</td> <td>    0.113</td> <td>   21.171</td> <td> 0.000</td> <td>    2.163</td> <td>    2.604</td>\n",
       "</tr>\n",
       "<tr>\n",
       "  <th>reputation</th>                <td>    0.1605</td> <td>    0.150</td> <td>    1.072</td> <td> 0.284</td> <td>   -0.133</td> <td>    0.454</td>\n",
       "</tr>\n",
       "<tr>\n",
       "  <th>arxiv</th>                     <td>    0.1061</td> <td>    0.200</td> <td>    0.529</td> <td> 0.597</td> <td>   -0.287</td> <td>    0.499</td>\n",
       "</tr>\n",
       "<tr>\n",
       "  <th>has_top_institution</th>       <td>    0.3662</td> <td>    0.224</td> <td>    1.631</td> <td> 0.103</td> <td>   -0.074</td> <td>    0.806</td>\n",
       "</tr>\n",
       "<tr>\n",
       "  <th>arxiv_has_top_institution</th> <td>    0.5793</td> <td>    0.370</td> <td>    1.568</td> <td> 0.117</td> <td>   -0.145</td> <td>    1.304</td>\n",
       "</tr>\n",
       "</table>"
      ],
      "text/plain": [
       "<class 'statsmodels.iolib.summary.Summary'>\n",
       "\"\"\"\n",
       "                           Logit Regression Results                           \n",
       "==============================================================================\n",
       "Dep. Variable:              decisions   No. Observations:                 2052\n",
       "Model:                          Logit   Df Residuals:                     2046\n",
       "Method:                           MLE   Df Model:                            5\n",
       "Date:                Fri, 20 Nov 2020   Pseudo R-squ.:                  0.5987\n",
       "Time:                        12:44:07   Log-Likelihood:                -507.50\n",
       "converged:                       True   LL-Null:                       -1264.6\n",
       "Covariance Type:            nonrobust   LLR p-value:                     0.000\n",
       "=============================================================================================\n",
       "                                coef    std err          z      P>|z|      [0.025      0.975]\n",
       "---------------------------------------------------------------------------------------------\n",
       "const                       -13.3940      0.647    -20.717      0.000     -14.661     -12.127\n",
       "ratings                       2.3834      0.113     21.171      0.000       2.163       2.604\n",
       "reputation                    0.1605      0.150      1.072      0.284      -0.133       0.454\n",
       "arxiv                         0.1061      0.200      0.529      0.597      -0.287       0.499\n",
       "has_top_institution           0.3662      0.224      1.631      0.103      -0.074       0.806\n",
       "arxiv_has_top_institution     0.5793      0.370      1.568      0.117      -0.145       1.304\n",
       "=============================================================================================\n",
       "\"\"\""
      ]
     },
     "execution_count": 54,
     "metadata": {},
     "output_type": "execute_result"
    }
   ],
   "source": [
    "### Your code here! ###\n",
    "\n",
    "#### Task 2.4.1 ####\n",
    "## Merge in has_top_institutions\n",
    "patsy_df_top10 = pd.merge(patsy_df, publications_2020[\"has_top_institution\"],\n",
    "                    how='outer', left_index=True, right_index=True)\n",
    "\n",
    "## Translate True/False to 1/0 respectively\n",
    "patsy_df_top10[\"has_top_institution\"] = patsy_df_top10[\"has_top_institution\"].astype(int)\n",
    "\n",
    "## Create arxiv:has_top_institution by element-wise multiplication\n",
    "## Will be 1 if both columns contains 1, and 0 otherwise\n",
    "patsy_df_top10[\"arxiv_has_top_institution\"] = patsy_df_top10[\"arxiv\"] * patsy_df_top10[\"has_top_institution\"]\n",
    "\n",
    "## Instantiate and fit Logit regression model. Dependant variable is dropped when passing df for independant variables.\n",
    "logreg_model = sm.Logit(patsy_df_top10[\"decisions\"],\n",
    "                        patsy_df_top10.drop(labels=\"decisions\", axis=1)).fit()\n",
    "\n",
    "## Print summary\n",
    "logreg_model.summary()"
   ]
  },
  {
   "cell_type": "markdown",
   "metadata": {},
   "source": [
    "#### Task 2.4.2 Discussion\n",
    "\n",
    "The p-values for reputation and arxiv has increased in comparison with Task 2.3, and all the p-values of the added explanatory variables are larger an alpha = 0.05. This means that we cannot reject the null hypothesis that these coefficients are significantly different from 0. In other words, we are unable to conclude the integrity of double-blinded submission is preserved.\n",
    "\n",
    "The inability of arriving at a conclusion on this matter might be due to several factors; a poorly conditioned experiment, the presence of other confounder variables, or simply that the integrity of double-blinded submission is in fact preserved. \n",
    "\n",
    "Do pre-prints favor top-institutions? The p-value for this coefficient is very high, so this is not likely."
   ]
  },
  {
   "cell_type": "markdown",
   "metadata": {},
   "source": [
    "## Step 3: Matching\n",
    "\n",
    "Okay, so let's change hats one last time.\n",
    "\n",
    "As you have all seen in class, a particularly powerful way of disentangling causal effects from observational data is through matching: making sure we are not comparing apples to oranges.\n",
    "\n",
    "\n",
    "### Task 3.1\n",
    "\n",
    "One of the ways to do matching is called \"Propensity Score Matching.\" There, we calculate a *propensity score* for each subject which represents the propensity to receive a \"treatment.\" Then, we match subjects who received and did not receive the treatment, but that had similar propensity scores (that is, even though some received the treatment and some did not, they had similar chances to receive it).\n",
    "\n",
    "In our specific case, we can further attempt to study the impact of pre-prints by considering publishing to arxiv as our \"treatment\".\n",
    "\n",
    "In that context, the first step to perform propensity score matching is to create a classifier that predicts whether a paper was published on arxiv or not.\n",
    "\n",
    "1. We have trained this classifier for you (don't get spoiled!). You may load the pandas dataframe entitled `propensity_scores.csv.gz` from the github repo. \n",
    "Notice that we will be using only the articles published in 2020. \n",
    "Create a new dataframe that is a merged version of this new dataframe with the dataframe you have been working on so far. Remember to keep only the papers published in 2020!\n",
    "2. **Discuss:** In which way is this classifier (that is a classifier trained to estimate propensity scores) different from the previous classifier that you trained in Step 1?\n",
    "\n",
    "**Hint:** For a classifier tra we don't need a training set and a test set!\n"
   ]
  },
  {
   "cell_type": "markdown",
   "metadata": {},
   "source": [
    "----\n",
    "### Task 3.1.1 Answer: "
   ]
  },
  {
   "cell_type": "code",
   "execution_count": 55,
   "metadata": {},
   "outputs": [],
   "source": [
    "# Load our spoiled premashed propensity scores :)\n",
    "PS_DATASET = DATA_FOLDER+\"propensity_scores.csv.gz\"\n",
    "prop_score_raw = pd.read_csv(PS_DATASET)\n",
    "prop_score = prop_score_raw.copy()\n",
    "\n",
    "# Merge propensity scores with current dataframe\n",
    "pub_data_wps = prop_score.merge(publications_data)\n",
    "pub_data_wps = pub_data_wps.loc[pub_data_wps.year == 2020]"
   ]
  },
  {
   "cell_type": "markdown",
   "metadata": {},
   "source": [
    "----\n",
    "### Task 3.1.2 Answer: \n",
    "The main problem is that the treatment (publishing to arxiv) is dependent of the other features (namely covariates).\n",
    "\n",
    "To fix this, we start by building a classifier to estimate a single information (the propensity score) which has an equal propability to treat then the covariates. \n",
    "\n",
    "So this propensity score has an equivalent probability distribution to treat than the covariates (in Step 1) but is represented in a single number instead of a set of features. \n",
    "\n",
    "Having reduced the dimensionality (a.k.a the difference between this classifier and previous classifier trained in step 1), we can way more easily match a treated and a control paper which in the first place have equal propability distribution of treatment. \n",
    "\n",
    "Matching on the single propensity scores is just as good as matching on the covariates. \n",
    "\n",
    "The key property which allows such matching is that given a propensity score $e(x)$, the treatment $Z$ is independent of all features within the covariates $x$.\n",
    "\n",
    "$$Z \\underline{||} x | e(x)$$"
   ]
  },
  {
   "cell_type": "markdown",
   "metadata": {},
   "source": [
    "### Task 3.2\n",
    "\n",
    "Now is time to match users! You will be implementing a technique called *caliper matching*. \n",
    "\n",
    "Create pairs of users as follows. For each treated subject (here a paper that was submitted to arxiv), find a non-treated subject (a paper that was not submitted to arxiv) with similar propensity score. Namely, if the propensity score of the treated unit is $p_t$, you must find a non-treated unit $p_c$ with propensity score $|p_{c} - p_t| < \\epsilon$. If there is no such a non-treated unit, you may ignore the treated unit and move forward with the matching. Notice that your output must be a 1-to-1 matching. So each paper can only be matched once.\n",
    "\n",
    "1. Perform this matching procedure using $\\epsilon = 0.05$.\n",
    "2. Report how many pairs did you manage to match? How many didn't you?"
   ]
  },
  {
   "cell_type": "markdown",
   "metadata": {},
   "source": [
    "-----\n",
    "### Task 3.2.1 Answer: "
   ]
  },
  {
   "cell_type": "code",
   "execution_count": 56,
   "metadata": {},
   "outputs": [],
   "source": [
    "# This function efficiently finds a close to optimal propensity score match while repecting the constraints: (one treatment + one control) & (delta<epsilon) & (1-1 match)\n",
    "def add_match_paper(data, eps=0.05): # maximum propsentiy score delta is 0.05 by default\n",
    "    start = time.time() # start time \n",
    "    # data wrangling\n",
    "    data = data.copy()\n",
    "    data['match_paper'] = np.nan\n",
    "    df_treat = data.loc[data['arxiv'] == True]\n",
    "    df_ctrl = data.loc[data['arxiv'] == False]\n",
    "    # dfA will be the shortest dataset among treatment and control, dfB the other\n",
    "    # The key idea is that we will try to find the best pair for each row of the shortest dataframe (dfA). A lot of rows in dfB will remain unmatched because there are more rows than dfA\n",
    "    # We then gain speed by not iterating over all rows in dataset \n",
    "    if len(df_ctrl)>len(df_treat):\n",
    "        dfA = df_treat\n",
    "        dfB = df_ctrl\n",
    "    else:\n",
    "        dfB = df_treat\n",
    "        dfA = df_ctrl\n",
    "    for i in range(len(dfA)):\n",
    "        # 1) Sort the papers by how close the propensity score is to the current paper (speeds up search process)\n",
    "        dfB_sort = dfB.iloc[(dfB['propensity_score']-dfA['propensity_score'].iloc[i]).abs().argsort()] \n",
    "        # 2) Find the first paper in sorted list with a different arxiv result, with lower delta than epsilon and which papers have no matches yet. \n",
    "        for row_dfB_sort in dfB_sort.itertuples():\n",
    "            test1 = abs(row_dfB_sort.propensity_score - dfA['propensity_score'].iloc[i]) > eps # test if delta above epsilon\n",
    "            test3 = dfB['match_paper'].loc[dfB['paper'] == row_dfB_sort.paper].isnull().values[0] # test if matched paper doesn't have a match \n",
    "            if (test1): # if delta above epsilon or paper already has a match then no point in going further in the sorted list\n",
    "                break\n",
    "            if (test3): # if matched paper doesn't have a match yet and match treatment is of opposite value then pair them\n",
    "                # 3) Paste the matching paper details in new column for both paper and matched paper rows\n",
    "                dfA['match_paper'].iloc[i] = row_dfB_sort.paper\n",
    "                dfB['match_paper'].loc[dfB['paper'] == row_dfB_sort.paper] = dfA['paper'].iloc[i]\n",
    "                data['match_paper'].loc[data['paper'] == dfA['paper'].iloc[i]] = row_dfB_sort.paper # Copy matching paper\n",
    "                data['match_paper'].loc[data['paper'] == row_dfB_sort.paper] = dfA['paper'].iloc[i] # Also write the pair in the matched paper row\n",
    "                break\n",
    "    elapsed = time.time() - start # elapsed time\n",
    "    return data, elapsed"
   ]
  },
  {
   "cell_type": "code",
   "execution_count": 57,
   "metadata": {},
   "outputs": [],
   "source": [
    "# Once the matching is performed, this function extract usefull new DataFrames for further analysis\n",
    "def build_new_df(data):\n",
    "    #Reorganise data in new DataFrames:\n",
    "    df_treated_all = data.loc[(data['arxiv']==True)].reset_index()\n",
    "    df_control_all = data.loc[(data['arxiv']==False)].reset_index()\n",
    "    df_all_matched = data.dropna()\n",
    "    df_treated_matched   = data.loc[(data['arxiv']==True) & (data.match_paper.notnull())].reset_index()\n",
    "    df_control_matched = data.loc[(data['arxiv']==False) & (data.match_paper.notnull())].reset_index()\n",
    "    # merge control and treat together and drop duplicate columns (sbs = side by side)\n",
    "    df_sbs_matched = df_treated_matched.merge(df_control_matched, left_on='match_paper', right_on='paper', suffixes=('_treat', '_ctrl'))\n",
    "    df_sbs_matched.drop(df_sbs_matched.filter(regex='match').columns,axis=1,inplace=True)\n",
    "    return df_treated_all, df_control_all, df_all_matched, df_treated_matched, df_control_matched, df_sbs_matched, df_sbs_matched"
   ]
  },
  {
   "cell_type": "code",
   "execution_count": 58,
   "metadata": {},
   "outputs": [],
   "source": [
    "# This function yields interesting metrics (speed of execution, ensure that we have 1-1 matching and sum of propensity scores delta) to evaluate the matching performance \n",
    "def match_performance(elapsed, df, df_sbs):\n",
    "    text_speed = 'SPEED:\\nMatching the dataset took {:.1f} seconds'.format(elapsed)\n",
    "    text_duplicates = 'DUPLICATES:\\nIs there any duplicates in the matched papers, thus meaning not respecting the 1-1 matching ?\\n{}'.format(df.duplicated().any())\n",
    "    #sum_delta = sum(df_t.propensity_score - df_c.propensity_score)\n",
    "    sum_delta = sum(df_sbs.propensity_score_treat - df_sbs.propensity_score_ctrl)\n",
    "    text_sumdelta = 'BALANCING:\\nThe sum of all propsensity score differneces between matches yield: {:.2} (goal is as close to 0 as possible)'.format(sum_delta)\n",
    "    return text_speed, text_duplicates, text_sumdelta"
   ]
  },
  {
   "cell_type": "code",
   "execution_count": 59,
   "metadata": {},
   "outputs": [
    {
     "name": "stderr",
     "output_type": "stream",
     "text": [
      "/usr/local/lib/python3.6/dist-packages/pandas/core/indexing.py:670: SettingWithCopyWarning: \n",
      "A value is trying to be set on a copy of a slice from a DataFrame\n",
      "\n",
      "See the caveats in the documentation: https://pandas.pydata.org/pandas-docs/stable/user_guide/indexing.html#returning-a-view-versus-a-copy\n",
      "  iloc._setitem_with_indexer(indexer, value)\n",
      "/usr/local/lib/python3.6/dist-packages/ipykernel_launcher.py:29: SettingWithCopyWarning: \n",
      "A value is trying to be set on a copy of a slice from a DataFrame\n",
      "\n",
      "See the caveats in the documentation: https://pandas.pydata.org/pandas-docs/stable/user_guide/indexing.html#returning-a-view-versus-a-copy\n",
      "/usr/local/lib/python3.6/dist-packages/ipykernel_launcher.py:30: SettingWithCopyWarning: \n",
      "A value is trying to be set on a copy of a slice from a DataFrame\n",
      "\n",
      "See the caveats in the documentation: https://pandas.pydata.org/pandas-docs/stable/user_guide/indexing.html#returning-a-view-versus-a-copy\n"
     ]
    },
    {
     "name": "stdout",
     "output_type": "stream",
     "text": [
      "SPEED:\n",
      "Matching the dataset took 4.9 seconds\n",
      "\n",
      "DUPLICATES:\n",
      "Is there any duplicates in the matched papers, thus meaning not respecting the 1-1 matching ?\n",
      "False\n",
      "\n",
      "BALANCING:\n",
      "The sum of all propsensity score differneces between matches yield: 0.035 (goal is as close to 0 as possible)\n",
      "\n"
     ]
    }
   ],
   "source": [
    "# Perform matching\n",
    "pub_data_wps, elapsed = add_match_paper(pub_data_wps)\n",
    "\n",
    "# Get new DataFrames usefull for further analysis\n",
    "df_treated_all, df_control_all, df_all_matched, df_treated_matched, df_control_matched, df_sbs_matched, df_sbs_matched = build_new_df(pub_data_wps)\n",
    "\n",
    "# Print matching performance metrics\n",
    "text_speed, text_duplicates, text_sumdelta = match_performance(elapsed, df_all_matched['match_paper'], df_sbs_matched)\n",
    "print(text_speed+'\\n')\n",
    "print(text_duplicates+'\\n')\n",
    "print(text_sumdelta+'\\n')"
   ]
  },
  {
   "cell_type": "markdown",
   "metadata": {},
   "source": [
    "Note on matching optimality: \n",
    "\n",
    "This matching method is not optimal but probably good enough. As we went sequentially in the list to find matches, as soon as a match is done we don't look further if the paired paper could have been better matched with another one. Hence if the list was ordered differently, the matching could look different. However, from the sum of all propsensity score differneces we can see that it is already very perfmant"
   ]
  },
  {
   "cell_type": "markdown",
   "metadata": {},
   "source": [
    "-----\n",
    "### Task 3.2.2 Answer: "
   ]
  },
  {
   "cell_type": "code",
   "execution_count": 60,
   "metadata": {},
   "outputs": [],
   "source": [
    "def match_count(data, eps=0.05):\n",
    "    matched_count = data.match_paper.notnull().sum()\n",
    "    unmatched_count = data.match_paper.isnull().sum()\n",
    "    text = ('We managed to match {} papers.\\n{} remain unmatched with epsilon = {}.\\nThe main reason is that we have only {} treated papers vs {} control papers.\\nSo at most we can have {} matched papers.'.format(matched_count, unmatched_count, eps, len(data.loc[data['arxiv']==True]), len(data.loc[data['arxiv']==False]), 2*len(data.loc[data['arxiv']==True])))\n",
    "    return text"
   ]
  },
  {
   "cell_type": "code",
   "execution_count": 61,
   "metadata": {},
   "outputs": [
    {
     "name": "stdout",
     "output_type": "stream",
     "text": [
      "We managed to match 1180 papers.\n",
      "872 remain unmatched with epsilon = 0.05.\n",
      "The main reason is that we have only 590 treated papers vs 1462 control papers.\n",
      "So at most we can have 1180 matched papers.\n"
     ]
    }
   ],
   "source": [
    "print(match_count(pub_data_wps))"
   ]
  },
  {
   "cell_type": "markdown",
   "metadata": {
    "pycharm": {
     "name": "#%% md\n"
    }
   },
   "source": [
    "### Task 3.3\n",
    "\n",
    "Let's evaluate your matching! There are more rigorous ways to do it, but we'll go the easy path.\n",
    "\n",
    "\n",
    "1. Using one or several appropriate plot types, visualize the distributions of the variables reputation and ratings, for treated and non-treated subjects that you matched.\n",
    "2. Visualize the distributions of these variables for all papers from 2020 that appeared on arxiv, and all papers that did not (including those you did not manage to match).\n",
    "3. **Discuss:** According to your visual analysis (no statistical tests needed here), did the matching do a good job at balancing covariates?"
   ]
  },
  {
   "cell_type": "code",
   "execution_count": 62,
   "metadata": {},
   "outputs": [],
   "source": [
    "def plot_rep_rat(data_all, data_treat, data_control, title):\n",
    "\n",
    "    fig, ax = plt.subplots(2, 2, figsize=(8,8))\n",
    "\n",
    "    g1 = sns.boxplot(x='arxiv', y='reputation', data=data_all, palette=\"Blues\", ax=ax[0,0])\n",
    "    g1.set(title='reputation')\n",
    "    g1.set(ylabel=None)  # remove the axis label\n",
    "    g1.set(xlabel='treated')\n",
    "\n",
    "    g2 = sns.boxplot(x='arxiv', y='ratings', data=data_all, palette=\"Blues\", ax=ax[0,1])\n",
    "    g2.set(title='ratings')\n",
    "    g2.set(ylabel=None)  \n",
    "    g2.set(xlabel='treated')\n",
    "\n",
    "    g3 = sns.distplot(data_treat.reputation, hist=True, ax=ax[1,0], vertical=True)\n",
    "    g3 = sns.distplot(data_control.reputation, hist=True, ax=ax[1,0], vertical=True)\n",
    "    g3.legend(['treated','control'])\n",
    "    g3.set(ylabel=None) \n",
    "\n",
    "    g4 = sns.distplot(data_treat.ratings, hist=True, ax=ax[1,1], vertical=True)\n",
    "    g4 = sns.distplot(data_control.ratings, hist=True, ax=ax[1,1], vertical=True)\n",
    "    g4.legend(['treated','control'])\n",
    "    g4.set(ylabel=None) \n",
    "\n",
    "    plt.suptitle(title)"
   ]
  },
  {
   "cell_type": "markdown",
   "metadata": {},
   "source": [
    "-----\n",
    "### Task 3.3.1 Answer: "
   ]
  },
  {
   "cell_type": "code",
   "execution_count": 63,
   "metadata": {},
   "outputs": [
    {
     "name": "stderr",
     "output_type": "stream",
     "text": [
      "/usr/local/lib/python3.6/dist-packages/seaborn/distributions.py:2551: FutureWarning: `distplot` is a deprecated function and will be removed in a future version. Please adapt your code to use either `displot` (a figure-level function with similar flexibility) or `histplot` (an axes-level function for histograms).\n",
      "  warnings.warn(msg, FutureWarning)\n",
      "/usr/local/lib/python3.6/dist-packages/seaborn/distributions.py:1649: FutureWarning: The `vertical` parameter is deprecated and will be removed in a future version. Assign the data to the `y` variable instead.\n",
      "  warnings.warn(msg, FutureWarning)\n",
      "/usr/local/lib/python3.6/dist-packages/seaborn/distributions.py:2551: FutureWarning: `distplot` is a deprecated function and will be removed in a future version. Please adapt your code to use either `displot` (a figure-level function with similar flexibility) or `histplot` (an axes-level function for histograms).\n",
      "  warnings.warn(msg, FutureWarning)\n",
      "/usr/local/lib/python3.6/dist-packages/seaborn/distributions.py:1649: FutureWarning: The `vertical` parameter is deprecated and will be removed in a future version. Assign the data to the `y` variable instead.\n",
      "  warnings.warn(msg, FutureWarning)\n",
      "/usr/local/lib/python3.6/dist-packages/seaborn/distributions.py:2551: FutureWarning: `distplot` is a deprecated function and will be removed in a future version. Please adapt your code to use either `displot` (a figure-level function with similar flexibility) or `histplot` (an axes-level function for histograms).\n",
      "  warnings.warn(msg, FutureWarning)\n",
      "/usr/local/lib/python3.6/dist-packages/seaborn/distributions.py:1649: FutureWarning: The `vertical` parameter is deprecated and will be removed in a future version. Assign the data to the `y` variable instead.\n",
      "  warnings.warn(msg, FutureWarning)\n",
      "/usr/local/lib/python3.6/dist-packages/seaborn/distributions.py:2551: FutureWarning: `distplot` is a deprecated function and will be removed in a future version. Please adapt your code to use either `displot` (a figure-level function with similar flexibility) or `histplot` (an axes-level function for histograms).\n",
      "  warnings.warn(msg, FutureWarning)\n",
      "/usr/local/lib/python3.6/dist-packages/seaborn/distributions.py:1649: FutureWarning: The `vertical` parameter is deprecated and will be removed in a future version. Assign the data to the `y` variable instead.\n",
      "  warnings.warn(msg, FutureWarning)\n"
     ]
    },
    {
     "data": {
      "image/png": "[encoded data removed]",
      "text/plain": [
       "<Figure size 576x576 with 4 Axes>"
      ]
     },
     "metadata": {
      "needs_background": "light"
     },
     "output_type": "display_data"
    }
   ],
   "source": [
    "plot_rep_rat(df_all_matched,df_treated_matched,df_control_matched, 'Matched dataset')\n",
    "plt.show()"
   ]
  },
  {
   "cell_type": "markdown",
   "metadata": {},
   "source": [
    "-----\n",
    "### Task 3.3.2 Answer: "
   ]
  },
  {
   "cell_type": "code",
   "execution_count": 64,
   "metadata": {},
   "outputs": [
    {
     "name": "stderr",
     "output_type": "stream",
     "text": [
      "/usr/local/lib/python3.6/dist-packages/seaborn/distributions.py:2551: FutureWarning: `distplot` is a deprecated function and will be removed in a future version. Please adapt your code to use either `displot` (a figure-level function with similar flexibility) or `histplot` (an axes-level function for histograms).\n",
      "  warnings.warn(msg, FutureWarning)\n",
      "/usr/local/lib/python3.6/dist-packages/seaborn/distributions.py:1649: FutureWarning: The `vertical` parameter is deprecated and will be removed in a future version. Assign the data to the `y` variable instead.\n",
      "  warnings.warn(msg, FutureWarning)\n",
      "/usr/local/lib/python3.6/dist-packages/seaborn/distributions.py:2551: FutureWarning: `distplot` is a deprecated function and will be removed in a future version. Please adapt your code to use either `displot` (a figure-level function with similar flexibility) or `histplot` (an axes-level function for histograms).\n",
      "  warnings.warn(msg, FutureWarning)\n",
      "/usr/local/lib/python3.6/dist-packages/seaborn/distributions.py:1649: FutureWarning: The `vertical` parameter is deprecated and will be removed in a future version. Assign the data to the `y` variable instead.\n",
      "  warnings.warn(msg, FutureWarning)\n",
      "/usr/local/lib/python3.6/dist-packages/seaborn/distributions.py:2551: FutureWarning: `distplot` is a deprecated function and will be removed in a future version. Please adapt your code to use either `displot` (a figure-level function with similar flexibility) or `histplot` (an axes-level function for histograms).\n",
      "  warnings.warn(msg, FutureWarning)\n",
      "/usr/local/lib/python3.6/dist-packages/seaborn/distributions.py:1649: FutureWarning: The `vertical` parameter is deprecated and will be removed in a future version. Assign the data to the `y` variable instead.\n",
      "  warnings.warn(msg, FutureWarning)\n",
      "/usr/local/lib/python3.6/dist-packages/seaborn/distributions.py:2551: FutureWarning: `distplot` is a deprecated function and will be removed in a future version. Please adapt your code to use either `displot` (a figure-level function with similar flexibility) or `histplot` (an axes-level function for histograms).\n",
      "  warnings.warn(msg, FutureWarning)\n",
      "/usr/local/lib/python3.6/dist-packages/seaborn/distributions.py:1649: FutureWarning: The `vertical` parameter is deprecated and will be removed in a future version. Assign the data to the `y` variable instead.\n",
      "  warnings.warn(msg, FutureWarning)\n"
     ]
    },
    {
     "data": {
      "image/png": "[encoded data removed]",
      "text/plain": [
       "<Figure size 576x576 with 4 Axes>"
      ]
     },
     "metadata": {
      "needs_background": "light"
     },
     "output_type": "display_data"
    }
   ],
   "source": [
    "plot_rep_rat(pub_data_wps,df_treated_all,df_control_all, 'Full dataset')\n",
    "plt.show()"
   ]
  },
  {
   "cell_type": "markdown",
   "metadata": {},
   "source": [
    "----\n",
    "### Task 3.3.3 Answer:\n",
    "Question: According to your visual analysis (no statistical tests needed here), did the matching do a good job at balancing covariates? \n",
    "\n",
    "Answer:\n",
    "\n",
    "The propensity score + matching allows a balancing of the covariates probability distribution on treatment. We can clearly see that the distribution is really close for both ratings and reputation in treatment vs control when we perform matching. For the whole dataset the distributions are significantly different. "
   ]
  },
  {
   "cell_type": "markdown",
   "metadata": {
    "pycharm": {
     "name": "#%% md\n"
    }
   },
   "source": [
    "### Task 3.4\n",
    "\n",
    "Finally, it's time to estimate the treatment effect. Given that we have pairs of matched samples, one that received treatment and one that did not, and that they have associated outcomes $y_{treat}$ and $y_{\\neg treat}$. We can calculate the average treatment effect as:\n",
    "\n",
    "$$\n",
    "ATE = \\frac{1}{N} \\sum_i^N  y_{treat}^{(i)} - y_{\\neg treat}^{(i)}\n",
    "$$\n",
    "\n",
    "Notice that here the outcome is a simple binary variable which equals 1 if the paper has been accepted and equals 0 if the paper has been rejected, and $N$ is the total number of matched samples in our analysis.\n",
    "\n",
    "According to your matched sample, estimate the treatment effect of publishing a paper on arxiv. Report the 95% CI through bootstrapping.\n"
   ]
  },
  {
   "cell_type": "code",
   "execution_count": 65,
   "metadata": {},
   "outputs": [],
   "source": [
    "#Compute the Average Treatment Effect\n",
    "def ATE(data):\n",
    "    # Change decisions from Accept to 1 and Rejected to 0\n",
    "    data['decisions_ctrl'] = data['decisions_ctrl'].apply(lambda x: 1 if (x=='Accept') else 0)\n",
    "    data['decisions_treat'] = data['decisions_treat'].apply(lambda x: 1 if (x=='Accept') else 0)\n",
    "    ATE_value = np.sum(data['decisions_treat'] - data['decisions_ctrl'])/len(data)\n",
    "    ATE_text = 'The average treatment effect (published on arxiv) on the outcome (decision) is: {:.2}'.format(ATE_value)\n",
    "    return ATE_text, ATE_value"
   ]
  },
  {
   "cell_type": "code",
   "execution_count": 66,
   "metadata": {},
   "outputs": [],
   "source": [
    "# Compute the treatment effect as well as the confidence intervals\n",
    "def treat_effect(df):\n",
    "    # 1) define dataset:\n",
    "    # DataFrame with only arxiv and decisions columns and only for matched papers\n",
    "    data = df[['arxiv', 'decisions']].copy()\n",
    "    # Replace values by binar\n",
    "    data['arxiv'] = data['arxiv'].apply(lambda x: 1 if x else 0)\n",
    "    data['decisions'] = data['decisions'].apply(lambda x: 1 if (x=='Accept') else 0)\n",
    "    features = 'arxiv'\n",
    "    prediction = 'decisions'\n",
    "\n",
    "    # 2) Bootstraping:\n",
    "    # configure bootstrap\n",
    "    n_iterations = 1000\n",
    "    n_size = int(len(data) * 0.50)\n",
    "    # run bootstrap\n",
    "    coef = list()\n",
    "    for i in range(n_iterations):\n",
    "        # prepare train and test sets\n",
    "        train, test = split_set(data)\n",
    "        x_train,y_train = split_x_y(train,features,prediction)\n",
    "        x_test,y_test = split_x_y(train,features,prediction)\n",
    "        # Necessary manipulation for single feature only\n",
    "        x_train = np.array(x_train).reshape((-1, 1))\n",
    "        x_test = np.array(x_test).reshape((-1, 1))\n",
    "        # fit model\n",
    "        model = LinearRegression().fit(x_train, y_train)\n",
    "        # evaluate model\n",
    "        predictions = model.predict(x_test)\n",
    "        coef_value = model.coef_[0]\n",
    "        coef.append(coef_value)\n",
    "    \n",
    "    # 3) coef plot\n",
    "    x = pd.Series(coef, name=\"coef\")\n",
    "    sns.distplot(x)\n",
    "\n",
    "    # 4) Confidence Intervals\n",
    "    alpha = 0.95\n",
    "    p = ((1.0-alpha)/2.0) * 100\n",
    "    coef_lower = np.percentile(coef, p)\n",
    "    p = (alpha+((1.0-alpha)/2.0)) * 100\n",
    "    coef_upper = np.percentile(coef, p)\n",
    "    coef_text = 'With {:.1%} confidence interval, the treatment effect of publishing a paper on arxiv raises the propability of acceptance within {:.1%} and {:.1%}.'.format(alpha,           coef_lower, coef_upper)\n",
    "\n",
    "    return(coef_text, coef_lower, coef_upper)"
   ]
  },
  {
   "cell_type": "code",
   "execution_count": 67,
   "metadata": {},
   "outputs": [
    {
     "name": "stdout",
     "output_type": "stream",
     "text": [
      "The average treatment effect (published on arxiv) on the outcome (decision) is: 0.036\n"
     ]
    },
    {
     "name": "stderr",
     "output_type": "stream",
     "text": [
      "/usr/local/lib/python3.6/dist-packages/seaborn/distributions.py:2551: FutureWarning: `distplot` is a deprecated function and will be removed in a future version. Please adapt your code to use either `displot` (a figure-level function with similar flexibility) or `histplot` (an axes-level function for histograms).\n",
      "  warnings.warn(msg, FutureWarning)\n"
     ]
    },
    {
     "name": "stdout",
     "output_type": "stream",
     "text": [
      "With 95.0% confidence interval, the treatment effect of publishing a paper on arxiv raises the propability of acceptance within 0.3% and 7.3%.\n"
     ]
    },
    {
     "data": {
      "image/png": "[encoded data removed]",
      "text/plain": [
       "<Figure size 432x288 with 1 Axes>"
      ]
     },
     "metadata": {
      "needs_background": "light"
     },
     "output_type": "display_data"
    }
   ],
   "source": [
    "ATE_text, ATE_value = ATE(df_sbs_matched.copy())\n",
    "print(ATE_text)\n",
    "\n",
    "coef_text, coef_lower, coef_upper = treat_effect(df_all_matched)\n",
    "print(coef_text)\n",
    "plt.show()"
   ]
  },
  {
   "cell_type": "markdown",
   "metadata": {
    "pycharm": {
     "name": "#%% md\n"
    }
   },
   "source": [
    "### Task 3.5\n",
    "\n",
    "Wait, but what about prestigious institutions? \n",
    "\n",
    "1.  To understand what is going on there, repeat tasks 3.2 to 3.4 considering *only* the top 10 institutions. Notice that you can use the same propensity scores and re-do the steps in a reduced dataframe containing only top-institutions.\n",
    "2. **Discuss:** Is this evidence that arxiv breaks double-blind submissions?"
   ]
  },
  {
   "cell_type": "markdown",
   "metadata": {},
   "source": [
    "----\n",
    "### Task 3.5.1 Answer:"
   ]
  },
  {
   "cell_type": "code",
   "execution_count": 68,
   "metadata": {},
   "outputs": [],
   "source": [
    "# Reduce dataset to top 10 institutions\n",
    "pub_data_wps_top10 = pub_data_wps.loc[pub_data_wps['has_top_institution'] == True].copy()"
   ]
  },
  {
   "cell_type": "code",
   "execution_count": 69,
   "metadata": {
    "pycharm": {
     "name": "#%%\n"
    }
   },
   "outputs": [
    {
     "name": "stderr",
     "output_type": "stream",
     "text": [
      "/usr/local/lib/python3.6/dist-packages/pandas/core/indexing.py:670: SettingWithCopyWarning: \n",
      "A value is trying to be set on a copy of a slice from a DataFrame\n",
      "\n",
      "See the caveats in the documentation: https://pandas.pydata.org/pandas-docs/stable/user_guide/indexing.html#returning-a-view-versus-a-copy\n",
      "  iloc._setitem_with_indexer(indexer, value)\n",
      "/usr/local/lib/python3.6/dist-packages/ipykernel_launcher.py:29: SettingWithCopyWarning: \n",
      "A value is trying to be set on a copy of a slice from a DataFrame\n",
      "\n",
      "See the caveats in the documentation: https://pandas.pydata.org/pandas-docs/stable/user_guide/indexing.html#returning-a-view-versus-a-copy\n",
      "/usr/local/lib/python3.6/dist-packages/ipykernel_launcher.py:30: SettingWithCopyWarning: \n",
      "A value is trying to be set on a copy of a slice from a DataFrame\n",
      "\n",
      "See the caveats in the documentation: https://pandas.pydata.org/pandas-docs/stable/user_guide/indexing.html#returning-a-view-versus-a-copy\n"
     ]
    },
    {
     "name": "stdout",
     "output_type": "stream",
     "text": [
      "SPEED:\n",
      "Matching the dataset took 1.2 seconds\n",
      "\n",
      "DUPLICATES:\n",
      "Is there any duplicates in the matched papers, thus meaning not respecting the 1-1 matching ?\n",
      "False\n",
      "\n",
      "BALANCING:\n",
      "The sum of all propsensity score differneces between matches yield: -0.013 (goal is as close to 0 as possible)\n",
      "\n"
     ]
    }
   ],
   "source": [
    "# Task 3.2.1\n",
    "\n",
    "# Perform matching\n",
    "pub_data_wps_top10, elapsed_top10 = add_match_paper(pub_data_wps_top10)\n",
    "\n",
    "# Get new DataFrames usefull for further analysis\n",
    "df_treated_all_top10, df_control_all_top10, df_all_matched_top10, df_treated_matched_top10, df_control_matched_top10, df_sbs_matched_top10, df_sbs_matched_top10 = build_new_df(pub_data_wps_top10)\n",
    "\n",
    "# Print matching performance metrics\n",
    "text_speed_top10, text_duplicates_top10, text_sumdelta_top10 = match_performance(elapsed_top10, df_all_matched_top10['match_paper'], df_sbs_matched_top10)\n",
    "print(text_speed_top10+'\\n')\n",
    "print(text_duplicates_top10+'\\n')\n",
    "print(text_sumdelta_top10+'\\n')"
   ]
  },
  {
   "cell_type": "code",
   "execution_count": 70,
   "metadata": {},
   "outputs": [
    {
     "name": "stdout",
     "output_type": "stream",
     "text": [
      "We managed to match 322 papers.\n",
      "200 remain unmatched with epsilon = 0.05.\n",
      "The main reason is that we have only 161 treated papers vs 361 control papers.\n",
      "So at most we can have 322 matched papers.\n"
     ]
    }
   ],
   "source": [
    "# Task 3.2.2\n",
    "\n",
    "print(match_count(pub_data_wps_top10))"
   ]
  },
  {
   "cell_type": "code",
   "execution_count": 71,
   "metadata": {},
   "outputs": [
    {
     "name": "stderr",
     "output_type": "stream",
     "text": [
      "/usr/local/lib/python3.6/dist-packages/seaborn/distributions.py:2551: FutureWarning: `distplot` is a deprecated function and will be removed in a future version. Please adapt your code to use either `displot` (a figure-level function with similar flexibility) or `histplot` (an axes-level function for histograms).\n",
      "  warnings.warn(msg, FutureWarning)\n",
      "/usr/local/lib/python3.6/dist-packages/seaborn/distributions.py:1649: FutureWarning: The `vertical` parameter is deprecated and will be removed in a future version. Assign the data to the `y` variable instead.\n",
      "  warnings.warn(msg, FutureWarning)\n",
      "/usr/local/lib/python3.6/dist-packages/seaborn/distributions.py:2551: FutureWarning: `distplot` is a deprecated function and will be removed in a future version. Please adapt your code to use either `displot` (a figure-level function with similar flexibility) or `histplot` (an axes-level function for histograms).\n",
      "  warnings.warn(msg, FutureWarning)\n",
      "/usr/local/lib/python3.6/dist-packages/seaborn/distributions.py:1649: FutureWarning: The `vertical` parameter is deprecated and will be removed in a future version. Assign the data to the `y` variable instead.\n",
      "  warnings.warn(msg, FutureWarning)\n",
      "/usr/local/lib/python3.6/dist-packages/seaborn/distributions.py:2551: FutureWarning: `distplot` is a deprecated function and will be removed in a future version. Please adapt your code to use either `displot` (a figure-level function with similar flexibility) or `histplot` (an axes-level function for histograms).\n",
      "  warnings.warn(msg, FutureWarning)\n",
      "/usr/local/lib/python3.6/dist-packages/seaborn/distributions.py:1649: FutureWarning: The `vertical` parameter is deprecated and will be removed in a future version. Assign the data to the `y` variable instead.\n",
      "  warnings.warn(msg, FutureWarning)\n",
      "/usr/local/lib/python3.6/dist-packages/seaborn/distributions.py:2551: FutureWarning: `distplot` is a deprecated function and will be removed in a future version. Please adapt your code to use either `displot` (a figure-level function with similar flexibility) or `histplot` (an axes-level function for histograms).\n",
      "  warnings.warn(msg, FutureWarning)\n",
      "/usr/local/lib/python3.6/dist-packages/seaborn/distributions.py:1649: FutureWarning: The `vertical` parameter is deprecated and will be removed in a future version. Assign the data to the `y` variable instead.\n",
      "  warnings.warn(msg, FutureWarning)\n"
     ]
    },
    {
     "data": {
      "image/png": "[encoded data removed]",
      "text/plain": [
       "<Figure size 576x576 with 4 Axes>"
      ]
     },
     "metadata": {
      "needs_background": "light"
     },
     "output_type": "display_data"
    }
   ],
   "source": [
    "# Task 3.3.1\n",
    "\n",
    "plot_rep_rat(df_all_matched_top10,df_treated_matched_top10,df_control_matched_top10, 'Matched dataset - top 10 institutions')\n",
    "plt.show()"
   ]
  },
  {
   "cell_type": "code",
   "execution_count": 72,
   "metadata": {},
   "outputs": [
    {
     "name": "stderr",
     "output_type": "stream",
     "text": [
      "/usr/local/lib/python3.6/dist-packages/seaborn/distributions.py:2551: FutureWarning: `distplot` is a deprecated function and will be removed in a future version. Please adapt your code to use either `displot` (a figure-level function with similar flexibility) or `histplot` (an axes-level function for histograms).\n",
      "  warnings.warn(msg, FutureWarning)\n",
      "/usr/local/lib/python3.6/dist-packages/seaborn/distributions.py:1649: FutureWarning: The `vertical` parameter is deprecated and will be removed in a future version. Assign the data to the `y` variable instead.\n",
      "  warnings.warn(msg, FutureWarning)\n",
      "/usr/local/lib/python3.6/dist-packages/seaborn/distributions.py:2551: FutureWarning: `distplot` is a deprecated function and will be removed in a future version. Please adapt your code to use either `displot` (a figure-level function with similar flexibility) or `histplot` (an axes-level function for histograms).\n",
      "  warnings.warn(msg, FutureWarning)\n",
      "/usr/local/lib/python3.6/dist-packages/seaborn/distributions.py:1649: FutureWarning: The `vertical` parameter is deprecated and will be removed in a future version. Assign the data to the `y` variable instead.\n",
      "  warnings.warn(msg, FutureWarning)\n",
      "/usr/local/lib/python3.6/dist-packages/seaborn/distributions.py:2551: FutureWarning: `distplot` is a deprecated function and will be removed in a future version. Please adapt your code to use either `displot` (a figure-level function with similar flexibility) or `histplot` (an axes-level function for histograms).\n",
      "  warnings.warn(msg, FutureWarning)\n",
      "/usr/local/lib/python3.6/dist-packages/seaborn/distributions.py:1649: FutureWarning: The `vertical` parameter is deprecated and will be removed in a future version. Assign the data to the `y` variable instead.\n",
      "  warnings.warn(msg, FutureWarning)\n",
      "/usr/local/lib/python3.6/dist-packages/seaborn/distributions.py:2551: FutureWarning: `distplot` is a deprecated function and will be removed in a future version. Please adapt your code to use either `displot` (a figure-level function with similar flexibility) or `histplot` (an axes-level function for histograms).\n",
      "  warnings.warn(msg, FutureWarning)\n",
      "/usr/local/lib/python3.6/dist-packages/seaborn/distributions.py:1649: FutureWarning: The `vertical` parameter is deprecated and will be removed in a future version. Assign the data to the `y` variable instead.\n",
      "  warnings.warn(msg, FutureWarning)\n"
     ]
    },
    {
     "data": {
      "image/png": "[encoded data removed]",
      "text/plain": [
       "<Figure size 576x576 with 4 Axes>"
      ]
     },
     "metadata": {
      "needs_background": "light"
     },
     "output_type": "display_data"
    }
   ],
   "source": [
    "# Task 3.3.2\n",
    "\n",
    "plot_rep_rat(pub_data_wps_top10,df_treated_all_top10,df_control_all_top10, 'Full dataset - top 10 institutions')\n",
    "plt.show()"
   ]
  },
  {
   "cell_type": "markdown",
   "metadata": {},
   "source": [
    "Task 3.3.3:\n",
    "\n",
    "Question: According to your visual analysis (no statistical tests needed here), did the matching do a good job at balancing covariates? \n",
    "\n",
    "Answer: Same reasoning as before. And thankflully, even if the dataset is almost 10x smaller, we could still perform a very well balanced matching. Even if we notice that the balancing isn't as precise as for the full dataset (especially for reputation), it is strikingly better than if no matching is performed. "
   ]
  },
  {
   "cell_type": "code",
   "execution_count": 73,
   "metadata": {},
   "outputs": [
    {
     "name": "stdout",
     "output_type": "stream",
     "text": [
      "The average treatment effect (published on arxiv) on the outcome (decision) is: 0.099\n"
     ]
    },
    {
     "name": "stderr",
     "output_type": "stream",
     "text": [
      "/usr/local/lib/python3.6/dist-packages/seaborn/distributions.py:2551: FutureWarning: `distplot` is a deprecated function and will be removed in a future version. Please adapt your code to use either `displot` (a figure-level function with similar flexibility) or `histplot` (an axes-level function for histograms).\n",
      "  warnings.warn(msg, FutureWarning)\n"
     ]
    },
    {
     "name": "stdout",
     "output_type": "stream",
     "text": [
      "With 95.0% confidence interval, the treatment effect of publishing a paper on arxiv raises the propability of acceptance within 3.0% and 16.9%.\n"
     ]
    },
    {
     "data": {
      "image/png": "[encoded data removed]",
      "text/plain": [
       "<Figure size 432x288 with 1 Axes>"
      ]
     },
     "metadata": {
      "needs_background": "light"
     },
     "output_type": "display_data"
    }
   ],
   "source": [
    "# Task 3.4\n",
    "\n",
    "ATE_text_top10, ATE_value_top10 = ATE(df_sbs_matched_top10.copy())\n",
    "print(ATE_text_top10)\n",
    "\n",
    "coef_text_top10, coef_lower_top10, coef_upper_top10 = treat_effect(df_all_matched_top10)\n",
    "print(coef_text_top10)\n",
    "plt.show()"
   ]
  },
  {
   "cell_type": "markdown",
   "metadata": {},
   "source": [
    "----\n",
    "### Task 3.5.2:\n",
    "\n",
    "Question: Is this evidence that arxiv breaks double-blind submissions?\n",
    "\n",
    "Answer: If we look at the average treatment effect, we *could* be inclined to show evidence that arxiv breaks double-blind submissions as ATE_all < ATE_top10 (0.035<0.044).\n",
    "\n",
    "Yet, if we look at the confidence intervals of the effect of treatment (published on arxiv) on output (decision) with alpha = 5%, then we are forced to conclude that **this evidence is not statistically significant**. Indeed the lower bound CI of top10 institutions is even lower than CI of all data (-0.052 vs 0.0). To be avle to show strong evidence that arxiv breaks double-blind submissions we should ideally show that the upper bound CI for the full dataset is lower than the lower bound CI of the top10 institutions which is not the case here. For this we should wait longer to have more data and narrow the CI for the top 10 institutions.  "
   ]
  }
 ],
 "metadata": {
  "kernelspec": {
   "display_name": "Python 3",
   "language": "python",
   "name": "python3"
  },
  "language_info": {
   "codemirror_mode": {
    "name": "ipython",
    "version": 3
   },
   "file_extension": ".py",
   "mimetype": "text/x-python",
   "name": "python",
   "nbconvert_exporter": "python",
   "pygments_lexer": "ipython3",
   "version": "3.6.9"
  },
  "pycharm": {
   "stem_cell": {
    "cell_type": "raw",
    "metadata": {
     "collapsed": false
    },
    "source": []
   }
  }
 },
 "nbformat": 4,
 "nbformat_minor": 4
}
