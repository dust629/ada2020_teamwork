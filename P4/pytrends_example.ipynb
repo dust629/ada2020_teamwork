{
 "metadata": {
  "language_info": {
   "codemirror_mode": {
    "name": "ipython",
    "version": 3
   },
   "file_extension": ".py",
   "mimetype": "text/x-python",
   "name": "python",
   "nbconvert_exporter": "python",
   "pygments_lexer": "ipython3",
   "version": "3.8.5-final"
  },
  "orig_nbformat": 2,
  "kernelspec": {
   "name": "python3",
   "display_name": "Python 3"
  }
 },
 "nbformat": 4,
 "nbformat_minor": 2,
 "cells": [
  {
   "source": [
    "All info here:\n",
    "https://github.com/GeneralMills/pytrends"
   ],
   "cell_type": "markdown",
   "metadata": {}
  },
  {
   "cell_type": "code",
   "execution_count": 6,
   "metadata": {},
   "outputs": [],
   "source": [
    "from pytrends.request import TrendReq"
   ]
  },
  {
   "cell_type": "code",
   "execution_count": 17,
   "metadata": {},
   "outputs": [
    {
     "output_type": "stream",
     "name": "stdout",
     "text": [
      "{'pizza': {'top':                    query  value\n0              pizza hut    100\n1          pizza near me     36\n2          pizza dominos     31\n3                dominos     31\n4         pizza delivery     16\n5             papa pizza     10\n6             best pizza      9\n7      pizza hut near me      7\n8            pizza dough      7\n9           pizza online      7\n10         pizza express      7\n11          pizza recipe      7\n12            papa johns      6\n13          pizza places      6\n14      papa johns pizza      6\n15  little caesars pizza      5\n16           crust pizza      5\n17        little caesars      5\n18            pizza oven      5\n19            city pizza      5\n20        pizza hut menu      5\n21           pizza house      5\n22    pizza hut delivery      5\n23          pizza domino      4\n24                domino      4, 'rising':                            query  value\n0             best pizza near me   1000\n1                      mod pizza    650\n2             pizza shop near me    600\n3                  pizza near me    550\n4                   food near me    500\n5                     dodo pizza    500\n6          dominos pizza near me    450\n7                     pizza cosy    450\n8                dominos near me    450\n9               blaze pizza menu    400\n10  little caesars pizza near me    400\n11                  pizza nearby    400\n12           little ceaser pizza    300\n13           pizza place near me    300\n14                   blaze pizza    300\n15        pizza delivery near me    300\n16     pizza restaurants near me    300\n17          dominos pizza online    300\n18              delivery near me    300\n19          pizza places near me    250\n20           dominos pizza carte    250\n21             pizza hut near me    250\n22                  buddys pizza    200\n23            dominos pizza menü    190\n24           pizza de frigideira    190}, 'bagel': {'top':                          query  value\n0                    the bagel    100\n1               bagel calories     68\n2                       bagels     68\n3                     bagel me     66\n4             everything bagel     62\n5                bagel near me     62\n6           coffee meets bagel     51\n7                   bagel shop     48\n8                 bagel recipe     46\n9                   bagel cafe     41\n10                    einstein     37\n11              einstein bagel     36\n12           calories in bagel     36\n13                  best bagel     35\n14              new york bagel     31\n15             bagel seasoning     29\n16                   egg bagel     28\n17                  bagel deli     27\n18  everything bagel seasoning     27\n19             breakfast bagel     27\n20                    ny bagel     27\n21                 bagel bites     25\n22                 bagel bread     24\n23                 bagel store     23\n24             manhattan bagel     23, 'rising':                                  query  value\n0             everything but the bagel  97600\n1       everything but bagel seasoning  62150\n2   everything but the bagel seasoning  59200\n3           everything bagel seasoning  14900\n4    everything bagel seasoning recipe  13050\n5                  two men bagel house  11400\n6                    keto bagel recipe  10900\n7                   2 ingredient bagel  10200\n8                       bagel boss guy   9100\n9                       bagel man card   8150\n10                     bagel seasoning   6850\n11                  bagel tape measure   5900\n12                        dog or bagel   4550\n13                       two men bagel   2500\n14                  chris morgan bagel   2350\n15                   skinnytaste bagel   1950\n16                      the bagel nook   1500\n17                   rainbow bagel nyc   1400\n18                       rainbow bagel    950\n19                        proper bagel    900\n20                          bagel nook    900\n21                       allstar bagel    800\n22                  b bagel bakery bar    650\n23                      bagels near me    550\n24                   breakfast near me    550}}\n"
     ]
    }
   ],
   "source": [
    "\n",
    "\n",
    "# Only need to run this once, the rest of requests will use the same session.\n",
    "pytrend = TrendReq()\n",
    "\n",
    "# Create payload and capture API tokens. Only needed for interest_over_time(), interest_by_region() & related_queries()\n",
    "pytrend.build_payload(kw_list=['pizza', 'bagel'])\n",
    "\n",
    "# Interest Over Time\n",
    "interest_over_time_df = pytrend.interest_over_time()\n",
    "print(interest_over_time_df.head())\n",
    "\n",
    "# Interest by Region\n",
    "interest_by_region_df = pytrend.interest_by_region()\n",
    "print(interest_by_region_df.head())\n",
    "\n",
    "# Related Queries, returns a dictionary of dataframes\n",
    "related_queries_dict = pytrend.related_queries()\n",
    "print(related_queries_dict)\n",
    "\n",
    "# Get Google Hot Trends data\n",
    "trending_searches_df = pytrend.trending_searches()\n",
    "print(trending_searches_df.head())\n",
    "\n",
    "# Get Google Hot Trends data\n",
    "today_searches_df = pytrend.today_searches()\n",
    "print(today_searches_df.head())\n",
    "\n",
    "# Get Google Top Charts\n",
    "top_charts_df = pytrend.top_charts(2018, hl='en-US', tz=300, geo='GLOBAL')\n",
    "print(top_charts_df.head())\n",
    "\n",
    "# Get Google Keyword Suggestions\n",
    "suggestions_dict = pytrend.suggestions(keyword='pizza')\n",
    "print(suggestions_dict)"
   ]
  }
 ]
}