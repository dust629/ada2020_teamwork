{
 "cells": [
  {
   "cell_type": "markdown",
   "metadata": {},
   "source": [
    "# Homework 2 (HW2)\n",
    "\n",
    "---\n",
    "By the end of this homework we expect you to be able to:\n",
    "1. Preprocess data and make it amenable to statistical analysis and machine learning models;\n",
    "2. Train and test out-of-the-box machine learning models in Python;\n",
    "3. Carry out statistical hypothesis testing;\n",
    "4. Carry out simple multivariate regression analyses;\n",
    "5. Use techniques to control for covariates;\n",
    "---\n",
    "\n",
    "## Important Dates\n",
    "\n",
    "- Homework release: Fri 6 Nov 2020\n",
    "- **Homework due**: Fri 20 Nov 2020, 23:59\n",
    "- Grade release: Mon 30 Nov 2020\n",
    "\n",
    "---\n",
    "\n",
    "##  Some rules\n",
    "\n",
    "1. You are allowed to use any built-in Python library that comes with Anaconda. If you want to use an external library, you have to justify your choice.\n",
    "2. Make sure you use the data folder provided in the repository in **read-only** mode.\n",
    "3. Be sure to provide a textual description of your thought process, the assumptions you made, the solution you implemented, and explanations for your answers. A notebook that only has code cells will not suffice.\n",
    "4. For questions containing the **/Discuss:/** prefix, answer not with code, but with a textual explanation (in markdown).\n",
    "5. Back up any hypotheses and claims with data, since this is an important aspect of the course.\n",
    "6. Please write all your comments in English, and use meaningful variable names in your code. Your repo should have a single notebook (plus the required data files) in the master branch. If there are multiple notebooks present, we will **strictly** not grade anything.\n",
    "7. Also, be sure to hand in a fully-run and evaluated notebook. We will not run your notebook for you, we will grade it as is, which means that only the results contained in your evaluated code cells will be considered, and we will not see the results in unevaluated code cells. In order to check whether everything looks as intended, you can check the rendered notebook on the GitHub website once you have pushed your solution there.\n",
    "8. Make sure to print results or dataframes that confirm you have properly addressed the task.\n",
    "9. Lastly, the grading is done in the *double blind* mode, i.e., the TAs grades an anonymized version of your notebook, so make sure that your notebook **neither has your team name nor the names of the members**.\n",
    "\n",
    "## Context\n",
    "\n",
    "Publishing papers is a big part of the lives of [Ph.D. students](http://phdcomics.com/comics/archive.php?comicid=154), [post-docs](http://phdcomics.com/comics/archive.php?comicid=1744) and [professors](http://phdcomics.com/comics/archive.php?comicid=1051). \n",
    "In Computer Science, publishing happens mostly in conferences. What follows is a slight simplification of how these conferences decide which papers to accept and which papers to reject.\n",
    " \n",
    "Every year, scholars submit papers to prestigious conferences. The papers are then assigned to reviewers (usually around 3), who are other people from the same research community (respect thy neighbor!). Each reviewer weighs in on whether they believe the papers they were assigned are good or bad, and write a review, often along with a score (e.g. +3 Strong Accept, +2 Accept, +1 Weak Accept, 0 Borderline, …,  -3 Strong Reject). Then, in the end, \"special\" reviewers called, \"Area Chairs\" analyze all the reviews that were written for the same paper and decide what gets accepted and what gets rejected. Importantly, throughout this whole dance, reviewers and authors are anonymous. When you're reviewing a paper, you do not know who wrote it. And when you receive the review, you don't know who reviewed it. Because of that, we call this a double-blind reviewing process.\n",
    "\n",
    "An interesting development that has evolved in recent years is the rise of pre-prints. In previous times, researchers often exposed their research to the world only after it had been peer-reviewed and published in a conference or a journal. But recently researchers are much keener to let their ideas out into the world as soon as possible, and they publish their research before it has been approved to any conference or journal, by posting the research on so-called pre-print servers. The most common pre-print server for Computer Science, Physics, and Maths is called [arXiv](https://arxiv.org/), for Biology, an increasingly popular one is [bioRxiv](https://www.biorxiv.org/), for Psychology [psyArXiv](https://psyarxiv.com/) (they are not very creative with the names). Notice that pre-prints and peer-review are not mutually exclusive, in fact, usually, you publish your pre-print, and then you try to publish your work in a peer-reviewed setting.\n",
    "\n",
    "Overall, publishing pre-prints has many benefits. They make science more accessible and hasten the circulation of important results in the academic community. However, a big issue brought forth with pre-prints is that they often break the anonymity in the double-blind reviewing process. For instance, in machine learning, since most papers are published as pre-prints, it is often easy to figure out if the paper you are reviewing is from a famous researcher or a big company with prominent research scientists. From critics' viewpoint, knowing the authors of the papers you are reviewing can bias your reviews. If you know that a given author is famous, you'd be more inclined to take his or her word for granted. If the author is from an institution you’ve never heard about, you are more likely to doubt his or her findings.\n",
    "\n",
    "In this homework, we will take a data-driven deep dive into the world of academic publishing. Can you use your freshly acquired data-science skills to predict which papers are going to make the cut? Are your data analysis skills sharp enough to figure out whether the aforementioned concerns about pre-print issues are justified?\n",
    "\n",
    "\n",
    "## The data\n",
    "\n",
    "The data, whose source has been *\"double-blinded\"* from you, and which has been simplified a bit for the assignment, contains information about submissions to a prestigious machine learning conference called ICLR (pronounced “I-clear”). You can find the dataframe in the git repo for the homework (`./data/dataset_final.csv`). We provide a brief description of the fields you will encounter.\n",
    "\n",
    "- `year`: year the paper has been submitted to ICLR. Notice that we provide data for three years, 2018, 2019, and 2020.\n",
    "\n",
    "\n",
    "- `paper`: title of the paper.\n",
    "\n",
    "\n",
    "- `authors`: names of the authors separated by ;.\n",
    "\n",
    "\n",
    "- `ratings`: mean rating given to the paper by the reviewers.\n",
    "\n",
    "\n",
    "- `decisions`: either Accept if the paper was accepted, or Reject otherwise.\n",
    "\n",
    "\n",
    "- `institution`: institutions for each of the authors, separated by ;.\n",
    "\n",
    "\n",
    "- `csranking`: ranking of the institutions according to csrankings. The better the institution, the better the rank. Notice that, if a paper has more than 1 author, this field will contain multiple values, separated by ;. For institutions that are not in csrankings, the value will be -1.\n",
    "\n",
    "\n",
    "- `categories`: topical categories of the paper. Each number corresponds to a different category: (1) Theory, (2) Computer Vision, (3) Natural Language Processing, (4) Adversarial ML, (5) Generative Modeling, (7) Fairness, (8) Generalization, (9) Optimization, (10) Graphs, (11) Bayesian Methods, (0) Others. A paper may belong to multiple categories, separated by ;.\n",
    "\n",
    "\n",
    "- `authors_citations`: number of citations of each one of the authors, separated by ;.\n",
    "\n",
    "\n",
    "- `authors_publications`: number of publications by each one of the authors, separated by ;.\n",
    "\n",
    "\n",
    "- `authors_hindex`: h-index of each one of the authors, separated by ;. The h-index is an author-level metric that measures both the productivity and citation impact of the publications of a scientist or scholar. It is the maximum value $h$ such that the given author has published $h$ papers that have each been cited at least $h$ times.\n",
    "\n",
    "\n",
    "- `arxiv`: whether the paper was spotted in a pre-print server around the submission period.\n",
    "\n",
    "Also, notice that in this dataframe, when some piece of data was not available, -1 will be used as the value. For example, companies aren't a part of csrankings, so for people who work in big companies, the values are -1 in the field csranking.\n"
   ]
  },
  {
   "cell_type": "markdown",
   "metadata": {},
   "source": [
    "## _Step 1:_ Predicting paper ratings\n",
    "\n",
    "The first part of this homework poses a simple question: Can you predict the ratings the paper will receive given attributes related to its authors? To answer this question, we will build an ML pipeline from scratch, preprocessing the data, training a regression model, and then evaluating it.\n",
    "\n",
    "\n",
    "---\n",
    "\n",
    "### Task 1.1\n",
    "\n",
    "Some of the fields in the data are not very amenable to serve as input to traditional machine learning algorithms. Namely, we have some fields for which there are a varying number of values (e.g. papers with 3 authors will have 3 values in the `author_citations` field, papers with 5 authors will have 5).\n",
    "\n",
    "\n",
    "Your first task is to perform some feature engineering and derive unique values for each paper which you will be able to use in your ML model. \n",
    "More specifically, you must:\n",
    "\n",
    "1. Create 3 new fields in the dataframe corresponding to the median value of the number of citations per author, the number of publications per author, and the h-index per author. So for instance, for the row `authors_publications`, you will create an additional column, e.g. `authors_publications_median`, containing the median number of publications per author in each paper.\n",
    "2. Create another field entitled `reputation` capturing how famous the last author of the paper is. Notice that the last author of the paper is usually the most senior person involved in the project. This field should equal $\\log_{10}\\Big(\\frac{\\#citations}{\\#publications} + 1\\Big)$. Notice that each author in the dataset has at least 1 publication, so you don't risk dividing by 0.\n",
    "3. Create two fields called `has_top_company` and `has_top_institution`. The field `has_top_company` equals 1 if the article contains an author in the following list of companies `[\"Facebook\", \"Google\", \"Microsoft\", \"Deepmind\"]`, and 0 otherwise. The field `has_top_institution` equals 1 if the article contains an author in the top 10 institutions according to CSRankings.\n",
    "4. **Discuss:** How did you handle -1 values in item 1.1.1? Justify your approach.\n",
    "\n",
    "---"
   ]
  },
  {
   "cell_type": "code",
   "execution_count": 2,
   "metadata": {},
   "outputs": [],
   "source": [
    "import pandas as pd\n",
    "import matplotlib.pyplot as plt\n",
    "import numpy as np\n",
    "import statsmodels.formula.api as sm\n",
    "from sklearn.metrics import r2_score\n",
    "from sklearn.linear_model import LinearRegression\n",
    "from sklearn.ensemble import GradientBoostingRegressor\n",
    "from sklearn.model_selection import cross_val_predict\n",
    "from sklearn.model_selection import cross_val_score"
   ]
  },
  {
   "cell_type": "code",
   "execution_count": 3,
   "metadata": {},
   "outputs": [],
   "source": [
    "#specify the data location\n",
    "DATA_FOLDER = './data/'\n",
    "\n",
    "#load data\n",
    "PUBLICATIONS_DATASET = DATA_FOLDER+\"dataset_final.csv\"\n",
    "publications_data_raw = pd.read_csv(PUBLICATIONS_DATASET, header=0, sep=',', error_bad_lines=False)"
   ]
  },
  {
   "cell_type": "code",
   "execution_count": 4,
   "metadata": {},
   "outputs": [],
   "source": [
    "publications_data = publications_data_raw.copy()"
   ]
  },
  {
   "cell_type": "markdown",
   "metadata": {},
   "source": [
    "- Task 1.1.1 Create 3 new fields `authors_citations_median`  `authors_publications_median` and `authors_hindex_median`"
   ]
  },
  {
   "cell_type": "code",
   "execution_count": 5,
   "metadata": {},
   "outputs": [],
   "source": [
    "# the median value of the number of citations per author, \n",
    "publications_data['authors_citations'] = [np.fromstring(x, dtype=int, sep=';') \n",
    "                                          for x in publications_data.authors_citations]\n",
    "publications_data['authors_citations_median'] = publications_data['authors_citations'].apply(np.median)\n",
    "\n",
    "# the median value of the number of publications per author,\n",
    "publications_data['authors_publications'] = [np.fromstring(x, dtype=int, sep=';') \n",
    "                                             for x in publications_data.authors_publications]\n",
    "publications_data['authors_publications_median'] = publications_data['authors_publications'].apply(np.median)\n",
    "\n",
    "# the median value of the h-index per author \n",
    "publications_data['authors_hindex'] = [np.fromstring(x, dtype=int, sep=';') \n",
    "                                       for x in publications_data.authors_hindex]\n",
    "publications_data['authors_hindex_median'] = publications_data['authors_hindex'].apply(np.median)\n"
   ]
  },
  {
   "cell_type": "markdown",
   "metadata": {},
   "source": [
    "- Task 1.1.2 Create another field `reputation`"
   ]
  },
  {
   "cell_type": "code",
   "execution_count": 6,
   "metadata": {},
   "outputs": [],
   "source": [
    "# the median value of the h-index per author \n",
    "publications_data['reputation']=np.log10(np.array([c[-1] for c in publications_data.authors_citations])/np.array([p[-1] \n",
    "                                                            for p in publications_data.authors_publications])+1)"
   ]
  },
  {
   "cell_type": "markdown",
   "metadata": {},
   "source": [
    "- Task 1.1.3 Create two fields  `has_top_company` and `has_top_institution`"
   ]
  },
  {
   "cell_type": "code",
   "execution_count": 7,
   "metadata": {},
   "outputs": [],
   "source": [
    "publications_data['csranking'] =  [np.fromstring(x, dtype=int, sep=';') for x in publications_data.csranking]\n",
    "publications_data['institution'] = [x.split(';') for x in publications_data.institution]"
   ]
  },
  {
   "cell_type": "code",
   "execution_count": 8,
   "metadata": {},
   "outputs": [],
   "source": [
    "publications_data['has_top_institution'] = publications_data['csranking'].apply(np.max)\n",
    "publications_data['has_top_institution'] = publications_data['has_top_institution'].apply(lambda x: x<11 and x>0)"
   ]
  },
  {
   "cell_type": "code",
   "execution_count": 9,
   "metadata": {},
   "outputs": [],
   "source": [
    "top_comanies = [\"Facebook\", \"Google\", \"Microsoft\", \"Deepmind\"]\n",
    "publications_data['has_top_company'] = [len(set(x).intersection(top_comanies))>0 for x in publications_data.institution]"
   ]
  },
  {
   "cell_type": "code",
   "execution_count": 10,
   "metadata": {},
   "outputs": [
    {
     "data": {
      "text/html": [
       "<div>\n",
       "<style scoped>\n",
       "    .dataframe tbody tr th:only-of-type {\n",
       "        vertical-align: middle;\n",
       "    }\n",
       "\n",
       "    .dataframe tbody tr th {\n",
       "        vertical-align: top;\n",
       "    }\n",
       "\n",
       "    .dataframe thead th {\n",
       "        text-align: right;\n",
       "    }\n",
       "</style>\n",
       "<table border=\"1\" class=\"dataframe\">\n",
       "  <thead>\n",
       "    <tr style=\"text-align: right;\">\n",
       "      <th></th>\n",
       "      <th>year</th>\n",
       "      <th>paper</th>\n",
       "      <th>authors</th>\n",
       "      <th>ratings</th>\n",
       "      <th>decisions</th>\n",
       "      <th>institution</th>\n",
       "      <th>csranking</th>\n",
       "      <th>categories</th>\n",
       "      <th>authors_citations</th>\n",
       "      <th>authors_publications</th>\n",
       "      <th>authors_hindex</th>\n",
       "      <th>arxiv</th>\n",
       "      <th>authors_citations_median</th>\n",
       "      <th>authors_publications_median</th>\n",
       "      <th>authors_hindex_median</th>\n",
       "      <th>reputation</th>\n",
       "      <th>has_top_institution</th>\n",
       "      <th>has_top_company</th>\n",
       "    </tr>\n",
       "  </thead>\n",
       "  <tbody>\n",
       "    <tr>\n",
       "      <td>0</td>\n",
       "      <td>2018</td>\n",
       "      <td>Certifying Some Distributional Robustness with...</td>\n",
       "      <td>Aman Sinha;Hongseok Namkoong;John Duchi</td>\n",
       "      <td>9.000000</td>\n",
       "      <td>Accept</td>\n",
       "      <td>[Stanford University, Stanford University, Sta...</td>\n",
       "      <td>[4, 4, 4]</td>\n",
       "      <td>4</td>\n",
       "      <td>[655, 904, 12908]</td>\n",
       "      <td>[42, 19, 162]</td>\n",
       "      <td>[8, 10, 42]</td>\n",
       "      <td>True</td>\n",
       "      <td>904.0</td>\n",
       "      <td>42.0</td>\n",
       "      <td>10.0</td>\n",
       "      <td>1.906761</td>\n",
       "      <td>True</td>\n",
       "      <td>False</td>\n",
       "    </tr>\n",
       "    <tr>\n",
       "      <td>1</td>\n",
       "      <td>2018</td>\n",
       "      <td>Parametric Information Bottleneck to Optimize ...</td>\n",
       "      <td>Thanh T. Nguyen;Jaesik Choi</td>\n",
       "      <td>4.666667</td>\n",
       "      <td>Reject</td>\n",
       "      <td>[Ulsan National Institute of Science and Techn...</td>\n",
       "      <td>[468, 468]</td>\n",
       "      <td>8</td>\n",
       "      <td>[1052, 727]</td>\n",
       "      <td>[86, 88]</td>\n",
       "      <td>[16, 15]</td>\n",
       "      <td>False</td>\n",
       "      <td>889.5</td>\n",
       "      <td>87.0</td>\n",
       "      <td>15.5</td>\n",
       "      <td>0.966675</td>\n",
       "      <td>False</td>\n",
       "      <td>False</td>\n",
       "    </tr>\n",
       "    <tr>\n",
       "      <td>2</td>\n",
       "      <td>2018</td>\n",
       "      <td>Towards Neural Phrase-based Machine Translation</td>\n",
       "      <td>Po-Sen Huang;Chong Wang;Sitao Huang;Dengyong Z...</td>\n",
       "      <td>6.666667</td>\n",
       "      <td>Accept</td>\n",
       "      <td>[Microsoft, Google, University of Illinois, Ur...</td>\n",
       "      <td>[-1, -1, 3, -1, -1]</td>\n",
       "      <td>3;2</td>\n",
       "      <td>[1718, 17889, 161, 8800, 20766]</td>\n",
       "      <td>[59, 1045, 17, 78, 409]</td>\n",
       "      <td>[17, 54, 7, 33, 63]</td>\n",
       "      <td>True</td>\n",
       "      <td>8800.0</td>\n",
       "      <td>78.0</td>\n",
       "      <td>33.0</td>\n",
       "      <td>1.714100</td>\n",
       "      <td>True</td>\n",
       "      <td>True</td>\n",
       "    </tr>\n",
       "    <tr>\n",
       "      <td>3</td>\n",
       "      <td>2018</td>\n",
       "      <td>Interactive Grounded Language Acquisition and ...</td>\n",
       "      <td>Haonan Yu;Haichao Zhang;Wei Xu</td>\n",
       "      <td>6.333333</td>\n",
       "      <td>Accept</td>\n",
       "      <td>[Baidu, Baidu, Baidu]</td>\n",
       "      <td>[-1, -1, -1]</td>\n",
       "      <td>6;8</td>\n",
       "      <td>[890, 1382, 9553]</td>\n",
       "      <td>[37, 63, 557]</td>\n",
       "      <td>[12, 20, 44]</td>\n",
       "      <td>False</td>\n",
       "      <td>1382.0</td>\n",
       "      <td>63.0</td>\n",
       "      <td>20.0</td>\n",
       "      <td>1.258896</td>\n",
       "      <td>False</td>\n",
       "      <td>False</td>\n",
       "    </tr>\n",
       "    <tr>\n",
       "      <td>4</td>\n",
       "      <td>2018</td>\n",
       "      <td>A Boo(n) for Evaluating Architecture Performance</td>\n",
       "      <td>Ondrej Bajgar;Rudolf Kadlec;and Jan Kleindienst</td>\n",
       "      <td>4.666667</td>\n",
       "      <td>Reject</td>\n",
       "      <td>[, International Business Machines, Internatio...</td>\n",
       "      <td>[-1, -1, -1]</td>\n",
       "      <td>0</td>\n",
       "      <td>[366, 678, 658]</td>\n",
       "      <td>[10, 40, 76]</td>\n",
       "      <td>[5, 11, 9]</td>\n",
       "      <td>False</td>\n",
       "      <td>658.0</td>\n",
       "      <td>40.0</td>\n",
       "      <td>9.0</td>\n",
       "      <td>0.984882</td>\n",
       "      <td>False</td>\n",
       "      <td>False</td>\n",
       "    </tr>\n",
       "  </tbody>\n",
       "</table>\n",
       "</div>"
      ],
      "text/plain": [
       "   year                                              paper  \\\n",
       "0  2018  Certifying Some Distributional Robustness with...   \n",
       "1  2018  Parametric Information Bottleneck to Optimize ...   \n",
       "2  2018    Towards Neural Phrase-based Machine Translation   \n",
       "3  2018  Interactive Grounded Language Acquisition and ...   \n",
       "4  2018   A Boo(n) for Evaluating Architecture Performance   \n",
       "\n",
       "                                             authors   ratings decisions  \\\n",
       "0            Aman Sinha;Hongseok Namkoong;John Duchi  9.000000    Accept   \n",
       "1                        Thanh T. Nguyen;Jaesik Choi  4.666667    Reject   \n",
       "2  Po-Sen Huang;Chong Wang;Sitao Huang;Dengyong Z...  6.666667    Accept   \n",
       "3                     Haonan Yu;Haichao Zhang;Wei Xu  6.333333    Accept   \n",
       "4    Ondrej Bajgar;Rudolf Kadlec;and Jan Kleindienst  4.666667    Reject   \n",
       "\n",
       "                                         institution            csranking  \\\n",
       "0  [Stanford University, Stanford University, Sta...            [4, 4, 4]   \n",
       "1  [Ulsan National Institute of Science and Techn...           [468, 468]   \n",
       "2  [Microsoft, Google, University of Illinois, Ur...  [-1, -1, 3, -1, -1]   \n",
       "3                              [Baidu, Baidu, Baidu]         [-1, -1, -1]   \n",
       "4  [, International Business Machines, Internatio...         [-1, -1, -1]   \n",
       "\n",
       "  categories                authors_citations     authors_publications  \\\n",
       "0          4                [655, 904, 12908]            [42, 19, 162]   \n",
       "1          8                      [1052, 727]                 [86, 88]   \n",
       "2        3;2  [1718, 17889, 161, 8800, 20766]  [59, 1045, 17, 78, 409]   \n",
       "3        6;8                [890, 1382, 9553]            [37, 63, 557]   \n",
       "4          0                  [366, 678, 658]             [10, 40, 76]   \n",
       "\n",
       "        authors_hindex  arxiv  authors_citations_median  \\\n",
       "0          [8, 10, 42]   True                     904.0   \n",
       "1             [16, 15]  False                     889.5   \n",
       "2  [17, 54, 7, 33, 63]   True                    8800.0   \n",
       "3         [12, 20, 44]  False                    1382.0   \n",
       "4           [5, 11, 9]  False                     658.0   \n",
       "\n",
       "   authors_publications_median  authors_hindex_median  reputation  \\\n",
       "0                         42.0                   10.0    1.906761   \n",
       "1                         87.0                   15.5    0.966675   \n",
       "2                         78.0                   33.0    1.714100   \n",
       "3                         63.0                   20.0    1.258896   \n",
       "4                         40.0                    9.0    0.984882   \n",
       "\n",
       "   has_top_institution  has_top_company  \n",
       "0                 True            False  \n",
       "1                False            False  \n",
       "2                 True             True  \n",
       "3                False            False  \n",
       "4                False            False  "
      ]
     },
     "execution_count": 10,
     "metadata": {},
     "output_type": "execute_result"
    }
   ],
   "source": [
    "publications_data.head()"
   ]
  },
  {
   "cell_type": "markdown",
   "metadata": {},
   "source": [
    "- Task 1.1.4 **Discuss:** How did you handle -1 values in item 1.1.1?"
   ]
  },
  {
   "cell_type": "markdown",
   "metadata": {},
   "source": [
    "CSranking with -1 are those industry insitutions,which are not counted in the has_top_instiution anyway,\n",
    "so we only need to check addtional if maximal csranking is bigger than -1"
   ]
  },
  {
   "cell_type": "markdown",
   "metadata": {},
   "source": [
    "### Task 1.2\n",
    "\n",
    "Now that you have cleaned up your data, your next task is to divide your data into a training set and a testing set. You should do this in two ways:\n",
    "\n",
    "1. First, do it randomly. Split the data into a training set (70%) and a testing set (30%). We refer to these as \"random split\" in the subsequent tasks.\n",
    "2. Second, do it longitudinally. Use the data from 2018 and 2019 for the training set, and the data from 2020 as the testing set. We refer to these as \"longitudinal split\" in the subsequent tasks.\n"
   ]
  },
  {
   "cell_type": "markdown",
   "metadata": {},
   "source": [
    "- Task 1.2.1 random split data with ratio = 0.7"
   ]
  },
  {
   "cell_type": "code",
   "execution_count": 11,
   "metadata": {},
   "outputs": [],
   "source": [
    "# split data with ratio 0.7\n",
    "def split_set(data_to_split, ratio=0.7):\n",
    "    train = data_to_split.sample(frac=ratio)\n",
    "    test = data_to_split.drop(train.index)\n",
    "    return train.reset_index(drop=True), test.reset_index(drop=True)"
   ]
  },
  {
   "cell_type": "code",
   "execution_count": 12,
   "metadata": {},
   "outputs": [
    {
     "data": {
      "text/plain": [
       "(2979, 18)"
      ]
     },
     "execution_count": 12,
     "metadata": {},
     "output_type": "execute_result"
    }
   ],
   "source": [
    "split_set(publications_data)[0].shape"
   ]
  },
  {
   "cell_type": "markdown",
   "metadata": {},
   "source": [
    "2979/4256 = 0.7 "
   ]
  },
  {
   "cell_type": "markdown",
   "metadata": {},
   "source": [
    "- Task 1.2.2 Longitudinally split data"
   ]
  },
  {
   "cell_type": "code",
   "execution_count": 13,
   "metadata": {},
   "outputs": [],
   "source": [
    "def longitudinal_split(data):\n",
    "    train_long = data.loc[(data['year'] == 2018) | (data['year'] == 2019)]\n",
    "    test_long = data.loc[(data['year'] == 2020)]\n",
    "        \n",
    "    return train_long.reset_index(drop=True),test_long.reset_index(drop=True)"
   ]
  },
  {
   "cell_type": "code",
   "execution_count": 14,
   "metadata": {},
   "outputs": [
    {
     "data": {
      "text/plain": [
       "(2204, 18)"
      ]
     },
     "execution_count": 14,
     "metadata": {},
     "output_type": "execute_result"
    }
   ],
   "source": [
    "longitudinal_split(publications_data)[0].shape"
   ]
  },
  {
   "cell_type": "markdown",
   "metadata": {},
   "source": [
    "### Task 1.3\n",
    "\n",
    "Build a Linear Regression model (use [sklearn](https://scikit-learn.org/stable/)) that predicts the score of a paper (which is in the variable ratings in the dataframe). Train it and test it using the split you previously defined. Your model should use as features:\n",
    "- Median values for the number of author citations, publications and h-indexes, as calculated in Task 1.1.1.\n",
    "\n",
    "- `reputation` of the last author, as calculated in Task 1.1.2.\n",
    "\n",
    "For the two scenarios above (random split and longitudinal split):\n",
    "\n",
    "1. Report the model $R^2$ in each case (for the testing set).\n",
    "2. **Discuss:** Hypothesize a reason why the results are different. Additionally, interpret the $R^2$ value for the longitudinal split. How can it be negative?\n",
    "3. **From now onwards (in this task and the following ones), consider only the random split.** For a given entry $X$ your model outputs a predicted score $Y'$. The difference between the real score $Y$ and the predicted score $Y'$ is called the \"residual\". Plot the distribution of your residuals for the test set. Using this distribution, estimate what is the probability that your prediction is off by more than 2-points? Provide bootstrapped confidence intervals for your answer.\n",
    "4. **Discuss:** Identify three additional features that are already computed in your dataframe and that could boost your model's predictive performance. You are not allowed to use the variable `decisions` as an input here. Before running any experiments, discuss why each of these features might add valuable information to your model.\n",
    "5. Report the $R^2$ (for the test set) for a newly trained model with these additional features. Please note that you do not need to improve the model performance to be successful in this task!\n",
    "\n",
    "**Hint**: [Metrics!](https://scikit-learn.org/stable/modules/classes.html#sklearn-metrics-metrics)"
   ]
  },
  {
   "cell_type": "markdown",
   "metadata": {},
   "source": [
    "- Task 1.3.1  Report the model  𝑅2  for the testing set split randomly and longitudinally "
   ]
  },
  {
   "cell_type": "code",
   "execution_count": 15,
   "metadata": {},
   "outputs": [],
   "source": [
    "#specify the data we need to use \n",
    "features = ['authors_citations_median','authors_publications_median','authors_hindex_median','reputation']\n",
    "prediction='ratings'\n",
    "model_data = publications_data[features+[prediction]+['year']]"
   ]
  },
  {
   "cell_type": "code",
   "execution_count": 16,
   "metadata": {},
   "outputs": [],
   "source": [
    "#split features and label for training\n",
    "def split_x_y(train_data,features,prediction):\n",
    "    x_data = train_data[features]\n",
    "    y_data = train_data[prediction]\n",
    "    return x_data,y_data"
   ]
  },
  {
   "cell_type": "code",
   "execution_count": 17,
   "metadata": {},
   "outputs": [],
   "source": [
    "#train with linear regression and print coefficients\n",
    "def train_lin_reg(X,y,features):\n",
    "    lin_reg = LinearRegression().fit(X, y)\n",
    "    res = ''\n",
    "    for f in range(len(features)):\n",
    "        res +=  str(lin_reg.coef_[f])+\" * \"+features[f]+\" +\"+\"\\n\"\n",
    "    return lin_reg,res+str(lin_reg.intercept_)"
   ]
  },
  {
   "cell_type": "markdown",
   "metadata": {},
   "source": [
    "Processing data with 2 split method and make them ready to train"
   ]
  },
  {
   "cell_type": "code",
   "execution_count": 18,
   "metadata": {},
   "outputs": [],
   "source": [
    "#split data randomly\n",
    "train_data_random,test_data_random = split_set(model_data)\n",
    "\n",
    "#longitudinal split data \n",
    "train_data_long,test_data_long = longitudinal_split(model_data)\n",
    "#needed \"year\" only for longitudinal\n",
    "train_data_random.drop(\"year\", axis = 1, inplace=True)\n",
    "test_data_random.drop(\"year\",axis= 1,inplace = True)\n",
    "train_data_long.drop(\"year\",axis= 1,inplace = True)\n",
    "test_data_long.drop(\"year\",axis= 1,inplace = True)\n",
    "\n",
    "#split x y for training\n",
    "x_train_random,y_train_random = split_x_y(train_data_random,features,prediction)\n",
    "x_test_random,y_test_random = split_x_y(test_data_random,features,prediction)\n",
    "x_train_long,y_train_long = split_x_y(train_data_long,features,prediction)\n",
    "x_test_long,y_test_long = split_x_y(test_data_long,features,prediction)"
   ]
  },
  {
   "cell_type": "markdown",
   "metadata": {},
   "source": [
    "$$y = \\beta_0 + \\beta_1  \\times authors citations median+ \\beta_2  \\times  authors publications median + \\beta_3  \\times authors hindex median + \\beta_4  \\times reputation$$\n"
   ]
  },
  {
   "cell_type": "code",
   "execution_count": 19,
   "metadata": {},
   "outputs": [
    {
     "name": "stdout",
     "output_type": "stream",
     "text": [
      "-4.8756164518578365e-05 * authors_citations_median +\n",
      "-0.0024702313378856884 * authors_publications_median +\n",
      "0.048885764838756555 * authors_hindex_median +\n",
      "0.5676988685562199 * reputation +\n",
      "3.7766683482628354\n"
     ]
    }
   ],
   "source": [
    "lin_reg_random,res_random = train_lin_reg(x_train_random,y_train_random,features)\n",
    "print(res_random)"
   ]
  },
  {
   "cell_type": "code",
   "execution_count": 20,
   "metadata": {},
   "outputs": [
    {
     "name": "stdout",
     "output_type": "stream",
     "text": [
      "-4.094499993053109e-05 * authors_citations_median +\n",
      "-0.0031912741643067345 * authors_publications_median +\n",
      "0.0431071829712142 * authors_hindex_median +\n",
      "0.53092213649228 * reputation +\n",
      "4.344552125169358\n"
     ]
    }
   ],
   "source": [
    "lin_reg_long,res_long = train_lin_reg(x_train_long,y_train_long,features)\n",
    "print(res_long)"
   ]
  },
  {
   "cell_type": "code",
   "execution_count": 21,
   "metadata": {},
   "outputs": [
    {
     "name": "stdout",
     "output_type": "stream",
     "text": [
      "R2 score for random split data is 0.09274039049133087\n",
      "R2 score for longitudinal split data is -0.23881213120918154\n"
     ]
    }
   ],
   "source": [
    "y_pred_long = lin_reg_long.predict(x_test_long)\n",
    "y_pred_random = lin_reg_random.predict(x_test_random)\n",
    "r2_long = r2_score(y_test_long, y_pred_long)\n",
    "r2_random = r2_score(y_test_random, y_pred_random)\n",
    "print(\"R2 score for random split data is {0}\\nR2 score for longitudinal split data is {1}\".format(r2_random,r2_long))"
   ]
  },
  {
   "cell_type": "markdown",
   "metadata": {},
   "source": [
    "- Task 1.3.2 **Discuss**: Hypothesize a reason why the results are different. Additionally, interpret the  𝑅2  value for the longitudinal split. How can it be negative?\n",
    "\n",
    "    - why the results are different  \n",
    "      - For longitudinally split data,  only 2204/4256= 51% data is used for trainning. And for random split data, 70% data is used for training.\n",
    "      - longitudinally split data using year to split, the model made from the data 2018,2019 does not fit 20202 well, as time passes by the  publications and citations of same author will all increase.\n",
    "    - negative $R2$ score   \n",
    "    𝑅2 is negative when the chosen model does not follow the trend of the data, so  $𝑆𝑆_{res}$ is greater than $𝑆𝑆_{tot}$.It simply means that the chosen model fits the data really poorly."
   ]
  },
  {
   "cell_type": "code",
   "execution_count": 22,
   "metadata": {},
   "outputs": [
    {
     "data": {
      "text/plain": [
       "0.2875243664717349"
      ]
     },
     "execution_count": 22,
     "metadata": {},
     "output_type": "execute_result"
    }
   ],
   "source": [
    "show = publications_data.copy()\n",
    "ax18 = len(show.loc[(show.arxiv == True) & (show.year == 2020)])\n",
    "ax19 = len(show.loc[(show.arxiv == True) & (show.year == 2019)])\n",
    "ax20 = len(show.loc[(show.arxiv == True) & (show.year == 2020)])\n",
    "(ax18+ax19)/len(train_data_long)\n",
    "ax20/len(test_data_long)"
   ]
  },
  {
   "cell_type": "code",
   "execution_count": 23,
   "metadata": {},
   "outputs": [
    {
     "data": {
      "image/png": "[encoded data removed]",
      "text/plain": [
       "<Figure size 864x576 with 1 Axes>"
      ]
     },
     "metadata": {
      "needs_background": "light"
     },
     "output_type": "display_data"
    }
   ],
   "source": [
    "fig, ax = plt.subplots(figsize=(12, 8))\n",
    "ax.scatter(y_test_random, y_pred_random, edgecolors=(0, 0, 0))\n",
    "ax.plot([min(y_test_random), max(y_test_random)], [min(y_test_random), max(y_test_random)], 'r--', lw=4)\n",
    "ax.set_xlabel('Original')\n",
    "ax.set_ylabel('Predicted')\n",
    "ax.set_title(\"Model with randomly split data\")\n",
    "plt.show()"
   ]
  },
  {
   "cell_type": "code",
   "execution_count": 24,
   "metadata": {},
   "outputs": [
    {
     "data": {
      "image/png": "[encoded data removed]",
      "text/plain": [
       "<Figure size 864x576 with 1 Axes>"
      ]
     },
     "metadata": {
      "needs_background": "light"
     },
     "output_type": "display_data"
    }
   ],
   "source": [
    "fig, ax = plt.subplots(figsize=(12, 8))\n",
    "ax.scatter(y_test_long, y_pred_long, edgecolors=(0, 0, 0))\n",
    "ax.plot([min(y_test_long), max(y_test_long)], [min(y_test_long), max(y_test_long)], 'r--', lw=4)\n",
    "ax.set_xlabel('Original')\n",
    "ax.set_ylabel('Predicted')\n",
    "ax.set_title(\"Model with longitudinally split data\")\n",
    "plt.show()"
   ]
  },
  {
   "cell_type": "markdown",
   "metadata": {},
   "source": [
    "- Task 1.3.3  Consider only the random split. For a given entry  𝑋  your model outputs a predicted score  𝑌′ . The difference between the real score  𝑌  and the predicted score  𝑌′  is called the \"residual\". Plot the distribution of your residuals for the test set. Using this distribution, estimate what is the probability that your prediction is off by more than 2-points? Provide bootstrapped confidence intervals for your answer."
   ]
  },
  {
   "cell_type": "code",
   "execution_count": 25,
   "metadata": {},
   "outputs": [
    {
     "name": "stderr",
     "output_type": "stream",
     "text": [
      "C:\\Users\\Jostein\\Anaconda3\\lib\\site-packages\\seaborn\\distributions.py:2551: FutureWarning: `distplot` is a deprecated function and will be removed in a future version. Please adapt your code to use either `displot` (a figure-level function with similar flexibility) or `histplot` (an axes-level function for histograms).\n",
      "  warnings.warn(msg, FutureWarning)\n"
     ]
    },
    {
     "data": {
      "image/png": "[encoded data removed]",
      "text/plain": [
       "<Figure size 432x288 with 1 Axes>"
      ]
     },
     "metadata": {
      "needs_background": "light"
     },
     "output_type": "display_data"
    }
   ],
   "source": [
    "import seaborn as sns\n",
    "residuals = np.abs(y_pred_random - y_test_random)\n",
    "ax = sns.distplot(residuals)"
   ]
  },
  {
   "cell_type": "markdown",
   "metadata": {},
   "source": [
    "According to the distribution, the probability that the prediction is off by more than 2-points is approximately "
   ]
  },
  {
   "cell_type": "markdown",
   "metadata": {},
   "source": [
    "- Task 1.3.4 **Discuss**: Identify three additional features that are already computed in your dataframe and discuss why each of these features might add valuable information to your model.\n",
    "\n",
    "Extended features are\n",
    "`has_top_company` `has_top_institution` `arxiv` are intuitively good choices for features,  as they are three binary features. And in reality `has_top_company` or `has_top_institution` do play a big role in the quality  of papers. As mentioned before, `arxiv` may break double-blind submissions, so the paper could be rated with bias."
   ]
  },
  {
   "cell_type": "markdown",
   "metadata": {},
   "source": [
    "\n",
    "- Task 1.3.5 Report the  𝑅2  (for the test set) for a newly trained model with these additional features."
   ]
  },
  {
   "cell_type": "code",
   "execution_count": 26,
   "metadata": {},
   "outputs": [
    {
     "name": "stderr",
     "output_type": "stream",
     "text": [
      "C:\\Users\\Jostein\\Anaconda3\\lib\\site-packages\\pandas\\core\\frame.py:4102: SettingWithCopyWarning: \n",
      "A value is trying to be set on a copy of a slice from a DataFrame\n",
      "\n",
      "See the caveats in the documentation: http://pandas.pydata.org/pandas-docs/stable/user_guide/indexing.html#returning-a-view-versus-a-copy\n",
      "  errors=errors,\n"
     ]
    }
   ],
   "source": [
    "# random split does not need 'year' any more\n",
    "model_data.drop(\"year\",axis=1,inplace=True)\n",
    "model_data_ext = model_data.copy()\n",
    "\n",
    "# define extended features\n",
    "extention= ['has_top_company','has_top_institution','arxiv'] \n",
    "\n",
    "model_data_ext['has_top_company'] = publications_data['has_top_company'].astype(int)\n",
    "model_data_ext['has_top_institution'] = publications_data['has_top_institution'].astype(int)\n",
    "model_data_ext['arxiv'] = publications_data['arxiv'].astype(int)"
   ]
  },
  {
   "cell_type": "code",
   "execution_count": 27,
   "metadata": {},
   "outputs": [
    {
     "data": {
      "text/html": [
       "<div>\n",
       "<style scoped>\n",
       "    .dataframe tbody tr th:only-of-type {\n",
       "        vertical-align: middle;\n",
       "    }\n",
       "\n",
       "    .dataframe tbody tr th {\n",
       "        vertical-align: top;\n",
       "    }\n",
       "\n",
       "    .dataframe thead th {\n",
       "        text-align: right;\n",
       "    }\n",
       "</style>\n",
       "<table border=\"1\" class=\"dataframe\">\n",
       "  <thead>\n",
       "    <tr style=\"text-align: right;\">\n",
       "      <th></th>\n",
       "      <th>authors_citations_median</th>\n",
       "      <th>authors_publications_median</th>\n",
       "      <th>authors_hindex_median</th>\n",
       "      <th>reputation</th>\n",
       "      <th>ratings</th>\n",
       "      <th>has_top_company</th>\n",
       "      <th>has_top_institution</th>\n",
       "      <th>arxiv</th>\n",
       "    </tr>\n",
       "  </thead>\n",
       "  <tbody>\n",
       "    <tr>\n",
       "      <td>0</td>\n",
       "      <td>904.0</td>\n",
       "      <td>42.0</td>\n",
       "      <td>10.0</td>\n",
       "      <td>1.906761</td>\n",
       "      <td>9.000000</td>\n",
       "      <td>0</td>\n",
       "      <td>1</td>\n",
       "      <td>1</td>\n",
       "    </tr>\n",
       "    <tr>\n",
       "      <td>1</td>\n",
       "      <td>889.5</td>\n",
       "      <td>87.0</td>\n",
       "      <td>15.5</td>\n",
       "      <td>0.966675</td>\n",
       "      <td>4.666667</td>\n",
       "      <td>0</td>\n",
       "      <td>0</td>\n",
       "      <td>0</td>\n",
       "    </tr>\n",
       "    <tr>\n",
       "      <td>2</td>\n",
       "      <td>8800.0</td>\n",
       "      <td>78.0</td>\n",
       "      <td>33.0</td>\n",
       "      <td>1.714100</td>\n",
       "      <td>6.666667</td>\n",
       "      <td>1</td>\n",
       "      <td>1</td>\n",
       "      <td>1</td>\n",
       "    </tr>\n",
       "    <tr>\n",
       "      <td>3</td>\n",
       "      <td>1382.0</td>\n",
       "      <td>63.0</td>\n",
       "      <td>20.0</td>\n",
       "      <td>1.258896</td>\n",
       "      <td>6.333333</td>\n",
       "      <td>0</td>\n",
       "      <td>0</td>\n",
       "      <td>0</td>\n",
       "    </tr>\n",
       "    <tr>\n",
       "      <td>4</td>\n",
       "      <td>658.0</td>\n",
       "      <td>40.0</td>\n",
       "      <td>9.0</td>\n",
       "      <td>0.984882</td>\n",
       "      <td>4.666667</td>\n",
       "      <td>0</td>\n",
       "      <td>0</td>\n",
       "      <td>0</td>\n",
       "    </tr>\n",
       "    <tr>\n",
       "      <td>...</td>\n",
       "      <td>...</td>\n",
       "      <td>...</td>\n",
       "      <td>...</td>\n",
       "      <td>...</td>\n",
       "      <td>...</td>\n",
       "      <td>...</td>\n",
       "      <td>...</td>\n",
       "      <td>...</td>\n",
       "    </tr>\n",
       "    <tr>\n",
       "      <td>4251</td>\n",
       "      <td>2095.0</td>\n",
       "      <td>102.5</td>\n",
       "      <td>22.0</td>\n",
       "      <td>1.368938</td>\n",
       "      <td>5.000000</td>\n",
       "      <td>0</td>\n",
       "      <td>0</td>\n",
       "      <td>0</td>\n",
       "    </tr>\n",
       "    <tr>\n",
       "      <td>4252</td>\n",
       "      <td>25.0</td>\n",
       "      <td>9.5</td>\n",
       "      <td>1.5</td>\n",
       "      <td>0.577236</td>\n",
       "      <td>4.666667</td>\n",
       "      <td>1</td>\n",
       "      <td>0</td>\n",
       "      <td>0</td>\n",
       "    </tr>\n",
       "    <tr>\n",
       "      <td>4253</td>\n",
       "      <td>1320.0</td>\n",
       "      <td>67.0</td>\n",
       "      <td>8.0</td>\n",
       "      <td>0.670325</td>\n",
       "      <td>4.000000</td>\n",
       "      <td>0</td>\n",
       "      <td>0</td>\n",
       "      <td>1</td>\n",
       "    </tr>\n",
       "    <tr>\n",
       "      <td>4254</td>\n",
       "      <td>563.0</td>\n",
       "      <td>14.0</td>\n",
       "      <td>9.0</td>\n",
       "      <td>1.359447</td>\n",
       "      <td>2.333333</td>\n",
       "      <td>0</td>\n",
       "      <td>0</td>\n",
       "      <td>1</td>\n",
       "    </tr>\n",
       "    <tr>\n",
       "      <td>4255</td>\n",
       "      <td>1878.0</td>\n",
       "      <td>32.5</td>\n",
       "      <td>11.5</td>\n",
       "      <td>1.740191</td>\n",
       "      <td>4.000000</td>\n",
       "      <td>1</td>\n",
       "      <td>0</td>\n",
       "      <td>0</td>\n",
       "    </tr>\n",
       "  </tbody>\n",
       "</table>\n",
       "<p>4256 rows × 8 columns</p>\n",
       "</div>"
      ],
      "text/plain": [
       "      authors_citations_median  authors_publications_median  \\\n",
       "0                        904.0                         42.0   \n",
       "1                        889.5                         87.0   \n",
       "2                       8800.0                         78.0   \n",
       "3                       1382.0                         63.0   \n",
       "4                        658.0                         40.0   \n",
       "...                        ...                          ...   \n",
       "4251                    2095.0                        102.5   \n",
       "4252                      25.0                          9.5   \n",
       "4253                    1320.0                         67.0   \n",
       "4254                     563.0                         14.0   \n",
       "4255                    1878.0                         32.5   \n",
       "\n",
       "      authors_hindex_median  reputation   ratings  has_top_company  \\\n",
       "0                      10.0    1.906761  9.000000                0   \n",
       "1                      15.5    0.966675  4.666667                0   \n",
       "2                      33.0    1.714100  6.666667                1   \n",
       "3                      20.0    1.258896  6.333333                0   \n",
       "4                       9.0    0.984882  4.666667                0   \n",
       "...                     ...         ...       ...              ...   \n",
       "4251                   22.0    1.368938  5.000000                0   \n",
       "4252                    1.5    0.577236  4.666667                1   \n",
       "4253                    8.0    0.670325  4.000000                0   \n",
       "4254                    9.0    1.359447  2.333333                0   \n",
       "4255                   11.5    1.740191  4.000000                1   \n",
       "\n",
       "      has_top_institution  arxiv  \n",
       "0                       1      1  \n",
       "1                       0      0  \n",
       "2                       1      1  \n",
       "3                       0      0  \n",
       "4                       0      0  \n",
       "...                   ...    ...  \n",
       "4251                    0      0  \n",
       "4252                    0      0  \n",
       "4253                    0      1  \n",
       "4254                    0      1  \n",
       "4255                    0      0  \n",
       "\n",
       "[4256 rows x 8 columns]"
      ]
     },
     "execution_count": 27,
     "metadata": {},
     "output_type": "execute_result"
    }
   ],
   "source": [
    "model_data_ext"
   ]
  },
  {
   "cell_type": "markdown",
   "metadata": {},
   "source": [
    "Processing the new data and train the model "
   ]
  },
  {
   "cell_type": "code",
   "execution_count": 28,
   "metadata": {},
   "outputs": [
    {
     "name": "stdout",
     "output_type": "stream",
     "text": [
      "-6.132566988834315e-05 * authors_citations_median +\n",
      "-0.0025608260889621332 * authors_publications_median +\n",
      "0.04852564380679169 * authors_hindex_median +\n",
      "0.5288914496880353 * reputation +\n",
      "3.6937108239467085\n"
     ]
    }
   ],
   "source": [
    "#add addtional features\n",
    "new_features = features + extention\n",
    "\n",
    "#processing data\n",
    "train_data_ext, test_data_ext = split_set(model_data_ext)\n",
    "x_train_ext, y_train_ext = split_x_y(train_data_ext,new_features,prediction)\n",
    "x_test_ext, y_test_ext = split_x_y(test_data_ext,new_features,prediction)\n",
    "\n",
    "#train model\n",
    "lin_reg_ext, res_ext = train_lin_reg(x_train_ext,y_train_ext,features) \n",
    "print(res_ext)\n",
    "\n",
    "y_pred_ext = lin_reg_ext.predict(x_test_ext)"
   ]
  },
  {
   "cell_type": "code",
   "execution_count": 29,
   "metadata": {},
   "outputs": [
    {
     "name": "stdout",
     "output_type": "stream",
     "text": [
      "R2 score for random split data with extended features is 0.08868252072877936\n"
     ]
    }
   ],
   "source": [
    "r2_ext = r2_score(y_test_ext, y_pred_ext)\n",
    "print(\"R2 score for random split data with extended features is {0}\".format(r2_ext))"
   ]
  },
  {
   "cell_type": "markdown",
   "metadata": {},
   "source": [
    "### Task 1.4\n",
    "\n",
    "Experiment with training a different regressor, a [Gradient Boosting Regressor](https://scikit-learn.org/stable/modules/ensemble.html?highlight=xgboost#gradient-boosting). This regressor is analogous to the Gradient Boosting Classifier that you have seen in class. This model performs extremely well for a variety of tasks and is often used in machine learning competitions for tabular data (e.g., on [Kaggle](www.kaggle.com)). You must:\n",
    "\n",
    "1. Train a Gradient Boosting Regressor without specifying any parameters, e.g. `GradientBoostingRegressor().fit(X, y)`, and report its $R^2$ on the testing set. Your model should again use as features:\n",
    "    - Median values for the number of author citations, publications and h-indexes as calculated in Task 1.1.1.\n",
    "    - `reputation` of the last author, as calculated in Task 1.1.2.\n",
    "2. Create an additional feature called $crazy$, which is derived as follows. If the score  of the paper, $ratings$, is bigger than 4.96, then $crazy = 9 - ratings$, otherwise, $crazy = - ratings$. Train a Gradient Boosting Regressor to predict paper scores using only $crazy$ as a feature. Additionally, train a Linear Regression model to predict paper scores using only $crazy$ as a feature. Report the $R^2$ in the testing set.\n",
    "3. **Discuss:** Why does the Gradient Boosting Regressor perform so much better?"
   ]
  },
  {
   "cell_type": "markdown",
   "metadata": {},
   "source": [
    "- Task 1.4.1 GradientBoostingRegressor with features as task 1.3.1"
   ]
  },
  {
   "cell_type": "markdown",
   "metadata": {},
   "source": [
    "using same random spilit data from task 1.3.1 since they use same features and we can better compare with this two models "
   ]
  },
  {
   "cell_type": "code",
   "execution_count": 29,
   "metadata": {},
   "outputs": [
    {
     "data": {
      "text/html": [
       "<div>\n",
       "<style scoped>\n",
       "    .dataframe tbody tr th:only-of-type {\n",
       "        vertical-align: middle;\n",
       "    }\n",
       "\n",
       "    .dataframe tbody tr th {\n",
       "        vertical-align: top;\n",
       "    }\n",
       "\n",
       "    .dataframe thead th {\n",
       "        text-align: right;\n",
       "    }\n",
       "</style>\n",
       "<table border=\"1\" class=\"dataframe\">\n",
       "  <thead>\n",
       "    <tr style=\"text-align: right;\">\n",
       "      <th></th>\n",
       "      <th>authors_citations_median</th>\n",
       "      <th>authors_publications_median</th>\n",
       "      <th>authors_hindex_median</th>\n",
       "      <th>reputation</th>\n",
       "    </tr>\n",
       "  </thead>\n",
       "  <tbody>\n",
       "    <tr>\n",
       "      <td>0</td>\n",
       "      <td>7435.5</td>\n",
       "      <td>65.0</td>\n",
       "      <td>25.0</td>\n",
       "      <td>2.042935</td>\n",
       "    </tr>\n",
       "    <tr>\n",
       "      <td>1</td>\n",
       "      <td>5895.0</td>\n",
       "      <td>202.0</td>\n",
       "      <td>33.0</td>\n",
       "      <td>1.192635</td>\n",
       "    </tr>\n",
       "    <tr>\n",
       "      <td>2</td>\n",
       "      <td>86.5</td>\n",
       "      <td>19.0</td>\n",
       "      <td>3.0</td>\n",
       "      <td>0.872828</td>\n",
       "    </tr>\n",
       "    <tr>\n",
       "      <td>3</td>\n",
       "      <td>4407.5</td>\n",
       "      <td>149.5</td>\n",
       "      <td>25.0</td>\n",
       "      <td>1.489506</td>\n",
       "    </tr>\n",
       "    <tr>\n",
       "      <td>4</td>\n",
       "      <td>2327.0</td>\n",
       "      <td>53.5</td>\n",
       "      <td>17.0</td>\n",
       "      <td>1.260927</td>\n",
       "    </tr>\n",
       "    <tr>\n",
       "      <td>...</td>\n",
       "      <td>...</td>\n",
       "      <td>...</td>\n",
       "      <td>...</td>\n",
       "      <td>...</td>\n",
       "    </tr>\n",
       "    <tr>\n",
       "      <td>2974</td>\n",
       "      <td>286.0</td>\n",
       "      <td>26.5</td>\n",
       "      <td>4.5</td>\n",
       "      <td>0.362548</td>\n",
       "    </tr>\n",
       "    <tr>\n",
       "      <td>2975</td>\n",
       "      <td>197.5</td>\n",
       "      <td>31.0</td>\n",
       "      <td>8.0</td>\n",
       "      <td>0.889302</td>\n",
       "    </tr>\n",
       "    <tr>\n",
       "      <td>2976</td>\n",
       "      <td>2461.0</td>\n",
       "      <td>147.0</td>\n",
       "      <td>25.0</td>\n",
       "      <td>1.248990</td>\n",
       "    </tr>\n",
       "    <tr>\n",
       "      <td>2977</td>\n",
       "      <td>231.0</td>\n",
       "      <td>12.0</td>\n",
       "      <td>4.0</td>\n",
       "      <td>1.437014</td>\n",
       "    </tr>\n",
       "    <tr>\n",
       "      <td>2978</td>\n",
       "      <td>609.0</td>\n",
       "      <td>19.0</td>\n",
       "      <td>10.0</td>\n",
       "      <td>1.404149</td>\n",
       "    </tr>\n",
       "  </tbody>\n",
       "</table>\n",
       "<p>2979 rows × 4 columns</p>\n",
       "</div>"
      ],
      "text/plain": [
       "      authors_citations_median  authors_publications_median  \\\n",
       "0                       7435.5                         65.0   \n",
       "1                       5895.0                        202.0   \n",
       "2                         86.5                         19.0   \n",
       "3                       4407.5                        149.5   \n",
       "4                       2327.0                         53.5   \n",
       "...                        ...                          ...   \n",
       "2974                     286.0                         26.5   \n",
       "2975                     197.5                         31.0   \n",
       "2976                    2461.0                        147.0   \n",
       "2977                     231.0                         12.0   \n",
       "2978                     609.0                         19.0   \n",
       "\n",
       "      authors_hindex_median  reputation  \n",
       "0                      25.0    2.042935  \n",
       "1                      33.0    1.192635  \n",
       "2                       3.0    0.872828  \n",
       "3                      25.0    1.489506  \n",
       "4                      17.0    1.260927  \n",
       "...                     ...         ...  \n",
       "2974                    4.5    0.362548  \n",
       "2975                    8.0    0.889302  \n",
       "2976                   25.0    1.248990  \n",
       "2977                    4.0    1.437014  \n",
       "2978                   10.0    1.404149  \n",
       "\n",
       "[2979 rows x 4 columns]"
      ]
     },
     "execution_count": 29,
     "metadata": {},
     "output_type": "execute_result"
    }
   ],
   "source": [
    "x_train_random"
   ]
  },
  {
   "cell_type": "code",
   "execution_count": 30,
   "metadata": {},
   "outputs": [],
   "source": [
    "gbc = GradientBoostingRegressor().fit(x_train_random, y_train_random)\n",
    "y_pred_gbc = gbc.predict(x_test_random)"
   ]
  },
  {
   "cell_type": "code",
   "execution_count": 31,
   "metadata": {},
   "outputs": [
    {
     "name": "stdout",
     "output_type": "stream",
     "text": [
      "R2 score with Gradient Boosting Regression is 0.12063961063456263\n"
     ]
    }
   ],
   "source": [
    "r2_gbc= r2_score(y_test_random, y_pred_gbc)\n",
    "print(\"R2 score with Gradient Boosting Regression is {0}\".format(r2_gbc))"
   ]
  },
  {
   "cell_type": "markdown",
   "metadata": {},
   "source": [
    "- Task 1.4.2 Create an additional feature called  𝑐𝑟𝑎𝑧𝑦 : If the score of the paper,  𝑟𝑎𝑡𝑖𝑛𝑔𝑠 , is bigger than 4.96, then  𝑐𝑟𝑎𝑧𝑦=9−𝑟𝑎𝑡𝑖𝑛𝑔𝑠 , otherwise,  𝑐𝑟𝑎𝑧𝑦=−𝑟𝑎𝑡𝑖𝑛𝑔𝑠 . Train a Gradient Boosting Regressor and Linear Regression model to predict paper scores using only  𝑐𝑟𝑎𝑧𝑦  as a feature. Report the  𝑅2  in the testing set.\n"
   ]
  },
  {
   "cell_type": "code",
   "execution_count": 32,
   "metadata": {},
   "outputs": [
    {
     "name": "stderr",
     "output_type": "stream",
     "text": [
      "C:\\Users\\Jostein\\Anaconda3\\lib\\site-packages\\ipykernel_launcher.py:3: SettingWithCopyWarning: \n",
      "A value is trying to be set on a copy of a slice from a DataFrame.\n",
      "Try using .loc[row_indexer,col_indexer] = value instead\n",
      "\n",
      "See the caveats in the documentation: http://pandas.pydata.org/pandas-docs/stable/user_guide/indexing.html#returning-a-view-versus-a-copy\n",
      "  This is separate from the ipykernel package so we can avoid doing imports until\n",
      "C:\\Users\\Jostein\\Anaconda3\\lib\\site-packages\\ipykernel_launcher.py:4: SettingWithCopyWarning: \n",
      "A value is trying to be set on a copy of a slice from a DataFrame.\n",
      "Try using .loc[row_indexer,col_indexer] = value instead\n",
      "\n",
      "See the caveats in the documentation: http://pandas.pydata.org/pandas-docs/stable/user_guide/indexing.html#returning-a-view-versus-a-copy\n",
      "  after removing the cwd from sys.path.\n",
      "C:\\Users\\Jostein\\Anaconda3\\lib\\site-packages\\ipykernel_launcher.py:5: SettingWithCopyWarning: \n",
      "A value is trying to be set on a copy of a slice from a DataFrame.\n",
      "Try using .loc[row_indexer,col_indexer] = value instead\n",
      "\n",
      "See the caveats in the documentation: http://pandas.pydata.org/pandas-docs/stable/user_guide/indexing.html#returning-a-view-versus-a-copy\n",
      "  \"\"\"\n"
     ]
    },
    {
     "data": {
      "text/html": [
       "<div>\n",
       "<style scoped>\n",
       "    .dataframe tbody tr th:only-of-type {\n",
       "        vertical-align: middle;\n",
       "    }\n",
       "\n",
       "    .dataframe tbody tr th {\n",
       "        vertical-align: top;\n",
       "    }\n",
       "\n",
       "    .dataframe thead th {\n",
       "        text-align: right;\n",
       "    }\n",
       "</style>\n",
       "<table border=\"1\" class=\"dataframe\">\n",
       "  <thead>\n",
       "    <tr style=\"text-align: right;\">\n",
       "      <th></th>\n",
       "      <th>ratings</th>\n",
       "      <th>crazy_mask</th>\n",
       "      <th>crazy</th>\n",
       "    </tr>\n",
       "  </thead>\n",
       "  <tbody>\n",
       "    <tr>\n",
       "      <td>0</td>\n",
       "      <td>9.000000</td>\n",
       "      <td>1</td>\n",
       "      <td>0.000000</td>\n",
       "    </tr>\n",
       "    <tr>\n",
       "      <td>1</td>\n",
       "      <td>4.666667</td>\n",
       "      <td>0</td>\n",
       "      <td>-4.666667</td>\n",
       "    </tr>\n",
       "    <tr>\n",
       "      <td>2</td>\n",
       "      <td>6.666667</td>\n",
       "      <td>1</td>\n",
       "      <td>2.333333</td>\n",
       "    </tr>\n",
       "    <tr>\n",
       "      <td>3</td>\n",
       "      <td>6.333333</td>\n",
       "      <td>1</td>\n",
       "      <td>2.666667</td>\n",
       "    </tr>\n",
       "    <tr>\n",
       "      <td>4</td>\n",
       "      <td>4.666667</td>\n",
       "      <td>0</td>\n",
       "      <td>-4.666667</td>\n",
       "    </tr>\n",
       "    <tr>\n",
       "      <td>...</td>\n",
       "      <td>...</td>\n",
       "      <td>...</td>\n",
       "      <td>...</td>\n",
       "    </tr>\n",
       "    <tr>\n",
       "      <td>4251</td>\n",
       "      <td>5.000000</td>\n",
       "      <td>1</td>\n",
       "      <td>4.000000</td>\n",
       "    </tr>\n",
       "    <tr>\n",
       "      <td>4252</td>\n",
       "      <td>4.666667</td>\n",
       "      <td>0</td>\n",
       "      <td>-4.666667</td>\n",
       "    </tr>\n",
       "    <tr>\n",
       "      <td>4253</td>\n",
       "      <td>4.000000</td>\n",
       "      <td>0</td>\n",
       "      <td>-4.000000</td>\n",
       "    </tr>\n",
       "    <tr>\n",
       "      <td>4254</td>\n",
       "      <td>2.333333</td>\n",
       "      <td>0</td>\n",
       "      <td>-2.333333</td>\n",
       "    </tr>\n",
       "    <tr>\n",
       "      <td>4255</td>\n",
       "      <td>4.000000</td>\n",
       "      <td>0</td>\n",
       "      <td>-4.000000</td>\n",
       "    </tr>\n",
       "  </tbody>\n",
       "</table>\n",
       "<p>4256 rows × 3 columns</p>\n",
       "</div>"
      ],
      "text/plain": [
       "       ratings  crazy_mask     crazy\n",
       "0     9.000000           1  0.000000\n",
       "1     4.666667           0 -4.666667\n",
       "2     6.666667           1  2.333333\n",
       "3     6.333333           1  2.666667\n",
       "4     4.666667           0 -4.666667\n",
       "...        ...         ...       ...\n",
       "4251  5.000000           1  4.000000\n",
       "4252  4.666667           0 -4.666667\n",
       "4253  4.000000           0 -4.000000\n",
       "4254  2.333333           0 -2.333333\n",
       "4255  4.000000           0 -4.000000\n",
       "\n",
       "[4256 rows x 3 columns]"
      ]
     },
     "execution_count": 32,
     "metadata": {},
     "output_type": "execute_result"
    }
   ],
   "source": [
    "#perprocessing data \n",
    "rating_data = publications_data[['ratings']]\n",
    "rating_data['crazy_mask'] = rating_data['ratings']> 4.96\n",
    "rating_data['crazy_mask'] = rating_data['crazy_mask'].astype(int)\n",
    "rating_data['crazy'] = 9*rating_data['crazy_mask']-rating_data['ratings']\n",
    "rating_data"
   ]
  },
  {
   "cell_type": "code",
   "execution_count": 33,
   "metadata": {},
   "outputs": [],
   "source": [
    "#processing data\n",
    "features_cz=['crazy']\n",
    "train_data_cz, test_data_cz= split_set(rating_data)\n",
    "x_train_cz, y_train_cz= split_x_y(train_data_cz,features_cz,'ratings')\n",
    "x_test_cz, y_test_cz = split_x_y(test_data_cz,features_cz,'ratings')\n",
    "\n",
    "#train GBR model\n",
    "gbc = GradientBoostingRegressor().fit(x_train_cz, y_train_cz)\n",
    "y_pred_cz_gbc = gbc.predict(x_test_cz)"
   ]
  },
  {
   "cell_type": "code",
   "execution_count": 34,
   "metadata": {},
   "outputs": [],
   "source": [
    "#train linear regression model\n",
    "rating_lin_reg, _ = train_lin_reg(x_train_cz,y_train_cz,features_cz)\n",
    "y_pred_cz_lin = rating_lin_reg.predict(x_test_cz)"
   ]
  },
  {
   "cell_type": "code",
   "execution_count": 35,
   "metadata": {},
   "outputs": [
    {
     "name": "stdout",
     "output_type": "stream",
     "text": [
      "R2 score regression using linear is 0.42916568371831676\n",
      "R2 scoreusing Gradient Boosting Regressor is 0.9999954853641253\n"
     ]
    }
   ],
   "source": [
    "#report r2 score\n",
    "r2_cz_lin = r2_score(y_test_cz, y_pred_cz_lin)\n",
    "r2_cz_gbc = r2_score(y_test_cz, y_pred_cz_gbc)\n",
    "print(\"R2 score regression using linear is {0}\\nR2 scoreusing Gradient Boosting Regressor is {1}\".format(r2_cz_lin,r2_cz_gbc))"
   ]
  },
  {
   "cell_type": "code",
   "execution_count": 36,
   "metadata": {},
   "outputs": [
    {
     "data": {
      "image/png": "[encoded data removed]",
      "text/plain": [
       "<Figure size 864x576 with 1 Axes>"
      ]
     },
     "metadata": {
      "needs_background": "light"
     },
     "output_type": "display_data"
    }
   ],
   "source": [
    "fig, ax = plt.subplots(figsize=(12, 8))\n",
    "ax.scatter(y_test_cz, y_pred_cz_lin, edgecolors=(0, 0, 0))\n",
    "ax.plot([min(y_test_cz), max(y_test_cz)], [min(y_test_cz), max(y_test_cz)], 'r--', lw=4)\n",
    "ax.set_xlabel('Original')\n",
    "ax.set_ylabel('Predicted')\n",
    "ax.set_title('Crazy trained with linear regression')\n",
    "plt.show()"
   ]
  },
  {
   "cell_type": "code",
   "execution_count": 37,
   "metadata": {},
   "outputs": [
    {
     "data": {
      "image/png": "[encoded data removed]",
      "text/plain": [
       "<Figure size 864x576 with 1 Axes>"
      ]
     },
     "metadata": {
      "needs_background": "light"
     },
     "output_type": "display_data"
    }
   ],
   "source": [
    "fig, ax = plt.subplots(figsize=(12, 8))\n",
    "ax.scatter(y_test_cz, y_pred_cz_gbc, edgecolors=(0, 0, 0))\n",
    "ax.plot([min(y_test_cz), max(y_test_cz)], [min(y_test_cz), max(y_test_cz)], 'r--', lw=4)\n",
    "ax.set_xlabel('Original')\n",
    "ax.set_ylabel('Predicted')\n",
    "ax.set_title('Crazy trained with Gradient Boosting Regressor')\n",
    "plt.show()"
   ]
  },
  {
   "cell_type": "markdown",
   "metadata": {},
   "source": [
    "- Task 1.4.3 **Discuss** : Why does the Gradient Boosting Regressor perform so much better?\n",
    "\n",
    "With `Gradient Boosting Regressor`, in the traing, the model will imporve by correcting the residuals with previous models to minimizes the overall prediction error.  So each new model takes a step in the direction that minimizes prediction error, in the space of possible predictions for each training case."
   ]
  },
  {
   "cell_type": "markdown",
   "metadata": {},
   "source": [
    "### Task 1.5\n",
    "\n",
    "Complex models often have several hyper-parameters. \n",
    "To obtain the best results, it is common-place to use a cross-validation set-up in your training data to find the best hyper-parameters, and then use it for the test set.\n",
    "\n",
    "\n",
    "1. Write modular code (i.e., a function) to divide your training data into $N$ folds and perform cross-validation.\n",
    "2.  Experiment tuning two hyper-parameters of the Gradient Boosting Regressor: `n_estimators` and `learning_rate`.\n",
    "For each possible combination of the two hyper-parameters (see below for the range of values that you should try for each hyper-parameter), train your model in a cross-validation setup with $N$=20. Report the mean $R^2$ along with the 90% CI for the 18 scenarios. Notice that you can calculate the 90% CI in a bootstrap-like fashion.\n",
    "    - `n_estimators`$ \\in  \\{ 50, 75, 100, 150, 200, 250\\}$\n",
    "    - `learning_rate`$ \\in  \\{ 0.1, 0.05, 0.01\\}$.\n",
    "3. With the best hyper-parameters obtained, train your model with the entire training set and report the $R^2$ on the testing set.\n",
    "4. **Discuss:** Why don't we tune the hyper-parameters in the testing set instead of doing cross-validation in the training set?"
   ]
  },
  {
   "cell_type": "markdown",
   "metadata": {},
   "source": [
    "- Task 1.5.1 Write modular code (i.e., a function) to divide your training data into  𝑁  folds and perform cross-validation."
   ]
  },
  {
   "cell_type": "code",
   "execution_count": 38,
   "metadata": {},
   "outputs": [],
   "source": [
    "'''Self defined Cross Validation'''\n",
    "\n",
    "def build_n_indices(y, n_fold, seed=20):\n",
    "    \"\"\"build n indices for n-fold.\"\"\"\n",
    "    num_row = len(y)\n",
    "    interval = int(num_row / n_fold)\n",
    "#     np.random.seed(seed)\n",
    "    indices = np.random.permutation(num_row)\n",
    "    k_indices = [indices[k * interval: (k + 1) * interval]\n",
    "                 for k in range(n_fold)]\n",
    "    return np.array(k_indices)\n",
    "\n",
    "\n",
    "def cross_validation(y, x, k_indices, k, n_estimators, learning_rate):\n",
    "    \"\"\"return the loss of ridge regression.\"\"\"\n",
    "    # get k'th subgroup in test, others in train\n",
    "    te_indice = k_indices[k]\n",
    "    tr_indice = k_indices[~(np.arange(k_indices.shape[0]) == k)]\n",
    "    tr_indice = tr_indice.reshape(-1)\n",
    "    y_test = y.iloc[te_indice]\n",
    "    y_train = y.iloc[tr_indice]\n",
    "    x_test = x.iloc[te_indice]\n",
    "    x_train = x.iloc[tr_indice]\n",
    "    \n",
    "    #  Gradient Boosting Regression\n",
    "    gbc = GradientBoostingRegressor(n_estimators=n_estimators, learning_rate=learning_rate).fit(x_train, y_train)\n",
    "    y_pred = gbc.predict(x_test)\n",
    "    r2 = r2_score(y_test, y_pred)\n",
    "    return r2\n",
    "\n",
    "def cross_vali_demo(x,y,n_fold,n_estimators,learning_rate):\n",
    "    \n",
    "    n_indicies = build_n_indices(y, n_fold)\n",
    "    r2_acu = []\n",
    "    \n",
    "    for n in range(n_fold):\n",
    "        r2= cross_validation(y, x, n_indicies, n, n_estimators, learning_rate)\n",
    "        r2_acu +=[r2]\n",
    "    return np.array(r2_acu).mean()\n"
   ]
  },
  {
   "cell_type": "code",
   "execution_count": 39,
   "metadata": {},
   "outputs": [],
   "source": [
    "def serch_hyperparamter1(x,y,n_fold,n_estimators,learning_rate):\n",
    "    res = []\n",
    "    for esti in n_estimators:\n",
    "         for lr in learning_rate:\n",
    "            r2 = cross_vali_demo(x,y,n_fold,esti,lr)\n",
    "            res += [[esti, lr, r2]]\n",
    "    comparison = pd.DataFrame(res,columns=['n_estimator','learning_rate','r2'])\n",
    "    return comparison\n",
    "            \n",
    "            "
   ]
  },
  {
   "cell_type": "code",
   "execution_count": 40,
   "metadata": {},
   "outputs": [],
   "source": [
    "'''Using cross validation from sklearn'''\n",
    "def serch_hyperparamter(x,y,n_fold,n_estimators,learning_rate):\n",
    "    res = []\n",
    "    for esti in n_estimators:\n",
    "         for lr in learning_rate:\n",
    "            gbs = GradientBoostingRegressor(n_estimators=esti, learning_rate=lr)\n",
    "            r2 = cross_val_score(gbs, x, y, cv=n_fold, scoring=\"r2\").mean()\n",
    "            res += [[esti, lr, r2]]\n",
    "    comparison = pd.DataFrame(res,columns=['n_estimator','learning_rate','r2'])\n",
    "    return comparison"
   ]
  },
  {
   "cell_type": "markdown",
   "metadata": {},
   "source": [
    "- Task 1.5.2  Experiment tuning two hyper-parameters of the Gradient Boosting Regressor: n_estimators and learning_rate."
   ]
  },
  {
   "cell_type": "code",
   "execution_count": 41,
   "metadata": {},
   "outputs": [],
   "source": [
    "train_data, test_data = split_set(model_data)\n",
    "x_data,y_data = split_x_y(train_data,features,prediction)\n",
    "x_test,y_test = split_x_y(test_data,features,prediction)\n",
    "\n",
    "n_estimators = [50,75,100,150,200,250]\n",
    "learning_rate = [0.1,0.05,0.01]\n",
    "n_fold = 20 \n",
    "x = x_data\n",
    "y = y_data\n",
    "\n",
    "comparison1 = serch_hyperparamter1(x,y,n_fold,n_estimators,learning_rate)\n",
    "comparison = serch_hyperparamter(x,y,n_fold,n_estimators,learning_rate)"
   ]
  },
  {
   "cell_type": "code",
   "execution_count": 42,
   "metadata": {},
   "outputs": [
    {
     "data": {
      "text/html": [
       "<div>\n",
       "<style scoped>\n",
       "    .dataframe tbody tr th:only-of-type {\n",
       "        vertical-align: middle;\n",
       "    }\n",
       "\n",
       "    .dataframe tbody tr th {\n",
       "        vertical-align: top;\n",
       "    }\n",
       "\n",
       "    .dataframe thead th {\n",
       "        text-align: right;\n",
       "    }\n",
       "</style>\n",
       "<table border=\"1\" class=\"dataframe\">\n",
       "  <thead>\n",
       "    <tr style=\"text-align: right;\">\n",
       "      <th></th>\n",
       "      <th>n_estimator</th>\n",
       "      <th>learning_rate</th>\n",
       "      <th>r2</th>\n",
       "    </tr>\n",
       "  </thead>\n",
       "  <tbody>\n",
       "    <tr>\n",
       "      <td>0</td>\n",
       "      <td>50</td>\n",
       "      <td>0.10</td>\n",
       "      <td>0.096832</td>\n",
       "    </tr>\n",
       "    <tr>\n",
       "      <td>1</td>\n",
       "      <td>50</td>\n",
       "      <td>0.05</td>\n",
       "      <td>0.093541</td>\n",
       "    </tr>\n",
       "    <tr>\n",
       "      <td>2</td>\n",
       "      <td>50</td>\n",
       "      <td>0.01</td>\n",
       "      <td>0.060876</td>\n",
       "    </tr>\n",
       "    <tr>\n",
       "      <td>3</td>\n",
       "      <td>75</td>\n",
       "      <td>0.10</td>\n",
       "      <td>0.091507</td>\n",
       "    </tr>\n",
       "    <tr>\n",
       "      <td>4</td>\n",
       "      <td>75</td>\n",
       "      <td>0.05</td>\n",
       "      <td>0.101965</td>\n",
       "    </tr>\n",
       "    <tr>\n",
       "      <td>5</td>\n",
       "      <td>75</td>\n",
       "      <td>0.01</td>\n",
       "      <td>0.073107</td>\n",
       "    </tr>\n",
       "    <tr>\n",
       "      <td>6</td>\n",
       "      <td>100</td>\n",
       "      <td>0.10</td>\n",
       "      <td>0.095381</td>\n",
       "    </tr>\n",
       "    <tr>\n",
       "      <td>7</td>\n",
       "      <td>100</td>\n",
       "      <td>0.05</td>\n",
       "      <td>0.104053</td>\n",
       "    </tr>\n",
       "    <tr>\n",
       "      <td>8</td>\n",
       "      <td>100</td>\n",
       "      <td>0.01</td>\n",
       "      <td>0.078637</td>\n",
       "    </tr>\n",
       "    <tr>\n",
       "      <td>9</td>\n",
       "      <td>150</td>\n",
       "      <td>0.10</td>\n",
       "      <td>0.093183</td>\n",
       "    </tr>\n",
       "    <tr>\n",
       "      <td>10</td>\n",
       "      <td>150</td>\n",
       "      <td>0.05</td>\n",
       "      <td>0.098511</td>\n",
       "    </tr>\n",
       "    <tr>\n",
       "      <td>11</td>\n",
       "      <td>150</td>\n",
       "      <td>0.01</td>\n",
       "      <td>0.092548</td>\n",
       "    </tr>\n",
       "    <tr>\n",
       "      <td>12</td>\n",
       "      <td>200</td>\n",
       "      <td>0.10</td>\n",
       "      <td>0.069817</td>\n",
       "    </tr>\n",
       "    <tr>\n",
       "      <td>13</td>\n",
       "      <td>200</td>\n",
       "      <td>0.05</td>\n",
       "      <td>0.098450</td>\n",
       "    </tr>\n",
       "    <tr>\n",
       "      <td>14</td>\n",
       "      <td>200</td>\n",
       "      <td>0.01</td>\n",
       "      <td>0.096675</td>\n",
       "    </tr>\n",
       "    <tr>\n",
       "      <td>15</td>\n",
       "      <td>250</td>\n",
       "      <td>0.10</td>\n",
       "      <td>0.067171</td>\n",
       "    </tr>\n",
       "    <tr>\n",
       "      <td>16</td>\n",
       "      <td>250</td>\n",
       "      <td>0.05</td>\n",
       "      <td>0.088511</td>\n",
       "    </tr>\n",
       "    <tr>\n",
       "      <td>17</td>\n",
       "      <td>250</td>\n",
       "      <td>0.01</td>\n",
       "      <td>0.097993</td>\n",
       "    </tr>\n",
       "  </tbody>\n",
       "</table>\n",
       "</div>"
      ],
      "text/plain": [
       "    n_estimator  learning_rate        r2\n",
       "0            50           0.10  0.096832\n",
       "1            50           0.05  0.093541\n",
       "2            50           0.01  0.060876\n",
       "3            75           0.10  0.091507\n",
       "4            75           0.05  0.101965\n",
       "5            75           0.01  0.073107\n",
       "6           100           0.10  0.095381\n",
       "7           100           0.05  0.104053\n",
       "8           100           0.01  0.078637\n",
       "9           150           0.10  0.093183\n",
       "10          150           0.05  0.098511\n",
       "11          150           0.01  0.092548\n",
       "12          200           0.10  0.069817\n",
       "13          200           0.05  0.098450\n",
       "14          200           0.01  0.096675\n",
       "15          250           0.10  0.067171\n",
       "16          250           0.05  0.088511\n",
       "17          250           0.01  0.097993"
      ]
     },
     "execution_count": 42,
     "metadata": {},
     "output_type": "execute_result"
    }
   ],
   "source": [
    "comparison1"
   ]
  },
  {
   "cell_type": "code",
   "execution_count": 43,
   "metadata": {},
   "outputs": [
    {
     "data": {
      "text/html": [
       "<div>\n",
       "<style scoped>\n",
       "    .dataframe tbody tr th:only-of-type {\n",
       "        vertical-align: middle;\n",
       "    }\n",
       "\n",
       "    .dataframe tbody tr th {\n",
       "        vertical-align: top;\n",
       "    }\n",
       "\n",
       "    .dataframe thead th {\n",
       "        text-align: right;\n",
       "    }\n",
       "</style>\n",
       "<table border=\"1\" class=\"dataframe\">\n",
       "  <thead>\n",
       "    <tr style=\"text-align: right;\">\n",
       "      <th></th>\n",
       "      <th>n_estimator</th>\n",
       "      <th>learning_rate</th>\n",
       "      <th>r2</th>\n",
       "    </tr>\n",
       "  </thead>\n",
       "  <tbody>\n",
       "    <tr>\n",
       "      <td>0</td>\n",
       "      <td>50</td>\n",
       "      <td>0.10</td>\n",
       "      <td>0.098281</td>\n",
       "    </tr>\n",
       "    <tr>\n",
       "      <td>1</td>\n",
       "      <td>50</td>\n",
       "      <td>0.05</td>\n",
       "      <td>0.099932</td>\n",
       "    </tr>\n",
       "    <tr>\n",
       "      <td>2</td>\n",
       "      <td>50</td>\n",
       "      <td>0.01</td>\n",
       "      <td>0.055011</td>\n",
       "    </tr>\n",
       "    <tr>\n",
       "      <td>3</td>\n",
       "      <td>75</td>\n",
       "      <td>0.10</td>\n",
       "      <td>0.095172</td>\n",
       "    </tr>\n",
       "    <tr>\n",
       "      <td>4</td>\n",
       "      <td>75</td>\n",
       "      <td>0.05</td>\n",
       "      <td>0.100744</td>\n",
       "    </tr>\n",
       "    <tr>\n",
       "      <td>5</td>\n",
       "      <td>75</td>\n",
       "      <td>0.01</td>\n",
       "      <td>0.069709</td>\n",
       "    </tr>\n",
       "    <tr>\n",
       "      <td>6</td>\n",
       "      <td>100</td>\n",
       "      <td>0.10</td>\n",
       "      <td>0.091520</td>\n",
       "    </tr>\n",
       "    <tr>\n",
       "      <td>7</td>\n",
       "      <td>100</td>\n",
       "      <td>0.05</td>\n",
       "      <td>0.099651</td>\n",
       "    </tr>\n",
       "    <tr>\n",
       "      <td>8</td>\n",
       "      <td>100</td>\n",
       "      <td>0.01</td>\n",
       "      <td>0.078912</td>\n",
       "    </tr>\n",
       "    <tr>\n",
       "      <td>9</td>\n",
       "      <td>150</td>\n",
       "      <td>0.10</td>\n",
       "      <td>0.085620</td>\n",
       "    </tr>\n",
       "    <tr>\n",
       "      <td>10</td>\n",
       "      <td>150</td>\n",
       "      <td>0.05</td>\n",
       "      <td>0.099064</td>\n",
       "    </tr>\n",
       "    <tr>\n",
       "      <td>11</td>\n",
       "      <td>150</td>\n",
       "      <td>0.01</td>\n",
       "      <td>0.090441</td>\n",
       "    </tr>\n",
       "    <tr>\n",
       "      <td>12</td>\n",
       "      <td>200</td>\n",
       "      <td>0.10</td>\n",
       "      <td>0.077200</td>\n",
       "    </tr>\n",
       "    <tr>\n",
       "      <td>13</td>\n",
       "      <td>200</td>\n",
       "      <td>0.05</td>\n",
       "      <td>0.095763</td>\n",
       "    </tr>\n",
       "    <tr>\n",
       "      <td>14</td>\n",
       "      <td>200</td>\n",
       "      <td>0.01</td>\n",
       "      <td>0.096847</td>\n",
       "    </tr>\n",
       "    <tr>\n",
       "      <td>15</td>\n",
       "      <td>250</td>\n",
       "      <td>0.10</td>\n",
       "      <td>0.069911</td>\n",
       "    </tr>\n",
       "    <tr>\n",
       "      <td>16</td>\n",
       "      <td>250</td>\n",
       "      <td>0.05</td>\n",
       "      <td>0.091492</td>\n",
       "    </tr>\n",
       "    <tr>\n",
       "      <td>17</td>\n",
       "      <td>250</td>\n",
       "      <td>0.01</td>\n",
       "      <td>0.099729</td>\n",
       "    </tr>\n",
       "  </tbody>\n",
       "</table>\n",
       "</div>"
      ],
      "text/plain": [
       "    n_estimator  learning_rate        r2\n",
       "0            50           0.10  0.098281\n",
       "1            50           0.05  0.099932\n",
       "2            50           0.01  0.055011\n",
       "3            75           0.10  0.095172\n",
       "4            75           0.05  0.100744\n",
       "5            75           0.01  0.069709\n",
       "6           100           0.10  0.091520\n",
       "7           100           0.05  0.099651\n",
       "8           100           0.01  0.078912\n",
       "9           150           0.10  0.085620\n",
       "10          150           0.05  0.099064\n",
       "11          150           0.01  0.090441\n",
       "12          200           0.10  0.077200\n",
       "13          200           0.05  0.095763\n",
       "14          200           0.01  0.096847\n",
       "15          250           0.10  0.069911\n",
       "16          250           0.05  0.091492\n",
       "17          250           0.01  0.099729"
      ]
     },
     "execution_count": 43,
     "metadata": {},
     "output_type": "execute_result"
    }
   ],
   "source": [
    "comparison"
   ]
  },
  {
   "cell_type": "code",
   "execution_count": 44,
   "metadata": {},
   "outputs": [
    {
     "data": {
      "text/html": [
       "<div>\n",
       "<style scoped>\n",
       "    .dataframe tbody tr th:only-of-type {\n",
       "        vertical-align: middle;\n",
       "    }\n",
       "\n",
       "    .dataframe tbody tr th {\n",
       "        vertical-align: top;\n",
       "    }\n",
       "\n",
       "    .dataframe thead th {\n",
       "        text-align: right;\n",
       "    }\n",
       "</style>\n",
       "<table border=\"1\" class=\"dataframe\">\n",
       "  <thead>\n",
       "    <tr style=\"text-align: right;\">\n",
       "      <th></th>\n",
       "      <th>n_estimator</th>\n",
       "      <th>learning_rate</th>\n",
       "      <th>r2</th>\n",
       "    </tr>\n",
       "  </thead>\n",
       "  <tbody>\n",
       "    <tr>\n",
       "      <td>7</td>\n",
       "      <td>100</td>\n",
       "      <td>0.05</td>\n",
       "      <td>0.104053</td>\n",
       "    </tr>\n",
       "  </tbody>\n",
       "</table>\n",
       "</div>"
      ],
      "text/plain": [
       "   n_estimator  learning_rate        r2\n",
       "7          100           0.05  0.104053"
      ]
     },
     "execution_count": 44,
     "metadata": {},
     "output_type": "execute_result"
    }
   ],
   "source": [
    "max1_r2 = comparison1.r2.max()\n",
    "comparison1.loc[comparison1.r2 == max1_r2 ]"
   ]
  },
  {
   "cell_type": "code",
   "execution_count": 45,
   "metadata": {},
   "outputs": [
    {
     "data": {
      "text/html": [
       "<div>\n",
       "<style scoped>\n",
       "    .dataframe tbody tr th:only-of-type {\n",
       "        vertical-align: middle;\n",
       "    }\n",
       "\n",
       "    .dataframe tbody tr th {\n",
       "        vertical-align: top;\n",
       "    }\n",
       "\n",
       "    .dataframe thead th {\n",
       "        text-align: right;\n",
       "    }\n",
       "</style>\n",
       "<table border=\"1\" class=\"dataframe\">\n",
       "  <thead>\n",
       "    <tr style=\"text-align: right;\">\n",
       "      <th></th>\n",
       "      <th>n_estimator</th>\n",
       "      <th>learning_rate</th>\n",
       "      <th>r2</th>\n",
       "    </tr>\n",
       "  </thead>\n",
       "  <tbody>\n",
       "    <tr>\n",
       "      <td>4</td>\n",
       "      <td>75</td>\n",
       "      <td>0.05</td>\n",
       "      <td>0.100744</td>\n",
       "    </tr>\n",
       "  </tbody>\n",
       "</table>\n",
       "</div>"
      ],
      "text/plain": [
       "   n_estimator  learning_rate        r2\n",
       "4           75           0.05  0.100744"
      ]
     },
     "execution_count": 45,
     "metadata": {},
     "output_type": "execute_result"
    }
   ],
   "source": [
    "max_r2 = comparison.r2.max()\n",
    "comparison.loc[comparison.r2 == max_r2 ]"
   ]
  },
  {
   "cell_type": "markdown",
   "metadata": {},
   "source": [
    "- Task 1.5.3 With the best hyper-parameters obtained, train your model with the entire training set and report the  𝑅2  on the testing set."
   ]
  },
  {
   "cell_type": "markdown",
   "metadata": {},
   "source": [
    "According to the comparsion: train the whole training data with  n_estimator + and learning_rate = "
   ]
  },
  {
   "cell_type": "code",
   "execution_count": 46,
   "metadata": {},
   "outputs": [
    {
     "ename": "SyntaxError",
     "evalue": "invalid syntax (<ipython-input-46-ad8ebd445395>, line 1)",
     "output_type": "error",
     "traceback": [
      "\u001b[1;36m  File \u001b[1;32m\"<ipython-input-46-ad8ebd445395>\"\u001b[1;36m, line \u001b[1;32m1\u001b[0m\n\u001b[1;33m    nest =\u001b[0m\n\u001b[1;37m          ^\u001b[0m\n\u001b[1;31mSyntaxError\u001b[0m\u001b[1;31m:\u001b[0m invalid syntax\n"
     ]
    }
   ],
   "source": [
    "nest =\n",
    "lr = \n",
    "gbc_tuned = GradientBoostingRegressor(n_estimators=nest, learning_rate=lr).fit(x_data, y_data)\n",
    "y_pred = gbc_tuned.predict(x_test)\n"
   ]
  },
  {
   "cell_type": "code",
   "execution_count": null,
   "metadata": {},
   "outputs": [],
   "source": [
    "#### r2_tuned = r2_score(y_test ,y_pred)\n",
    "print(\"R2 score with Gradient Boosting Regression in better parameters {0}\".format(r2_tuned))"
   ]
  },
  {
   "cell_type": "markdown",
   "metadata": {},
   "source": [
    "- Task 1.5.4 **Discuss**: Why don't we tune the hyper-parameters in the testing set instead of doing cross-validation in the training set?\n",
    "\n",
    "To aviod overfitting.\n",
    "More specifcally, test set is unknow data to test how well our model is, so that the model generalizes well on unseen dataset. If we use test set tune the hyper-parameters, it means we also use test set to train the model which will cause overfitting. Thus we need cross validation which only use train data to find right parameters. "
   ]
  },
  {
   "cell_type": "markdown",
   "metadata": {},
   "source": [
    "## _Step 2:_ What influences papers getting accepted?\n",
    "\n",
    "Time to change hats!\n",
    "\n",
    "If before we were interested in creating an accurate regressor, now we are interested in understanding what increases the chance of papers getting accepted. \n",
    "\n",
    "Typically, in that scenario, simpler models with a clear statistical interpretation (e.g. logistic regression) yield more interesting insights.\n",
    "\n",
    "For the analysis in this and the next step, you should use [statsmodels](https://www.statsmodels.org/) (for the regressions) and [scipy](https://www.scipy.org/) (for the statistical hypothesis testing).\n"
   ]
  },
  {
   "cell_type": "markdown",
   "metadata": {},
   "source": [
    "### Task 2.1\n",
    "\n",
    "Let's warm up with some visualizations and some hypothesis testing!\n",
    "\n",
    "1. Plot the distributions of 1) ratings of papers that got accepted in 2020, 2) ratings of papers that got rejected in 2020.\n",
    "2. Select a statistical test to compare whether the mean for ratings of papers that got accepted in 2020 is significantly higher.\n",
    "3. **Discuss:** Justify why the statistical test you selected is appropriate. Interpret the test-related statistic and its p-value: concretely, what do they mean?"
   ]
  },
  {
   "cell_type": "code",
   "execution_count": 30,
   "metadata": {},
   "outputs": [
    {
     "data": {
      "text/plain": [
       "<seaborn.axisgrid.FacetGrid at 0x2842395b2c8>"
      ]
     },
     "execution_count": 30,
     "metadata": {},
     "output_type": "execute_result"
    },
    {
     "data": {
      "image/png": "[encoded data removed]",
      "text/plain": [
       "<Figure size 430.125x360 with 1 Axes>"
      ]
     },
     "metadata": {
      "needs_background": "light"
     },
     "output_type": "display_data"
    }
   ],
   "source": [
    "### Your code here! ###\n",
    "\n",
    "#### Task 2.1.1 ####\n",
    "## Slice dataframe to only 2020 papers\n",
    "publications_2020 = publications_data[publications_data[\"year\"]==2020]\n",
    "\n",
    "## Histogram ratings based on decisions\n",
    "sns.displot(publications_2020, x=\"ratings\", hue=\"decisions\", kind=\"kde\")"
   ]
  },
  {
   "cell_type": "code",
   "execution_count": 31,
   "metadata": {},
   "outputs": [
    {
     "data": {
      "text/html": [
       "<div>\n",
       "<style scoped>\n",
       "    .dataframe tbody tr th:only-of-type {\n",
       "        vertical-align: middle;\n",
       "    }\n",
       "\n",
       "    .dataframe tbody tr th {\n",
       "        vertical-align: top;\n",
       "    }\n",
       "\n",
       "    .dataframe thead th {\n",
       "        text-align: right;\n",
       "    }\n",
       "</style>\n",
       "<table border=\"1\" class=\"dataframe\">\n",
       "  <thead>\n",
       "    <tr style=\"text-align: right;\">\n",
       "      <th></th>\n",
       "      <th>ratings</th>\n",
       "    </tr>\n",
       "    <tr>\n",
       "      <th>decisions</th>\n",
       "      <th></th>\n",
       "    </tr>\n",
       "  </thead>\n",
       "  <tbody>\n",
       "    <tr>\n",
       "      <td>Accept</td>\n",
       "      <td>6.138633</td>\n",
       "    </tr>\n",
       "    <tr>\n",
       "      <td>Reject</td>\n",
       "      <td>3.683275</td>\n",
       "    </tr>\n",
       "  </tbody>\n",
       "</table>\n",
       "</div>"
      ],
      "text/plain": [
       "            ratings\n",
       "decisions          \n",
       "Accept     6.138633\n",
       "Reject     3.683275"
      ]
     },
     "execution_count": 31,
     "metadata": {},
     "output_type": "execute_result"
    }
   ],
   "source": [
    "#### Task 2.1.2 ####\n",
    "## Calculate mean of decisions\n",
    "publications_2020_ratings_means = publications_2020.groupby([\"decisions\"]).mean()[[\"ratings\"]]\n",
    "publications_2020_ratings_means"
   ]
  },
  {
   "cell_type": "markdown",
   "metadata": {},
   "source": [
    "The mean for accepted is almost twice that of rejected. This can also easily be observed by the different distributions in the previous task. It is extremely likely that these two means are significantly different."
   ]
  },
  {
   "cell_type": "code",
   "execution_count": 32,
   "metadata": {},
   "outputs": [
    {
     "data": {
      "text/plain": [
       "Ttest_indResult(statistic=53.56214101855919, pvalue=0.0)"
      ]
     },
     "execution_count": 32,
     "metadata": {},
     "output_type": "execute_result"
    }
   ],
   "source": [
    "## Slice dataframe to accepted and rejected arrays for ttest.\n",
    "publications_2020_accepted = publications_2020[publications_2020[\"decisions\"]==\"Accept\"][[\"ratings\"]]\n",
    "publications_2020_rejected = publications_2020[publications_2020[\"decisions\"]==\"Reject\"][[\"ratings\"]]\n",
    "\n",
    "## Do welch's t-test. Using ravel() to unpack the values.\n",
    "from scipy.stats import ttest_ind\n",
    "ttest_ind(publications_2020_accepted.values.ravel(), publications_2020_rejected.values.ravel(), equal_var=False)"
   ]
  },
  {
   "cell_type": "markdown",
   "metadata": {},
   "source": [
    "The welch's t-test is performed by setting equal_var=False. This test is selected because it compares the mean of two independent samples, but makes no assumptions about equal variance like a t-test does. \n",
    "\n",
    "The result confirms that the means are significantly different. The null-hypothesis of the test is that the mean from the two samples are equal. A low statistic would indicate that the means are close together, and a higher value indicates that the means are further apart. The pvalue gives the probability of the null-hypothesis being true !!!!DOUBLE CHECK THIS STATEMENT!!!!, which in this test is 0. We can confidently reject the null hypothesis, and conclude that the mean ratings of the accepted papers are significantly higher."
   ]
  },
  {
   "cell_type": "markdown",
   "metadata": {},
   "source": [
    "### Task 2.2\n",
    "\n",
    "We will now carry out a logistic regression modeling the binary variable `decisions` as a function of the continuous variable `ratings` and an intercept. \n",
    "\n",
    "Recall that a logistic regression is a model in the form:\n",
    "\n",
    "$$\n",
    "\\log \\Big( \\frac{p}{1-p} \\Big) = b_0 + b_1x_1 + b_2x_2 + \\ldots\n",
    "$$\n",
    "\n",
    "Where $p$ is the probability of the dependent variable (here, `decisions`) being equals to 1. \n",
    "Note that $\\frac{p}{1-p}$ represents the odds of the variable, and thus, on the left-hand side we have the log-odds of the variable.\n",
    "This can be also written as:\n",
    "\n",
    "$$\n",
    "\\Big( \\frac{p}{1-p} \\Big) = e^{b_0 + b_1 x_1 + b_2 x_2 + \\ldots} =  e^{b_0} e^{b_1 x_1} e^{b_2 x_2} \\ldots\n",
    "$$\n",
    "\n",
    "Given a linear variable, say $x_1$, if we increase the value associated with this variable by a single unit, and keep everything constant, we have:\n",
    "\n",
    "$$\n",
    " e^{b_1(x_1+1)} =  e^{b_1 x_1 + b_1} = e^{b_1 x_1}e^{b_1}  \n",
    "$$\n",
    "\n",
    "This means that we multiply the odds of the outcome variable by $e^{b_1}$. Thus, let's say that $x_1$ is the average rating, and $\\beta_1$ is the associated coefficient. Also, let's assume that $\\beta_1$ equals 2. In that case, increasing the score of the paper by 1 unit is equivalent to multiplying both sides of the previous equation by $e^{b_1}$. The original equation for our model becomes:\n",
    "\n",
    "$$\n",
    "\\Big( \\frac{p}{1-p} \\Big) = e^{b_0} e^{b_1 x_1} \n",
    "$$\n",
    "$$\n",
    "\\Big( \\frac{p}{1-p} \\Big) e^{b_1}  = e^{b_0} e^{b_1 x_1} e^{b_1}\n",
    "$$\n",
    "\n",
    "Since $b_1=2$, we have that this is the same as multiplying the odds of the variable by $e^2\\approx7$. \n",
    "So for example, if a paper with a score 5 had $p=0.05$ of being approved, its odds would be $0.05/0.95\\approx0.052$. According to our model, an increase in 1-rating point would mean that the new odds would be $0.052*7\\approx0.36$. Using the odds formula  ($\\frac{p}{1-p}$), this suggests that this paper would have a chance of $0.56$ of being accepted.\n",
    "\n",
    "---\n",
    "\n",
    "This is the theory. Now, let's find out what the real world looks like.\n",
    "\n",
    "\n",
    "1. Fit a logistic regression model to our data considering as the training set all papers submitted in 2020. Your model should predict a binary variable related to decisions (which equals true if the paper was accepted and false otherwise) as a function of the paper ratings and an intercept. In mathematical notation:\n",
    "$$\n",
    "d = b_0 + r b_1\n",
    "$$\n",
    "Where $d$ is the binary variable corresponding to a decision, $r$ is a numeric variable corresponding to the rating a paper has received and $b$ are coefficients.\n",
    "Notice that here we have no testing set!\n",
    "Report the summary of your model. \n",
    "2. **Discuss:** Interpreting the coefficients of your model, calculate the probability that a paper with a score 7 will be accepted.\n"
   ]
  },
  {
   "cell_type": "code",
   "execution_count": 58,
   "metadata": {},
   "outputs": [
    {
     "name": "stdout",
     "output_type": "stream",
     "text": [
      "Optimization terminated successfully.\n",
      "         Current function value: 0.251882\n",
      "         Iterations 8\n"
     ]
    },
    {
     "data": {
      "text/html": [
       "<table class=\"simpletable\">\n",
       "<caption>Logit Regression Results</caption>\n",
       "<tr>\n",
       "  <th>Dep. Variable:</th>       <td>decisions</td>    <th>  No. Observations:  </th>  <td>  2052</td> \n",
       "</tr>\n",
       "<tr>\n",
       "  <th>Model:</th>                 <td>Logit</td>      <th>  Df Residuals:      </th>  <td>  2050</td> \n",
       "</tr>\n",
       "<tr>\n",
       "  <th>Method:</th>                 <td>MLE</td>       <th>  Df Model:          </th>  <td>     1</td> \n",
       "</tr>\n",
       "<tr>\n",
       "  <th>Date:</th>            <td>Tue, 17 Nov 2020</td> <th>  Pseudo R-squ.:     </th>  <td>0.5913</td> \n",
       "</tr>\n",
       "<tr>\n",
       "  <th>Time:</th>                <td>23:53:48</td>     <th>  Log-Likelihood:    </th> <td> -516.86</td>\n",
       "</tr>\n",
       "<tr>\n",
       "  <th>converged:</th>             <td>True</td>       <th>  LL-Null:           </th> <td> -1264.6</td>\n",
       "</tr>\n",
       "<tr>\n",
       "  <th>Covariance Type:</th>     <td>nonrobust</td>    <th>  LLR p-value:       </th>  <td> 0.000</td> \n",
       "</tr>\n",
       "</table>\n",
       "<table class=\"simpletable\">\n",
       "<tr>\n",
       "     <td></td>        <th>coef</th>     <th>std err</th>      <th>z</th>      <th>P>|z|</th>  <th>[0.025</th>    <th>0.975]</th>  \n",
       "</tr>\n",
       "<tr>\n",
       "  <th>b0</th>      <td>  -12.8811</td> <td>    0.597</td> <td>  -21.574</td> <td> 0.000</td> <td>  -14.051</td> <td>  -11.711</td>\n",
       "</tr>\n",
       "<tr>\n",
       "  <th>ratings</th> <td>    2.3672</td> <td>    0.110</td> <td>   21.438</td> <td> 0.000</td> <td>    2.151</td> <td>    2.584</td>\n",
       "</tr>\n",
       "</table>"
      ],
      "text/plain": [
       "<class 'statsmodels.iolib.summary.Summary'>\n",
       "\"\"\"\n",
       "                           Logit Regression Results                           \n",
       "==============================================================================\n",
       "Dep. Variable:              decisions   No. Observations:                 2052\n",
       "Model:                          Logit   Df Residuals:                     2050\n",
       "Method:                           MLE   Df Model:                            1\n",
       "Date:                Tue, 17 Nov 2020   Pseudo R-squ.:                  0.5913\n",
       "Time:                        23:53:48   Log-Likelihood:                -516.86\n",
       "converged:                       True   LL-Null:                       -1264.6\n",
       "Covariance Type:            nonrobust   LLR p-value:                     0.000\n",
       "==============================================================================\n",
       "                 coef    std err          z      P>|z|      [0.025      0.975]\n",
       "------------------------------------------------------------------------------\n",
       "b0           -12.8811      0.597    -21.574      0.000     -14.051     -11.711\n",
       "ratings        2.3672      0.110     21.438      0.000       2.151       2.584\n",
       "==============================================================================\n",
       "\"\"\""
      ]
     },
     "execution_count": 58,
     "metadata": {},
     "output_type": "execute_result"
    }
   ],
   "source": [
    "### Your code here! ###\n",
    "from statsmodels.api import Logit\n",
    "\n",
    "#### Task 2.2.1 ####\n",
    "## Slice out neccesary data\n",
    "publications_2020_ratings = publications_2020[[\"ratings\", \"decisions\"]].copy()\n",
    "\n",
    "## Translate decisions column to integer binary values\n",
    "decisions_map = {'decisions': {'Accept':1, 'Reject':0}}\n",
    "publications_2020_ratings.replace(decisions_map, inplace=True)\n",
    "\n",
    "## Add columns of 1 to include intercept as a parameter of the model\n",
    "publications_2020_ratings[\"b0\"] = np.ones(publications_2020_ratings.shape[0])\n",
    "\n",
    "## Instantiate and fit model using MLE\n",
    "logreg_model = Logit(publications_2020_ratings[\"decisions\"], publications_2020_ratings[[\"b0\",\"ratings\"]]).fit()\n",
    "\n",
    "## Report summary of model\n",
    "logreg_model.summary()"
   ]
  },
  {
   "cell_type": "markdown",
   "metadata": {},
   "source": [
    "### Task 2.3\n",
    "\n",
    "Our model is not so interesting since the only independent variable (that is, our model' feature or predictor) is something blatantly associated with paper acceptance. Let's go further! \n",
    "\n",
    "1. Run a logistic regression with the binary decision as the dependent variable (the outcome) and using as independent variables (the features): ratings, the reputation of the last author, and whether the paper was on arxiv or not. That is, in [patsy-style formula](https://patsy.readthedocs.io/en/latest/formulas.html): `decisions ~ ratings + reputation + arxiv` (variable names do not need to be exactly these). Consider all papers submitted in 2020 as your training data.\n",
    "Notice that reputation was calculated in Task 1.1. \n",
    "2. **Discuss:** Unlike `ratings` and `reputation`, the variable `arxiv` is binary. Following the same logic as we did for continuous variables in the text of Task 2.2, interpret the meaning of this coefficient. What happens to the odds ratio if the paper was seen in arxiv? Is this effect statistically significant?"
   ]
  },
  {
   "cell_type": "code",
   "execution_count": null,
   "metadata": {},
   "outputs": [],
   "source": [
    "### Your code here! ###"
   ]
  },
  {
   "cell_type": "markdown",
   "metadata": {},
   "source": [
    "### Task 2.4\n",
    "\n",
    "Let's finally move on to the question that you have been dying to answer: Do pre-prints favor top institutions? \n",
    "\n",
    "In order to (try to) answer that question, you must fit yet another logistic regression.\n",
    "\n",
    "Your regression should have the paper decision as the dependent variable, and `ratings`, `reputation`, and `arxiv` as independent variables just like in task 2.3. Yet, here, include also as independent variables the binary variable `has_top_institution`, which equals 1 if the paper has an author in a top-10 institution; and the interaction variable `arxiv:has_top_institution`, which equals one only if the paper is from a top-10 institution **and** if it appeared on arxiv before the submission deadline. In patsy-style formula your model should look something like: \n",
    "\n",
    "`decisions_bool ~ ratings + reputation + arxiv + has_top_institution + arxiv:has_top_institution`\n",
    "\n",
    "\n",
    "1. Fit this model and estimate the effect of posting on arxiv for a top institution. Again, consider only papers submitted in the 2020 edition.\n",
    "2. **Discuss:** Interpreting the p-values, discuss: is this evidence that arxiv breaks double-blind submissions?"
   ]
  },
  {
   "cell_type": "code",
   "execution_count": null,
   "metadata": {},
   "outputs": [],
   "source": [
    "### Your code here! ###"
   ]
  },
  {
   "cell_type": "markdown",
   "metadata": {},
   "source": [
    "## Step 3: Matching\n",
    "\n",
    "Okay, so let's change hats one last time.\n",
    "\n",
    "As you have all seen in class, a particularly powerful way of disentangling causal effects from observational data is through matching: making sure we are not comparing apples to oranges.\n",
    "\n",
    "\n",
    "### Task 3.1\n",
    "\n",
    "One of the ways to do matching is called \"Propensity Score Matching.\" There, we calculate a *propensity score* for each subject which represents the propensity to receive a \"treatment.\" Then, we match subjects who received and did not receive the treatment, but that had similar propensity scores (that is, even though some received the treatment and some did not, they had similar chances to receive it).\n",
    "\n",
    "In our specific case, we can further attempt to study the impact of pre-prints by considering publishing to arxiv as our \"treatment\".\n",
    "\n",
    "In that context, the first step to perform propensity score matching is to create a classifier that predicts whether a paper was published on arxiv or not.\n",
    "\n",
    "1. We have trained this classifier for you (don't get spoiled!). You may load the pandas dataframe entitled `propensity_scores.csv.gz` from the github repo. \n",
    "Notice that we will be using only the articles published in 2020. \n",
    "Create a new dataframe that is a merged version of this new dataframe with the dataframe you have been working on so far. Remember to keep only the papers published in 2020!\n",
    "2. **Discuss:** In which way is this classifier (that is a classifier trained to estimate propensity scores) different from the previous classifier that you trained in Step 1?\n",
    "\n",
    "**Hint:** For a classifier tra we don't need a training set and a test set!\n"
   ]
  },
  {
   "cell_type": "code",
   "execution_count": null,
   "metadata": {},
   "outputs": [],
   "source": [
    "### Your code here! ###"
   ]
  },
  {
   "cell_type": "markdown",
   "metadata": {},
   "source": [
    "### Task 3.2\n",
    "\n",
    "Now is time to match users! You will be implementing a technique called *caliper matching*. \n",
    "\n",
    "Create pairs of users as follows. For each treated subject (here a paper that was submitted to arxiv), find a non-treated subject (a paper that was not submitted to arxiv) with similar propensity score. Namely, if the propensity score of the treated unit is $p_t$, you must find a non-treated unit $p_c$ with propensity score $|p_{c} - p_t| < \\epsilon$. If there is no such a non-treated unit, you may ignore the treated unit and move forward with the matching. Notice that your output must be a 1-to-1 matching. So each paper can only be matched once.\n",
    "\n",
    "1. Perform this matching procedure using $\\epsilon = 0.05$.\n",
    "2. Report how many pairs did you manage to match? How many didn't you?"
   ]
  },
  {
   "cell_type": "code",
   "execution_count": null,
   "metadata": {},
   "outputs": [],
   "source": [
    "### Your code here! ###"
   ]
  },
  {
   "cell_type": "markdown",
   "metadata": {
    "pycharm": {
     "name": "#%% md\n"
    }
   },
   "source": [
    "### Task 3.3\n",
    "\n",
    "Let's evaluate your matching! There are more rigorous ways to do it, but we'll go the easy path.\n",
    "\n",
    "\n",
    "1. Using one or several appropriate plot types, visualize the distributions of the variables reputation and ratings, for treated and non-treated subjects that you matched.\n",
    "2. Visualize the distributions of these variables for all papers from 2020 that appeared on arxiv, and all papers that did not (including those you did not manage to match).\n",
    "3. **Discuss:** According to your visual analysis (no statistical tests needed here), did the matching do a good job at balancing covariates?"
   ]
  },
  {
   "cell_type": "code",
   "execution_count": null,
   "metadata": {
    "pycharm": {
     "name": "#%%\n"
    }
   },
   "outputs": [],
   "source": [
    "### Your code here! ###"
   ]
  },
  {
   "cell_type": "markdown",
   "metadata": {
    "pycharm": {
     "name": "#%% md\n"
    }
   },
   "source": [
    "### Task 3.4\n",
    "\n",
    "Finally, it's time to estimate the treatment effect. Given that we have pairs of matched samples, one that received treatment and one that did not, and that they have associated outcomes $y_{treat}$ and $y_{\\neg treat}$. We can calculate the average treatment effect as:\n",
    "\n",
    "$$\n",
    "ATE = \\frac{1}{N} \\sum_i^N  y_{treat}^{(i)} - y_{\\neg treat}^{(i)}\n",
    "$$\n",
    "\n",
    "Notice that here the outcome is a simple binary variable which equals 1 if the paper has been accepted and equals 0 if the paper has been rejected, and $N$ is the total number of matched samples in our analysis.\n",
    "\n",
    "According to your matched sample, estimate the treatment effect of publishing a paper on arxiv. Report the 95% CI through bootstrapping.\n"
   ]
  },
  {
   "cell_type": "code",
   "execution_count": null,
   "metadata": {
    "pycharm": {
     "name": "#%%\n"
    }
   },
   "outputs": [],
   "source": [
    "### Your code here! ###"
   ]
  },
  {
   "cell_type": "markdown",
   "metadata": {
    "pycharm": {
     "name": "#%% md\n"
    }
   },
   "source": [
    "### Task 3.5\n",
    "\n",
    "Wait, but what about prestigious institutions? \n",
    "\n",
    "1.  To understand what is going on there, repeat tasks 3.2 to 3.4 considering *only* the top 10 institutions. Notice that you can use the same propensity scores and re-do the steps in a reduced dataframe containing only top-institutions.\n",
    "2. **Discuss:** Is this evidence that arxiv breaks double-blind submissions?"
   ]
  },
  {
   "cell_type": "code",
   "execution_count": null,
   "metadata": {
    "pycharm": {
     "name": "#%%\n"
    }
   },
   "outputs": [],
   "source": [
    "### Your code here! ###"
   ]
  }
 ],
 "metadata": {
  "kernelspec": {
   "display_name": "Python 3",
   "language": "python",
   "name": "python3"
  },
  "language_info": {
   "codemirror_mode": {
    "name": "ipython",
    "version": 3
   },
   "file_extension": ".py",
   "mimetype": "text/x-python",
   "name": "python",
   "nbconvert_exporter": "python",
   "pygments_lexer": "ipython3",
   "version": "3.7.4"
  },
  "pycharm": {
   "stem_cell": {
    "cell_type": "raw",
    "metadata": {
     "collapsed": false
    },
    "source": []
   }
  }
 },
 "nbformat": 4,
 "nbformat_minor": 4
}
